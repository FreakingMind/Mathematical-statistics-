{
 "cells": [
  {
   "cell_type": "markdown",
   "metadata": {},
   "source": [
    "## $\\chi^2$ simple "
   ]
  },
  {
   "cell_type": "markdown",
   "metadata": {},
   "source": [
    "__Lets generate Poisson sample of different ${\\bf{n}}$ with ${\\bf{\\lambda = 5}}$:__\n"
   ]
  },
  {
   "cell_type": "code",
   "execution_count": 298,
   "metadata": {
    "ExecuteTime": {
     "end_time": "2019-12-14T08:50:23.569684Z",
     "start_time": "2019-12-14T08:50:23.557749Z"
    }
   },
   "outputs": [],
   "source": [
    "from scipy.stats import laplace, poisson\n",
    "import matplotlib.pyplot as plt\n",
    "import numpy as np\n",
    "import matplotlib.pylab as pylab\n",
    "import seaborn as sns\n",
    "sns.set()\n",
    "import pandas as pd\n",
    "import scipy.stats as sts\n",
    "import math"
   ]
  },
  {
   "cell_type": "code",
   "execution_count": 299,
   "metadata": {
    "ExecuteTime": {
     "end_time": "2019-12-14T08:50:23.589669Z",
     "start_time": "2019-12-14T08:50:23.574671Z"
    }
   },
   "outputs": [],
   "source": [
    "p_lambda = 5\n",
    "lpl_mu = 5\n",
    "lpl_lam = 1"
   ]
  },
  {
   "cell_type": "markdown",
   "metadata": {},
   "source": [
    "n = 1000\n"
   ]
  },
  {
   "cell_type": "code",
   "execution_count": 300,
   "metadata": {
    "ExecuteTime": {
     "end_time": "2019-12-14T08:50:23.655482Z",
     "start_time": "2019-12-14T08:50:23.596612Z"
    }
   },
   "outputs": [
    {
     "name": "stdout",
     "output_type": "stream",
     "text": [
      "n = 1000, статистика Пирсона = 9.16, количество степеней свободы = 13\n"
     ]
    }
   ],
   "source": [
    "sample_1000 = poisson.rvs(p_lambda, size=1000)\n",
    "UniqueVal, CountFreq = np.unique(sample_1000, return_counts=True)\n",
    "df = pd.DataFrame({'k': UniqueVal, 'n_k': CountFreq})\n",
    "\n",
    "\n",
    "def probs_pois(x):\n",
    "    d = list(map(lambda z: ((5**z * np.exp(-5)) / math.factorial(z)), x))\n",
    "    return d\n",
    "\n",
    "\n",
    "df['pbility_k'] = probs_pois(UniqueVal)\n",
    "indexNam = df[df['n_k'] < 0.002 * (df['n_k'].sum())].index\n",
    "df.drop(indexNam, inplace=True)\n",
    "df['npbility_k'] = df['n_k'].sum() * df['pbility_k']\n",
    "df['xi'] = (df['n_k'] - df['npbility_k'])**2 / df['npbility_k']\n",
    "print(\n",
    "    f\"{'n = ' +str(len(sample_1000))}, {'статистика Пирсона = '+str(np.around((df['xi']).sum(),2))},{' количество степеней свободы = '+str(len(df['k'])-1)}\"\n",
    ")"
   ]
  },
  {
   "cell_type": "markdown",
   "metadata": {},
   "source": [
    "10000"
   ]
  },
  {
   "cell_type": "code",
   "execution_count": 301,
   "metadata": {
    "ExecuteTime": {
     "end_time": "2019-12-14T08:50:23.701361Z",
     "start_time": "2019-12-14T08:50:23.661474Z"
    },
    "scrolled": true
   },
   "outputs": [
    {
     "name": "stdout",
     "output_type": "stream",
     "text": [
      "n = 10000, статистика Пирсона = 77.04, количество степеней свободы = 13\n"
     ]
    }
   ],
   "source": [
    "sample_10000 = poisson.rvs(p_lambda, size=10000)\n",
    "UniqueVal, CountFreq = np.unique(sample_10000, return_counts=True)\n",
    "df = pd.DataFrame({'k': UniqueVal, 'n_k': CountFreq})\n",
    "\n",
    "\n",
    "def probs_pois(x):\n",
    "    d = list(map(lambda z: ((5**z * np.exp(-5)) / math.factorial(z)), x))\n",
    "    return d\n",
    "\n",
    "\n",
    "df['pbility_k'] = probs_pois(UniqueVal)\n",
    "indexNam = df[df['n_k'] < 0.001 * (df['n_k'].sum())].index\n",
    "df.drop(indexNam, inplace=True)\n",
    "df['npbility_k'] = df['n_k'].sum() * df['pbility_k']\n",
    "df['xi'] = (df['n_k'] - df['npbility_k'])**2 / df['npbility_k']\n",
    "print(\n",
    "    f\"{'n = ' +str(len(sample_10000))}, {'статистика Пирсона = '+str(np.around((df['xi']).sum(),2))},{' количество степеней свободы = '+str(len(df['k'])-1)}\"\n",
    ")"
   ]
  },
  {
   "cell_type": "markdown",
   "metadata": {},
   "source": [
    "100000"
   ]
  },
  {
   "cell_type": "code",
   "execution_count": 302,
   "metadata": {
    "ExecuteTime": {
     "end_time": "2019-12-14T08:50:23.749234Z",
     "start_time": "2019-12-14T08:50:23.704322Z"
    }
   },
   "outputs": [
    {
     "name": "stdout",
     "output_type": "stream",
     "text": [
      "n = 100000, статистика Пирсона = 8.25, количество степеней свободы = 13\n"
     ]
    }
   ],
   "source": [
    "sample_100000 = poisson.rvs(p_lambda, size=100000)\n",
    "UniqueVal, CountFreq = np.unique(sample_100000, return_counts=True)\n",
    "df = pd.DataFrame({'k': UniqueVal, 'n_k': CountFreq})\n",
    "\n",
    "\n",
    "def probs_pois(x):\n",
    "    d = list(map(lambda z: ((5**z * np.exp(-5)) / math.factorial(z)), x))\n",
    "    return d\n",
    "\n",
    "\n",
    "df['pbility_k'] = probs_pois(UniqueVal)\n",
    "indexNam = df[df['n_k'] < 0.001 * (df['n_k'].sum())].index\n",
    "df.drop(indexNam, inplace=True)\n",
    "df['npbility_k'] = df['n_k'].sum() * df['pbility_k']\n",
    "df['xi'] = (df['n_k'] - df['npbility_k'])**2 / df['npbility_k']\n",
    "print(\n",
    "    f\"{'n = ' +str(len(sample_100000))}, {'статистика Пирсона = '+str(np.around((df['xi']).sum(),2))},{' количество степеней свободы = '+str(len(df['k'])-1)}\"\n",
    ")"
   ]
  },
  {
   "cell_type": "markdown",
   "metadata": {},
   "source": [
    "__Laplace distribution with__ ${\\bf{\\lambda =1,\\mu = 5}}$"
   ]
  },
  {
   "cell_type": "code",
   "execution_count": 303,
   "metadata": {
    "ExecuteTime": {
     "end_time": "2019-12-14T08:50:23.764166Z",
     "start_time": "2019-12-14T08:50:23.752194Z"
    }
   },
   "outputs": [],
   "source": [
    "lpl_mu = 5\n",
    "lpl_lam = 1\n",
    "sample_lapl_1000, sample_lapl_10000, sample_lapl_100000 = [], [], []"
   ]
  },
  {
   "cell_type": "markdown",
   "metadata": {},
   "source": [
    "1000 "
   ]
  },
  {
   "cell_type": "code",
   "execution_count": 308,
   "metadata": {
    "ExecuteTime": {
     "end_time": "2019-12-14T08:50:23.872625Z",
     "start_time": "2019-12-14T08:50:23.860843Z"
    }
   },
   "outputs": [],
   "source": [
    "def F_lapl(x):\n",
    "    if x <= lpl_mu:\n",
    "        return 0.5 * np.exp(x - lpl_mu)\n",
    "    else:\n",
    "        return 1 - 0.5 * np.exp(-(x - lpl_mu))"
   ]
  },
  {
   "cell_type": "code",
   "execution_count": 389,
   "metadata": {
    "ExecuteTime": {
     "end_time": "2019-12-14T10:23:06.967417Z",
     "start_time": "2019-12-14T10:23:06.949706Z"
    }
   },
   "outputs": [
    {
     "name": "stdout",
     "output_type": "stream",
     "text": [
      "n = 1000, статистика Пирсона = 16.57, количество степеней свободы = 10\n"
     ]
    }
   ],
   "source": [
    "sample_lapl_1000 = laplace.rvs(scale=lpl_lam, loc=lpl_mu, size=1000)\n",
    "#Using Doanes's formula\n",
    "hist, bin_edges = np.histogram(sample_lapl_1000, bins='doane')\n",
    "#fragmentation by intervals with included left borders\n",
    "ab = bin_edges\n",
    "df_lapl = pd.DataFrame({'midlle_values': (ab[:-1] + ab[1:]) / 2})\n",
    "df_lapl['numbers_in_interval'] = hist\n",
    "last = F_lapl(ab[0])\n",
    "prob = []\n",
    "for i in range(1, len(ab) - 1):\n",
    "    prob.append(np.abs(F_lapl(ab[i]) - last))\n",
    "    last = F_lapl(ab[i])\n",
    "df_lapl['Probability'] = pd.Series(prob)\n",
    "df_lapl.drop(df_lapl.tail(1).index, inplace=True)\n",
    "df_lapl['nProbability'] = df_lapl['numbers_in_interval'].sum(\n",
    ") * df_lapl['Probability']\n",
    "df_lapl['xi'] = (df_lapl['numbers_in_interval'] -\n",
    "                 df_lapl['nProbability'])**2 / df_lapl['nProbability']\n",
    "chi_squared_lapl = df_lapl['xi'].sum()\n",
    "print(\n",
    "    f\"{'n = ' +str(len(sample_lapl_1000))}, {'статистика Пирсона = '+str(np.around((df_lapl['xi']).sum(),2))},{' количество степеней свободы = '+str(len(df_lapl['numbers_in_interval'])-1)}\"\n",
    ")"
   ]
  },
  {
   "cell_type": "code",
   "execution_count": 385,
   "metadata": {
    "ExecuteTime": {
     "end_time": "2019-12-14T10:20:30.921924Z",
     "start_time": "2019-12-14T10:20:30.902947Z"
    }
   },
   "outputs": [
    {
     "name": "stdout",
     "output_type": "stream",
     "text": [
      "n = 10000, статистика Пирсона = 11.78, количество степеней свободы = 15\n"
     ]
    }
   ],
   "source": [
    "sample_lapl_10000 = laplace.rvs(scale=lpl_lam, loc=lpl_mu, size=10000)\n",
    "#Using Doanes's formula\n",
    "hist, bin_edges = np.histogram(sample_lapl_10000, bins='doane')\n",
    "#fragmentation by intervals with included left borders\n",
    "ab = bin_edges\n",
    "df_lapl = pd.DataFrame({'midlle_values': (ab[:-1] + ab[1:]) / 2})\n",
    "df_lapl['numbers_in_interval'] = hist\n",
    "last = F_lapl(ab[0])\n",
    "prob = []\n",
    "for i in range(1, len(ab) - 1):\n",
    "    prob.append(np.abs(F_lapl(ab[i]) - last))\n",
    "    last = F_lapl(ab[i])\n",
    "df_lapl['Probability'] = pd.Series(prob)\n",
    "df_lapl.drop(df_lapl.tail(1).index, inplace=True)\n",
    "df_lapl['nProbability'] = df_lapl['numbers_in_interval'].sum(\n",
    ") * df_lapl['Probability']\n",
    "df_lapl['xi'] = (df_lapl['numbers_in_interval'] -\n",
    "                 df_lapl['nProbability'])**2 / df_lapl['nProbability']\n",
    "chi_squared_lapl = df_lapl['xi'].sum()\n",
    "print(\n",
    "    f\"{'n = ' +str(len(sample_lapl_10000))}, {'статистика Пирсона = '+str(np.around((df_lapl['xi']).sum(),2))},{' количество степеней свободы = '+str(len(df_lapl['numbers_in_interval'])-1)}\"\n",
    ")"
   ]
  },
  {
   "cell_type": "code",
   "execution_count": 573,
   "metadata": {
    "ExecuteTime": {
     "end_time": "2019-12-14T22:28:08.426593Z",
     "start_time": "2019-12-14T22:28:08.395993Z"
    }
   },
   "outputs": [
    {
     "name": "stdout",
     "output_type": "stream",
     "text": [
      "n = 100000, статистика Пирсона = 22.52, количество степеней свободы = 18\n"
     ]
    }
   ],
   "source": [
    "sample_lapl_100000 = laplace.rvs(scale=lpl_lam, loc=lpl_mu, size=100000)\n",
    "#Using Doanes's formula\n",
    "hist, bin_edges = np.histogram(sample_lapl_100000, bins='doane')\n",
    "#fragmentation by intervals with included left borders\n",
    "ab = bin_edges\n",
    "df_lapl = pd.DataFrame({'midlle_values': (ab[:-1] + ab[1:]) / 2})\n",
    "df_lapl['numbers_in_interval'] = hist\n",
    "last = F_lapl(ab[0])\n",
    "prob = []\n",
    "for i in range(1, len(ab) - 1):\n",
    "    prob.append(np.abs(F_lapl(ab[i]) - last))\n",
    "    last = F_lapl(ab[i])\n",
    "df_lapl['Probability'] = pd.Series(prob)\n",
    "df_lapl.drop(df_lapl.tail(1).index, inplace=True)\n",
    "df_lapl['nProbability'] = df_lapl['numbers_in_interval'].sum(\n",
    ") * df_lapl['Probability']\n",
    "df_lapl['xi'] = (df_lapl['numbers_in_interval'] -\n",
    "                 df_lapl['nProbability'])**2 / df_lapl['nProbability']\n",
    "chi_squared_lapl = df_lapl['xi'].sum()\n",
    "print(\n",
    "    f\"{'n = ' +str(len(sample_lapl_100000))}, {'статистика Пирсона = '+str(np.around((df_lapl['xi']).sum(),2))},{' количество степеней свободы = '+str(len(df_lapl['numbers_in_interval'])-1)}\"\n",
    ")"
   ]
  },
  {
   "cell_type": "markdown",
   "metadata": {},
   "source": [
    "### Hard hypothesis $\\chi^2$ Laplace\n"
   ]
  },
  {
   "cell_type": "code",
   "execution_count": 529,
   "metadata": {
    "ExecuteTime": {
     "end_time": "2019-12-14T19:52:04.626662Z",
     "start_time": "2019-12-14T19:52:04.621675Z"
    }
   },
   "outputs": [],
   "source": [
    "def omp_lapl(sample_f):\n",
    "    s = list(map(lambda z: np.abs(z - lpl_mu), sample_f))\n",
    "    return len(sample_f) / np.sum(s)"
   ]
  },
  {
   "cell_type": "code",
   "execution_count": 543,
   "metadata": {
    "ExecuteTime": {
     "end_time": "2019-12-14T20:01:05.361128Z",
     "start_time": "2019-12-14T20:01:05.332204Z"
    }
   },
   "outputs": [
    {
     "data": {
      "text/plain": [
       "1.0082859043260046"
      ]
     },
     "execution_count": 543,
     "metadata": {},
     "output_type": "execute_result"
    }
   ],
   "source": [
    "omp_lapl(sample_lapl_10000)"
   ]
  },
  {
   "cell_type": "code",
   "execution_count": 572,
   "metadata": {
    "ExecuteTime": {
     "end_time": "2019-12-14T22:20:59.838724Z",
     "start_time": "2019-12-14T22:20:59.756949Z"
    }
   },
   "outputs": [
    {
     "name": "stdout",
     "output_type": "stream",
     "text": [
      "n = 1000,оцениваемый параметр = 1.0205 статистика Пирсона = 19.54, количество степеней свободы = 11\n"
     ]
    }
   ],
   "source": [
    "def F_lapl_hard(x):\n",
    "    if x <= lpl_mu:\n",
    "        return 0.5 * np.exp(omp_lapl(sample_lapl_1000) * (x - lpl_mu))\n",
    "    else:\n",
    "        return 1 - 0.5 * np.exp(-omp_lapl(sample_lapl_1000) * (x - lpl_mu))\n",
    "\n",
    "\n",
    "sample_lapl_1000 = laplace.rvs(scale=lpl_lam, loc=lpl_mu, size=1000)\n",
    "#Using Doanes's formula\n",
    "hist, bin_edges = np.histogram(sample_lapl_1000, bins='doane')\n",
    "#fragmentation by intervals with included left borders\n",
    "ab = bin_edges\n",
    "df_lapl = pd.DataFrame({'midlle_values': (ab[:-1] + ab[1:]) / 2})\n",
    "df_lapl['numbers_in_interval'] = hist\n",
    "last = F_lapl_hard(ab[0])\n",
    "prob = []\n",
    "for i in range(1, len(ab) - 1):\n",
    "    prob.append(np.abs(F_lapl_hard(ab[i]) - last))\n",
    "    last = F_lapl_hard(ab[i])\n",
    "df_lapl['Probability'] = pd.Series(prob)\n",
    "df_lapl.drop(df_lapl.tail(1).index, inplace=True)\n",
    "df_lapl['nProbability'] = df_lapl['numbers_in_interval'].sum(\n",
    ") * df_lapl['Probability']\n",
    "df_lapl['xi'] = (df_lapl['numbers_in_interval'] -\n",
    "                 df_lapl['nProbability'])**2 / df_lapl['nProbability']\n",
    "chi_squared_lapl = df_lapl['xi'].sum()\n",
    "print(\n",
    "    f\"{'n = ' +str(len(sample_lapl_1000))},оцениваемый параметр = {np.around(omp_lapl(sample_lapl_1000),4)} {'статистика Пирсона = '+str(np.around((df_lapl['xi']).sum(),2))},{' количество степеней свободы = '+str(len(df_lapl['numbers_in_interval'])-2)}\"\n",
    ")"
   ]
  },
  {
   "cell_type": "code",
   "execution_count": 568,
   "metadata": {
    "ExecuteTime": {
     "end_time": "2019-12-14T22:15:46.182258Z",
     "start_time": "2019-12-14T22:15:45.057094Z"
    }
   },
   "outputs": [
    {
     "name": "stdout",
     "output_type": "stream",
     "text": [
      "n = 10000,оцениваемый параметр = 1.0148 статистика Пирсона = 27.87, количество степеней свободы = 15\n"
     ]
    }
   ],
   "source": [
    "def F_lapl_hard(x):\n",
    "    if x <= lpl_mu:\n",
    "        return 0.5 * np.exp(omp_lapl(sample_lapl_10000) * (x - lpl_mu))\n",
    "    else:\n",
    "        return 1 - 0.5 * np.exp(-omp_lapl(sample_lapl_10000) * (x - lpl_mu))\n",
    "\n",
    "\n",
    "sample_lapl_10000 = laplace.rvs(scale=lpl_lam, loc=lpl_mu, size=10000)\n",
    "#Using Doanes's formula\n",
    "hist, bin_edges = np.histogram(sample_lapl_10000, bins='doane')\n",
    "#fragmentation by intervals with included left borders\n",
    "ab = bin_edges\n",
    "df_lapl = pd.DataFrame({'midlle_values': (ab[:-1] + ab[1:]) / 2})\n",
    "df_lapl['numbers_in_interval'] = hist\n",
    "last = F_lapl_hard(ab[0])\n",
    "prob = []\n",
    "for i in range(1, len(ab) - 1):\n",
    "    prob.append(np.abs(F_lapl_hard(ab[i]) - last))\n",
    "    last = F_lapl_hard(ab[i])\n",
    "df_lapl['Probability'] = pd.Series(prob)\n",
    "df_lapl.drop(df_lapl.tail(1).index, inplace=True)\n",
    "df_lapl['nProbability'] = df_lapl['numbers_in_interval'].sum(\n",
    ") * df_lapl['Probability']\n",
    "df_lapl['xi'] = (df_lapl['numbers_in_interval'] -\n",
    "                 df_lapl['nProbability'])**2 / df_lapl['nProbability']\n",
    "chi_squared_lapl = df_lapl['xi'].sum()\n",
    "print(\n",
    "    f\"{'n = ' +str(len(sample_lapl_10000))},оцениваемый параметр = {np.around(omp_lapl(sample_lapl_10000),4)} {'статистика Пирсона = '+str(np.around((df_lapl['xi']).sum(),2))},{' количество степеней свободы = '+str(len(df_lapl['numbers_in_interval'])-2)}\"\n",
    ")"
   ]
  },
  {
   "cell_type": "code",
   "execution_count": 577,
   "metadata": {
    "ExecuteTime": {
     "end_time": "2019-12-14T22:40:41.528443Z",
     "start_time": "2019-12-14T22:40:29.309397Z"
    }
   },
   "outputs": [
    {
     "name": "stdout",
     "output_type": "stream",
     "text": [
      "n = 100000,оцениваемый параметр = 1.0 статистика Пирсона = 15.28, количество степеней свободы = 16\n"
     ]
    }
   ],
   "source": [
    "def F_lapl_hard(x):\n",
    "    if x <= lpl_mu:\n",
    "        return 0.5 * np.exp(omp_lapl(sample_lapl_100000) * (x - lpl_mu))\n",
    "    else:\n",
    "        return 1 - 0.5 * np.exp(-omp_lapl(sample_lapl_100000) * (x - lpl_mu))\n",
    "\n",
    "\n",
    "sample_lapl_100000 = laplace.rvs(scale=lpl_lam, loc=lpl_mu, size=100000)\n",
    "#Using Doanes's formula\n",
    "hist, bin_edges = np.histogram(sample_lapl_100000, bins='doane')\n",
    "#fragmentation by intervals with included left borders\n",
    "ab = bin_edges\n",
    "df_lapl = pd.DataFrame({'midlle_values': (ab[:-1] + ab[1:]) / 2})\n",
    "df_lapl['numbers_in_interval'] = hist\n",
    "last = F_lapl_hard(ab[0])\n",
    "prob = []\n",
    "for i in range(1, len(ab) - 1):\n",
    "    prob.append(np.abs(F_lapl_hard(ab[i]) - last))\n",
    "    last = F_lapl_hard(ab[i])\n",
    "df_lapl['Probability'] = pd.Series(prob)\n",
    "df_lapl.drop(df_lapl.tail(1).index, inplace=True)\n",
    "df_lapl['nProbability'] = df_lapl['numbers_in_interval'].sum(\n",
    ") * df_lapl['Probability']\n",
    "df_lapl['xi'] = (df_lapl['numbers_in_interval'] -\n",
    "                 df_lapl['nProbability'])**2 / df_lapl['nProbability']\n",
    "chi_squared_lapl = df_lapl['xi'].sum()\n",
    "print(\n",
    "    f\"{'n = ' +str(len(sample_lapl_100000))},оцениваемый параметр = {np.around(omp_lapl(sample_lapl_100000),4)} {'статистика Пирсона = '+str(np.around((df_lapl['xi']).sum(),2))},{' количество степеней свободы = '+str(len(df_lapl['numbers_in_interval'])-2)}\"\n",
    ")"
   ]
  },
  {
   "cell_type": "markdown",
   "metadata": {},
   "source": [
    "### Hard hypothesis $\\chi^2$ Poisson\n"
   ]
  },
  {
   "cell_type": "markdown",
   "metadata": {},
   "source": [
    "n = 1000"
   ]
  },
  {
   "cell_type": "code",
   "execution_count": 516,
   "metadata": {
    "ExecuteTime": {
     "end_time": "2019-12-14T19:42:25.113244Z",
     "start_time": "2019-12-14T19:42:25.092300Z"
    },
    "code_folding": []
   },
   "outputs": [
    {
     "name": "stdout",
     "output_type": "stream",
     "text": [
      "n = 1000, статистика Пирсона = 22.04, оцениваемый параметр = 5.024, количество степеней свободы = 12\n"
     ]
    }
   ],
   "source": [
    "sample_1000 = poisson.rvs(p_lambda, size=1000)\n",
    "\n",
    "\n",
    "def omp_poisson(sample_p):\n",
    "    return np.mean(sample_p)\n",
    "\n",
    "\n",
    "def probs_pois(x):\n",
    "    d = list(\n",
    "        map(\n",
    "            lambda z: ((omp_poisson(sample_1000)**z * np.exp(-omp_poisson(\n",
    "                sample_1000))) / math.factorial(z)), x))\n",
    "    return d\n",
    "\n",
    "\n",
    "UniqueVal, CountFreq = np.unique(sample_1000, return_counts=True)\n",
    "df = pd.DataFrame({'k': UniqueVal, 'n_k': CountFreq})\n",
    "df['pbility_k'] = probs_pois(UniqueVal)\n",
    "indexNam = df[df['n_k'] < 0.001 * (df['n_k'].sum())].index\n",
    "df.drop(indexNam, inplace=True)\n",
    "df['npbility_k'] = df['n_k'].sum() * df['pbility_k']\n",
    "df['xi'] = (df['n_k'] - df['npbility_k'])**2 / df['npbility_k']\n",
    "print(\n",
    "    f\"{'n = ' +str(len(sample_1000))}, {'статистика Пирсона = '+str(np.around((df['xi']).sum(),2))}, {'оцениваемый параметр = ' + str(omp_poisson(sample_1000))},{' количество степеней свободы = '+str(len(df['k'])-2)}\"\n",
    ")"
   ]
  },
  {
   "cell_type": "markdown",
   "metadata": {},
   "source": [
    "n = 10000"
   ]
  },
  {
   "cell_type": "code",
   "execution_count": 476,
   "metadata": {
    "ExecuteTime": {
     "end_time": "2019-12-14T19:29:30.597823Z",
     "start_time": "2019-12-14T19:29:30.581861Z"
    }
   },
   "outputs": [
    {
     "name": "stdout",
     "output_type": "stream",
     "text": [
      "n = 10000, статистика Пирсона = 12.82, оцениваемый параметр = 4.9946, количество степеней свободы = 12\n"
     ]
    }
   ],
   "source": [
    "sample_10000 = poisson.rvs(p_lambda, size=10000)\n",
    "\n",
    "\n",
    "def omp_poisson(sample_p):\n",
    "    return np.mean(sample_p)\n",
    "\n",
    "\n",
    "def probs_pois(x):\n",
    "    d = list(\n",
    "        map(\n",
    "            lambda z: ((omp_poisson(sample_10000)**z * np.exp(-omp_poisson(\n",
    "                sample_10000))) / math.factorial(z)), x))\n",
    "    return d\n",
    "\n",
    "\n",
    "UniqueVal, CountFreq = np.unique(sample_10000, return_counts=True)\n",
    "df = pd.DataFrame({'k': UniqueVal, 'n_k': CountFreq})\n",
    "df['pbility_k'] = probs_pois(UniqueVal)\n",
    "indexNam = df[df['n_k'] < 0.001 * (df['n_k'].sum())].index\n",
    "df.drop(indexNam, inplace=True)\n",
    "df['npbility_k'] = df['n_k'].sum() * df['pbility_k']\n",
    "df['xi'] = (df['n_k'] - df['npbility_k'])**2 / df['npbility_k']\n",
    "print(\n",
    "    f\"{'n = ' +str(len(sample_10000))}, {'статистика Пирсона = '+str(np.around((df['xi']).sum(),2))}, {'оцениваемый параметр = ' + str(omp_poisson(sample_10000))},{' количество степеней свободы = '+str(len(df['k'])-2)}\"\n",
    ")"
   ]
  },
  {
   "cell_type": "code",
   "execution_count": 477,
   "metadata": {
    "ExecuteTime": {
     "end_time": "2019-12-14T19:29:31.990806Z",
     "start_time": "2019-12-14T19:29:31.956896Z"
    }
   },
   "outputs": [
    {
     "name": "stdout",
     "output_type": "stream",
     "text": [
      "n = 100000, статистика Пирсона = 5.77, оцениваемый параметр = 5.00763, количество степеней свободы = 12\n"
     ]
    }
   ],
   "source": [
    "sample_100000 = poisson.rvs(p_lambda, size=100000)\n",
    "\n",
    "\n",
    "def omp_poisson(sample_p):\n",
    "    return np.mean(sample_p)\n",
    "\n",
    "\n",
    "def probs_pois(x):\n",
    "    d = list(\n",
    "        map(\n",
    "            lambda z: ((omp_poisson(sample_100000)**z * np.exp(-omp_poisson(\n",
    "                sample_100000))) / math.factorial(z)), x))\n",
    "    return d\n",
    "\n",
    "\n",
    "UniqueVal, CountFreq = np.unique(sample_100000, return_counts=True)\n",
    "df = pd.DataFrame({'k': UniqueVal, 'n_k': CountFreq})\n",
    "df['pbility_k'] = probs_pois(UniqueVal)\n",
    "indexNam = df[df['n_k'] < 0.001 * (df['n_k'].sum())].index\n",
    "df.drop(indexNam, inplace=True)\n",
    "df['npbility_k'] = df['n_k'].sum() * df['pbility_k']\n",
    "df['xi'] = (df['n_k'] - df['npbility_k'])**2 / df['npbility_k']\n",
    "print(\n",
    "    f\"{'n = ' +str(len(sample_100000))}, {'статистика Пирсона = '+str(np.around((df['xi']).sum(),2))}, {'оцениваемый параметр = ' + str(omp_poisson(sample_100000))},{' количество степеней свободы = '+str(len(df['k'])-2)}\"\n",
    ")"
   ]
  },
  {
   "cell_type": "markdown",
   "metadata": {},
   "source": [
    "## Simple Kolmogorov hypothesis for Laplace"
   ]
  },
  {
   "cell_type": "code",
   "execution_count": 409,
   "metadata": {
    "ExecuteTime": {
     "end_time": "2019-12-14T13:39:57.139753Z",
     "start_time": "2019-12-14T13:39:57.130906Z"
    }
   },
   "outputs": [],
   "source": [
    "from scipy.special import kolmogorov\n",
    "\n",
    "\n",
    "def compute_quntile(cdf, a, y=0.001, max_range=30):\n",
    "    x = np.arange(-1, max_range, y)\n",
    "    for ss in x:\n",
    "        if cdf(ss) < a and cdf(ss + y) > a:\n",
    "            return ss + y\n",
    "\n",
    "\n",
    "def ecdf(x, s):\n",
    "    return s[s <= x].size / s.size"
   ]
  },
  {
   "cell_type": "markdown",
   "metadata": {
    "ExecuteTime": {
     "end_time": "2019-12-14T13:55:08.946781Z",
     "start_time": "2019-12-14T13:55:08.926057Z"
    }
   },
   "source": [
    "n = 1000"
   ]
  },
  {
   "cell_type": "code",
   "execution_count": 460,
   "metadata": {
    "ExecuteTime": {
     "end_time": "2019-12-14T19:12:57.519478Z",
     "start_time": "2019-12-14T19:12:52.074962Z"
    }
   },
   "outputs": [
    {
     "name": "stdout",
     "output_type": "stream",
     "text": [
      "n = 1000,Значение статистики D_n: 1.5, Значение статистики S_n = 1.505, Квантиль = 1.22\n",
      "n = 1000,Значение статистики D_n: 1.5, Значение статистики S_n = 1.505, Квантиль = 1.36\n"
     ]
    }
   ],
   "source": [
    "sample_lapl_1000 = laplace.rvs(scale=lpl_lam, loc=lpl_mu, size=1000)\n",
    "FuL = laplace(scale=lpl_lam, loc=lpl_mu).cdf\n",
    "for alpha in [0.1, 0.05]:\n",
    "    FulN = lambda x: ecdf(x, sample_lapl_1000)\n",
    "    vb = np.arange(-1, 16, 0.001)\n",
    "    D_n = max(map(lambda x: abs(FulN(x) - FuL(x)), vb))\n",
    "    K = lambda x: 1 - kolmogorov(x)\n",
    "    quant = compute_quntile(K, 1 - alpha)\n",
    "    S_n = np.sqrt(\n",
    "        len(sample_lapl_1000)) * D_n + 1 / (6 * np.sqrt(len(sample_lapl_1000)))\n",
    "    print(\n",
    "        f\"{'n = '+ str(len(sample_lapl_1000))},Значение статистики D_n: {np.around(np.sqrt(len(sample_lapl_1000))*D_n,3)},{' Значение статистики S_n = ' + str(np.around(S_n,3))}, Квантиль = {quant:.3}\"\n",
    "    )"
   ]
  },
  {
   "cell_type": "markdown",
   "metadata": {},
   "source": [
    "n = 100\n"
   ]
  },
  {
   "cell_type": "code",
   "execution_count": 473,
   "metadata": {
    "ExecuteTime": {
     "end_time": "2019-12-14T19:29:18.946511Z",
     "start_time": "2019-12-14T19:29:15.927552Z"
    }
   },
   "outputs": [
    {
     "name": "stdout",
     "output_type": "stream",
     "text": [
      "n = 100,Значение статистики D_n: 0.871, Значение статистики S_n = 0.888, Квантиль = 1.22\n",
      "n = 100,Значение статистики D_n: 0.871, Значение статистики S_n = 0.888, Квантиль = 1.36\n"
     ]
    }
   ],
   "source": [
    "sample_lapl_100 = laplace.rvs(scale=lpl_lam, loc=lpl_mu, size=100)\n",
    "FuL = laplace(scale=lpl_lam, loc=lpl_mu).cdf\n",
    "for alpha in [0.1, 0.05]:\n",
    "    FulN = lambda x: ecdf(x, sample_lapl_100)\n",
    "    vb = np.arange(-1, 16, 0.001)\n",
    "    D_n = max(map(lambda x: abs(FulN(x) - FuL(x)), vb))\n",
    "    K = lambda x: 1 - kolmogorov(x)\n",
    "    quant = compute_quntile(K, 1 - alpha)\n",
    "    S_n = np.sqrt(\n",
    "        len(sample_lapl_100)) * D_n + 1 / (6 * np.sqrt(len(sample_lapl_100)))\n",
    "    print(\n",
    "        f\"{'n = '+ str(len(sample_lapl_100))},Значение статистики D_n: {np.around(np.sqrt(len(sample_lapl_100))*D_n,3)},{' Значение статистики S_n = ' + str(np.around(S_n,3))}, Квантиль = {quant:.3}\"\n",
    "    )"
   ]
  },
  {
   "cell_type": "markdown",
   "metadata": {},
   "source": [
    "n  = 10000"
   ]
  },
  {
   "cell_type": "code",
   "execution_count": 464,
   "metadata": {
    "ExecuteTime": {
     "end_time": "2019-12-14T19:15:44.219734Z",
     "start_time": "2019-12-14T19:15:37.477748Z"
    }
   },
   "outputs": [
    {
     "name": "stdout",
     "output_type": "stream",
     "text": [
      "n = 10000,Значение статистики D_n: 0.632, Значение статистики S_n = 0.634, Квантиль = 1.22\n",
      "n = 10000,Значение статистики D_n: 0.632, Значение статистики S_n = 0.634, Квантиль = 1.36\n"
     ]
    }
   ],
   "source": [
    "sample_lapl_10000 = laplace.rvs(scale=lpl_lam, loc=lpl_mu, size=10000)\n",
    "FuL = laplace(scale=lpl_lam, loc=lpl_mu).cdf\n",
    "for alpha in [0.1, 0.05]:\n",
    "    FulN = lambda x: ecdf(x, sample_lapl_10000)\n",
    "    vb = np.arange(-1, 16, 0.001)\n",
    "    D_n = max(map(lambda x: abs(FulN(x) - FuL(x)), vb))\n",
    "    K = lambda x: 1 - kolmogorov(x)\n",
    "    quant = compute_quntile(K, 1 - alpha)\n",
    "    S_n = np.sqrt(len(sample_lapl_10000)) * D_n + 1 / (\n",
    "        6 * np.sqrt(len(sample_lapl_10000)))\n",
    "    print(\n",
    "        f\"{'n = '+ str(len(sample_lapl_10000))},Значение статистики D_n: {np.around(np.sqrt(len(sample_lapl_10000))*D_n,3)},{' Значение статистики S_n = ' + str(np.around(S_n,3))}, Квантиль = {quant:.3}\"\n",
    "    )"
   ]
  },
  {
   "cell_type": "markdown",
   "metadata": {},
   "source": [
    "n = 100000"
   ]
  },
  {
   "cell_type": "code",
   "execution_count": 469,
   "metadata": {
    "ExecuteTime": {
     "end_time": "2019-12-14T19:18:36.189640Z",
     "start_time": "2019-12-14T19:18:15.047155Z"
    }
   },
   "outputs": [
    {
     "name": "stdout",
     "output_type": "stream",
     "text": [
      "n = 100000,Значение статистики D_n: 0.64, Значение статистики S_n = 0.641, Квантиль = 1.22\n",
      "n = 100000,Значение статистики D_n: 0.64, Значение статистики S_n = 0.641, Квантиль = 1.36\n"
     ]
    }
   ],
   "source": [
    "sample_lapl_100000 = laplace.rvs(scale=lpl_lam, loc=lpl_mu, size=100000)\n",
    "FuL = laplace(scale=lpl_lam, loc=lpl_mu).cdf\n",
    "for alpha in [0.1, 0.05]:\n",
    "    FulN = lambda x: ecdf(x, sample_lapl_100000)\n",
    "    vb = np.arange(-1, 16, 0.001)\n",
    "    D_n = max(map(lambda x: abs(FulN(x) - FuL(x)), vb))\n",
    "    K = lambda x: 1 - kolmogorov(x)\n",
    "    quant = compute_quntile(K, 1 - alpha)\n",
    "    S_n = np.sqrt(len(sample_lapl_100000)) * D_n + 1 / (\n",
    "        6 * np.sqrt(len(sample_lapl_100000)))\n",
    "    print(\n",
    "        f\"{'n = '+ str(len(sample_lapl_100000))},Значение статистики D_n: {np.around(np.sqrt(len(sample_lapl_100000))*D_n,3)},{' Значение статистики S_n = ' + str(np.around(S_n,3))}, Квантиль = {quant:.3}\"\n",
    "    )"
   ]
  },
  {
   "cell_type": "markdown",
   "metadata": {},
   "source": [
    "## Hard Kolmogorov hypothesis for Laplace\n",
    "\n"
   ]
  },
  {
   "cell_type": "code",
   "execution_count": 601,
   "metadata": {
    "ExecuteTime": {
     "end_time": "2019-12-15T11:17:48.565718Z",
     "start_time": "2019-12-15T11:17:43.024793Z"
    }
   },
   "outputs": [
    {
     "name": "stdout",
     "output_type": "stream",
     "text": [
      "n = 100,Значение статистики D_n: 1.392, Значение статистики S_n = 1.409,Оцениваемый параметр = 0.9574 Квантиль = 1.22\n",
      "n = 100,Значение статистики D_n: 1.392, Значение статистики S_n = 1.409,Оцениваемый параметр = 0.9574 Квантиль = 1.36\n"
     ]
    }
   ],
   "source": [
    "sample_lapl_100 = laplace.rvs(scale=lpl_lam, loc=lpl_mu, size=100)\n",
    "FuL = laplace(scale= omp_lapl(sample_lapl_100), loc=lpl_mu).cdf\n",
    "for alpha in [0.1, 0.05]:\n",
    "    FulN = lambda x: ecdf(x, sample_lapl_100)\n",
    "    vb = np.arange(-1, 16, 0.001)\n",
    "    D_n = max(map(lambda x: abs(FulN(x) - FuL(x)), vb))\n",
    "    K = lambda x: 1 - kolmogorov(x)\n",
    "    quant = compute_quntile(K, 1 - alpha)\n",
    "    S_n = np.sqrt(\n",
    "        len(sample_lapl_100)) * D_n + 1 / (6 * np.sqrt(len(sample_lapl_100)))\n",
    "    print(\n",
    "        f\"{'n = '+ str(len(sample_lapl_100))},Значение статистики D_n: {np.around(np.sqrt(len(sample_lapl_100))*D_n,3)},{' Значение статистики S_n = ' + str(np.around(S_n,3))},Оцениваемый параметр = {np.around(omp_lapl(sample_lapl_100),4)} Квантиль = {quant:.3}\"\n",
    "    ) "
   ]
  },
  {
   "cell_type": "code",
   "execution_count": 603,
   "metadata": {
    "ExecuteTime": {
     "end_time": "2019-12-15T11:25:00.745281Z",
     "start_time": "2019-12-15T11:24:53.923447Z"
    }
   },
   "outputs": [
    {
     "name": "stdout",
     "output_type": "stream",
     "text": [
      "n = 1000,Значение статистики D_n: 1.357, Значение статистики S_n = 1.362,Оцениваемый параметр = 1.0147 Квантиль = 1.22\n",
      "n = 1000,Значение статистики D_n: 1.357, Значение статистики S_n = 1.362,Оцениваемый параметр = 1.0147 Квантиль = 1.36\n"
     ]
    }
   ],
   "source": [
    "sample_lapl_1000 = laplace.rvs(scale=lpl_lam, loc=lpl_mu, size=1000)\n",
    "FuL = laplace(scale= omp_lapl(sample_lapl_1000), loc=lpl_mu).cdf\n",
    "for alpha in [0.1, 0.05]:\n",
    "    FulN = lambda x: ecdf(x, sample_lapl_1000)\n",
    "    vb = np.arange(-1, 16, 0.001)\n",
    "    D_n = max(map(lambda x: abs(FulN(x) - FuL(x)), vb))\n",
    "    K = lambda x: 1 - kolmogorov(x)\n",
    "    quant = compute_quntile(K, 1 - alpha)\n",
    "    S_n = np.sqrt(\n",
    "        len(sample_lapl_1000)) * D_n + 1 / (6 * np.sqrt(len(sample_lapl_1000)))\n",
    "    print(\n",
    "        f\"{'n = '+ str(len(sample_lapl_1000))},Значение статистики D_n: {np.around(np.sqrt(len(sample_lapl_1000))*D_n,3)},{' Значение статистики S_n = ' + str(np.around(S_n,3))},Оцениваемый параметр = {np.around(omp_lapl(sample_lapl_1000),4)} Квантиль = {quant:.3}\"\n",
    "    )"
   ]
  },
  {
   "cell_type": "code",
   "execution_count": 607,
   "metadata": {
    "ExecuteTime": {
     "end_time": "2019-12-15T11:25:00.745281Z",
     "start_time": "2019-12-15T11:24:53.923447Z"
    }
   },
   "outputs": [
    {
     "name": "stdout",
     "output_type": "stream",
     "text": [
      "n = 10000,Значение статистики D_n: 1.318, Значение статистики S_n = 1.32,Оцениваемый параметр = 0.9903 Квантиль = 1.22\n",
      "n = 10000,Значение статистики D_n: 1.318, Значение статистики S_n = 1.32,Оцениваемый параметр = 0.9903 Квантиль = 1.36\n"
     ]
    }
   ],
   "source": [
    "sample_lapl_10000 = laplace.rvs(scale=lpl_lam, loc=lpl_mu, size=10000)\n",
    "FuL = laplace(scale= omp_lapl(sample_lapl_10000), loc=lpl_mu).cdf\n",
    "for alpha in [0.1, 0.05]:\n",
    "    FulN = lambda x: ecdf(x, sample_lapl_10000)\n",
    "    vb = np.arange(-1, 16, 0.001)\n",
    "    D_n = max(map(lambda x: abs(FulN(x) - FuL(x)), vb))\n",
    "    K = lambda x: 1 - kolmogorov(x)\n",
    "    quant = compute_quntile(K, 1 - alpha)\n",
    "    S_n = np.sqrt(\n",
    "        len(sample_lapl_10000)) * D_n + 1 / (6 * np.sqrt(len(sample_lapl_10000)))\n",
    "    print(\n",
    "        f\"{'n = '+ str(len(sample_lapl_10000))},Значение статистики D_n: {np.around(np.sqrt(len(sample_lapl_10000))*D_n,3)},{' Значение статистики S_n = ' + str(np.around(S_n,3))},Оцениваемый параметр = {np.around(omp_lapl(sample_lapl_10000),4)} Квантиль = {quant:.3}\"\n",
    "    )"
   ]
  },
  {
   "cell_type": "code",
   "execution_count": 609,
   "metadata": {
    "ExecuteTime": {
     "end_time": "2019-12-15T11:28:54.202903Z",
     "start_time": "2019-12-15T11:28:32.820603Z"
    }
   },
   "outputs": [
    {
     "name": "stdout",
     "output_type": "stream",
     "text": [
      "n = 100000,Значение статистики D_n: 0.52, Значение статистики S_n = 0.521,Оцениваемый параметр = 0.9985 Квантиль = 1.22\n",
      "n = 100000,Значение статистики D_n: 0.52, Значение статистики S_n = 0.521,Оцениваемый параметр = 0.9985 Квантиль = 1.36\n"
     ]
    }
   ],
   "source": [
    "sample_lapl_100000 = laplace.rvs(scale=lpl_lam, loc=lpl_mu, size=100000)\n",
    "FuL = laplace(scale= omp_lapl(sample_lapl_100000), loc=lpl_mu).cdf\n",
    "for alpha in [0.1, 0.05]:\n",
    "    FulN = lambda x: ecdf(x, sample_lapl_100000)\n",
    "    vb = np.arange(-1, 16, 0.001)\n",
    "    D_n = max(map(lambda x: abs(FulN(x) - FuL(x)), vb))\n",
    "    K = lambda x: 1 - kolmogorov(x)\n",
    "    quant = compute_quntile(K, 1 - alpha)\n",
    "    S_n = np.sqrt(\n",
    "        len(sample_lapl_100000)) * D_n + 1 / (6 * np.sqrt(len(sample_lapl_100000)))\n",
    "    print(\n",
    "        f\"{'n = '+ str(len(sample_lapl_100000))},Значение статистики D_n: {np.around(np.sqrt(len(sample_lapl_100000))*D_n,3)},{' Значение статистики S_n = ' + str(np.around(S_n,3))},Оцениваемый параметр = {np.around(omp_lapl(sample_lapl_100000),4)} Квантиль = {quant:.3}\"\n",
    "    )"
   ]
  },
  {
   "cell_type": "code",
   "execution_count": null,
   "metadata": {},
   "outputs": [],
   "source": []
  }
 ],
 "metadata": {
  "kernelspec": {
   "display_name": "Python 3",
   "language": "python",
   "name": "python3"
  },
  "language_info": {
   "codemirror_mode": {
    "name": "ipython",
    "version": 3
   },
   "file_extension": ".py",
   "mimetype": "text/x-python",
   "name": "python",
   "nbconvert_exporter": "python",
   "pygments_lexer": "ipython3",
   "version": "3.7.3"
  }
 },
 "nbformat": 4,
 "nbformat_minor": 2
}
