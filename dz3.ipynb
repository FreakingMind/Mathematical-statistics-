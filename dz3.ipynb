{
 "cells": [
  {
   "cell_type": "code",
   "execution_count": 14,
   "metadata": {
    "ExecuteTime": {
     "end_time": "2019-11-29T22:14:46.544283Z",
     "start_time": "2019-11-29T22:14:46.459359Z"
    },
    "scrolled": true
   },
   "outputs": [
    {
     "name": "stdout",
     "output_type": "stream",
     "text": [
      "Mean for sample_5-0 is 5.2\n",
      "Mean for sample_5-1 is 4.6\n",
      "Mean for sample_5-2 is 6.4\n",
      "Mean for sample_5-3 is 5.6\n",
      "Mean for sample_5-4 is 5.8\n",
      "[3 6 8 3 6]\n",
      "[ 2  6 10  3  2]\n",
      "[ 6 11  4  8  3]\n",
      "[6 4 5 7 6]\n",
      "[ 2 10  2  7  8]\n",
      "Mean for sample_10-0 is 5.9\n",
      "Mean for sample_10-1 is 5.1\n",
      "Mean for sample_10-2 is 4.6\n",
      "Mean for sample_10-3 is 5.3\n",
      "Mean for sample_10-4 is 4.7\n",
      "[5 2 5 9 8 5 8 9 6 2]\n",
      "[7 5 7 5 7 1 4 6 5 4]\n",
      "[2 2 3 7 6 5 8 6 3 4]\n",
      "[ 4  5  2  7  0  1 16  3  7  8]\n",
      "[7 5 4 4 5 6 6 1 5 4]\n",
      "Mean for sample_100-0 is 5.15\n",
      "Mean for sample_100-1 is 5.08\n",
      "Mean for sample_100-2 is 4.56\n",
      "Mean for sample_100-3 is 5.07\n",
      "Mean for sample_100-4 is 4.83\n",
      "Mean for sample_1000-0 is 5.001\n",
      "Mean for sample_1000-1 is 4.968\n",
      "Mean for sample_1000-2 is 4.93\n",
      "Mean for sample_1000-3 is 5.118\n",
      "Mean for sample_1000-4 is 5.098\n",
      "Mean for sample_100000-0 is 4.99665\n",
      "Mean for sample_100000-1 is 5.00316\n",
      "Mean for sample_100000-2 is 4.99951\n",
      "Mean for sample_100000-3 is 4.99449\n",
      "Mean for sample_100000-4 is 5.01004\n"
     ]
    }
   ],
   "source": [
    "import numpy as np\n",
    "from scipy.stats import poisson\n",
    "#finding mean\n",
    "samples = [5, 10, 100, 1000, 10**5]\n",
    "p_lambda = 5\n",
    "sample_5,sample_10,sample_100,sample_1000,sample_100000 = [],[],[],[],[]\n",
    "\n",
    "for i in range(5):\n",
    "    sample_5.append(poisson.rvs(p_lambda, size=5))\n",
    "    sample_10.append(poisson.rvs(p_lambda, size=10))\n",
    "    sample_100.append(poisson.rvs(p_lambda, size=100))\n",
    "    sample_1000.append(poisson.rvs(p_lambda, size=1000))\n",
    "    sample_100000.append(poisson.rvs(p_lambda, size=100000))\n",
    "\n",
    "\n",
    "def middle(x):\n",
    "    for i in range(len(x)):\n",
    "        res = np.mean(x[i])\n",
    "        print('Mean for sample_{}-{} is {}'.format(len(x[1]),i,res))\n",
    "middle(sample_5)\n",
    "for i in sample_5:\n",
    "    print(i)\n",
    "middle(sample_10)\n",
    "for i in sample_10:\n",
    "    print(i)\n",
    "middle(sample_100)\n",
    "middle(sample_1000)\n",
    "middle(sample_100000)"
   ]
  },
  {
   "cell_type": "code",
   "execution_count": 31,
   "metadata": {
    "ExecuteTime": {
     "end_time": "2019-11-29T23:15:48.155870Z",
     "start_time": "2019-11-29T23:15:48.146431Z"
    }
   },
   "outputs": [],
   "source": [
    "def middle_1(x):\n",
    "    return np.mean(x)"
   ]
  },
  {
   "cell_type": "code",
   "execution_count": 35,
   "metadata": {
    "ExecuteTime": {
     "end_time": "2019-11-29T23:17:07.628853Z",
     "start_time": "2019-11-29T23:17:07.623451Z"
    }
   },
   "outputs": [],
   "source": [
    "#finding var_mean\n",
    "def var_mean(y):\n",
    "    pp = []\n",
    "    for i in range(len(y)):\n",
    "        s = 0\n",
    "        for j in range(len(y[i])):\n",
    "            s+=(y[i][j]-middle_1(y[i]))**2\n",
    "        pp.append(s/len(y[i]))\n",
    "    return np.round(pp,3)"
   ]
  },
  {
   "cell_type": "code",
   "execution_count": 36,
   "metadata": {
    "ExecuteTime": {
     "end_time": "2019-11-29T23:17:14.228235Z",
     "start_time": "2019-11-29T23:17:14.221943Z"
    }
   },
   "outputs": [
    {
     "data": {
      "text/plain": [
       "array([ 3.76,  9.44,  8.24,  1.04, 10.56])"
      ]
     },
     "execution_count": 36,
     "metadata": {},
     "output_type": "execute_result"
    }
   ],
   "source": [
    "var_mean(sample_5)"
   ]
  },
  {
   "cell_type": "code",
   "execution_count": 37,
   "metadata": {
    "ExecuteTime": {
     "end_time": "2019-11-29T23:17:29.876715Z",
     "start_time": "2019-11-29T23:17:29.868990Z"
    }
   },
   "outputs": [
    {
     "data": {
      "text/plain": [
       "array([ 6.09,  3.09,  4.04, 19.21,  2.41])"
      ]
     },
     "execution_count": 37,
     "metadata": {},
     "output_type": "execute_result"
    }
   ],
   "source": [
    "var_mean(sample_10)"
   ]
  },
  {
   "cell_type": "code",
   "execution_count": 38,
   "metadata": {
    "ExecuteTime": {
     "end_time": "2019-11-29T23:17:36.761715Z",
     "start_time": "2019-11-29T23:17:36.749090Z"
    }
   },
   "outputs": [
    {
     "data": {
      "text/plain": [
       "array([5.928, 5.794, 4.106, 5.145, 4.781])"
      ]
     },
     "execution_count": 38,
     "metadata": {},
     "output_type": "execute_result"
    }
   ],
   "source": [
    "var_mean(sample_100)"
   ]
  },
  {
   "cell_type": "code",
   "execution_count": 39,
   "metadata": {
    "ExecuteTime": {
     "end_time": "2019-11-29T23:17:45.962492Z",
     "start_time": "2019-11-29T23:17:45.870323Z"
    }
   },
   "outputs": [
    {
     "data": {
      "text/plain": [
       "array([4.637, 4.919, 4.943, 5.164, 5.064])"
      ]
     },
     "execution_count": 39,
     "metadata": {},
     "output_type": "execute_result"
    }
   ],
   "source": [
    "var_mean(sample_1000)"
   ]
  },
  {
   "cell_type": "code",
   "execution_count": 40,
   "metadata": {
    "ExecuteTime": {
     "end_time": "2019-11-29T23:19:32.927341Z",
     "start_time": "2019-11-29T23:17:51.999032Z"
    }
   },
   "outputs": [
    {
     "data": {
      "text/plain": [
       "array([4.955, 4.987, 4.989, 5.015, 4.974])"
      ]
     },
     "execution_count": 40,
     "metadata": {},
     "output_type": "execute_result"
    }
   ],
   "source": [
    "var_mean(sample_100000)"
   ]
  },
  {
   "cell_type": "code",
   "execution_count": null,
   "metadata": {},
   "outputs": [],
   "source": []
  }
 ],
 "metadata": {
  "kernelspec": {
   "display_name": "Python 3",
   "language": "python",
   "name": "python3"
  },
  "language_info": {
   "codemirror_mode": {
    "name": "ipython",
    "version": 3
   },
   "file_extension": ".py",
   "mimetype": "text/x-python",
   "name": "python",
   "nbconvert_exporter": "python",
   "pygments_lexer": "ipython3",
   "version": "3.7.3"
  }
 },
 "nbformat": 4,
 "nbformat_minor": 2
}
