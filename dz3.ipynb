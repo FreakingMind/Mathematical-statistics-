{
 "cells": [
  {
   "cell_type": "code",
   "execution_count": 41,
   "metadata": {
    "ExecuteTime": {
     "end_time": "2019-11-30T04:29:44.707853Z",
     "start_time": "2019-11-30T04:29:44.400889Z"
    },
    "scrolled": false
   },
   "outputs": [
    {
     "name": "stdout",
     "output_type": "stream",
     "text": [
      "Mean for sample_5-0 is 6.4\n",
      "Mean for sample_5-1 is 4.6\n",
      "Mean for sample_5-2 is 5.8\n",
      "Mean for sample_5-3 is 5.0\n",
      "Mean for sample_5-4 is 5.8\n",
      "Sample_5:\n",
      "[5 6 7 9 5]\n",
      "[5 6 4 4 4]\n",
      "[10  6  8  1  4]\n",
      "[ 5  4 10  4  2]\n",
      "[4 5 6 8 6]\n",
      "Mean for sample_10-0 is 5.4\n",
      "Mean for sample_10-1 is 5.6\n",
      "Mean for sample_10-2 is 5.2\n",
      "Mean for sample_10-3 is 6.1\n",
      "Mean for sample_10-4 is 5.1\n",
      "Sample_10:\n",
      "[ 6  3  3  8  4  4  3  5 10  8]\n",
      "[9 8 3 5 5 5 5 5 5 6]\n",
      "[7 8 5 5 5 6 3 2 6 5]\n",
      "[ 6  5 11  5  4  4  8  4  8  6]\n",
      "[ 6  6  4  7  5  1 10  5  4  3]\n",
      "Mean for sample_100-0 is 5.09\n",
      "Mean for sample_100-1 is 4.84\n",
      "Mean for sample_100-2 is 4.9\n",
      "Mean for sample_100-3 is 5.16\n",
      "Mean for sample_100-4 is 5.11\n",
      "Mean for sample_1000-0 is 4.941\n",
      "Mean for sample_1000-1 is 4.946\n",
      "Mean for sample_1000-2 is 5.045\n",
      "Mean for sample_1000-3 is 4.988\n",
      "Mean for sample_1000-4 is 4.937\n",
      "Mean for sample_100000-0 is 4.99706\n",
      "Mean for sample_100000-1 is 4.99739\n",
      "Mean for sample_100000-2 is 5.01146\n",
      "Mean for sample_100000-3 is 4.99991\n",
      "Mean for sample_100000-4 is 4.99372\n"
     ]
    }
   ],
   "source": [
    "import numpy as np\n",
    "from scipy.stats import poisson\n",
    "#finding mean\n",
    "samples = [5, 10, 100, 1000, 10**5]\n",
    "p_lambda = 5\n",
    "sample_5,sample_10,sample_100,sample_1000,sample_100000 = [],[],[],[],[]\n",
    "\n",
    "for i in range(5):\n",
    "    sample_5.append(poisson.rvs(p_lambda, size=5))\n",
    "    sample_10.append(poisson.rvs(p_lambda, size=10))\n",
    "    sample_100.append(poisson.rvs(p_lambda, size=100))\n",
    "    sample_1000.append(poisson.rvs(p_lambda, size=1000))\n",
    "    sample_100000.append(poisson.rvs(p_lambda, size=100000))\n",
    "\n",
    "\n",
    "def middle(x):\n",
    "    for i in range(len(x)):\n",
    "        res = np.mean(x[i])\n",
    "        print('Mean for sample_{}-{} is {}'.format(len(x[1]),i,res))\n",
    "middle(sample_5)\n",
    "print('Sample_5:')\n",
    "for i in sample_5:\n",
    "    print(i)\n",
    "middle(sample_10)\n",
    "print('Sample_10:')\n",
    "for i in sample_10:\n",
    "    print(i)\n",
    "middle(sample_100)\n",
    "middle(sample_1000)\n",
    "middle(sample_100000)"
   ]
  },
  {
   "cell_type": "code",
   "execution_count": 31,
   "metadata": {
    "ExecuteTime": {
     "end_time": "2019-11-29T23:15:48.155870Z",
     "start_time": "2019-11-29T23:15:48.146431Z"
    }
   },
   "outputs": [],
   "source": [
    "def middle_1(x):\n",
    "    return np.mean(x)"
   ]
  },
  {
   "cell_type": "code",
   "execution_count": 35,
   "metadata": {
    "ExecuteTime": {
     "end_time": "2019-11-29T23:17:07.628853Z",
     "start_time": "2019-11-29T23:17:07.623451Z"
    }
   },
   "outputs": [],
   "source": [
    "#finding var_mean\n",
    "def var_mean(y):\n",
    "    pp = []\n",
    "    for i in range(len(y)):\n",
    "        s = 0\n",
    "        for j in range(len(y[i])):\n",
    "            s+=(y[i][j]-middle_1(y[i]))**2\n",
    "        pp.append(s/len(y[i]))\n",
    "    return np.round(pp,3)"
   ]
  },
  {
   "cell_type": "code",
   "execution_count": 43,
   "metadata": {
    "ExecuteTime": {
     "end_time": "2019-11-30T04:36:29.471864Z",
     "start_time": "2019-11-30T04:35:02.444095Z"
    }
   },
   "outputs": [
    {
     "name": "stdout",
     "output_type": "stream",
     "text": [
      "[2.24 0.64 9.76 7.2  1.76] sample_5\n",
      "[5.64 2.64 2.76 4.69 5.29] sample_10\n",
      "[4.642 4.594 4.03  4.494 6.018] sample_100\n",
      "[5.216 5.065 4.943 5.056 5.165] sample_1000\n",
      "[5.013 4.953 5.03  5.021 5.014] sample_100000\n"
     ]
    }
   ],
   "source": [
    "print(var_mean(sample_5),'sample_5')\n",
    "print(var_mean(sample_10),'sample_10')\n",
    "print(var_mean(sample_100),'sample_100')\n",
    "print(var_mean(sample_1000),'sample_1000')\n",
    "print(var_mean(sample_100000),'sample_100000')\n",
    "\n"
   ]
  },
  {
   "cell_type": "code",
   "execution_count": 45,
   "metadata": {
    "ExecuteTime": {
     "end_time": "2019-11-30T10:47:36.114913Z",
     "start_time": "2019-11-30T10:47:35.557573Z"
    },
    "scrolled": false
   },
   "outputs": [
    {
     "name": "stdout",
     "output_type": "stream",
     "text": [
      "Mean for sample_5-0 is 5.323129086347488\n",
      "Mean for sample_5-1 is 5.072310532628606\n",
      "Mean for sample_5-2 is 4.605926815000022\n",
      "Mean for sample_5-3 is 6.173585757321186\n",
      "Mean for sample_5-4 is 5.326721998222662\n",
      "Sample_5:\n",
      "[3.31984428 5.76660291 5.63071863 6.104051   5.79442861]\n",
      "[5.76662153 6.74412311 7.34859686 4.62465771 0.87755346]\n",
      "[5.02862784 4.78786064 2.83184038 5.36520391 5.01610131]\n",
      "[4.5289372  6.96813212 3.7073814  6.16627731 9.49720075]\n",
      "[4.48788657 4.83093241 7.18565682 5.87030324 4.25883095]\n",
      "Mean for sample_10-0 is 5.031810409002863\n",
      "Mean for sample_10-1 is 5.136918746981531\n",
      "Mean for sample_10-2 is 4.5429149552410015\n",
      "Mean for sample_10-3 is 4.887534471698774\n",
      "Mean for sample_10-4 is 5.376532216599213\n",
      "Sample_10:\n",
      "[4.47185716 8.8957439  4.94146946 3.70985033 4.20063234 3.83089616\n",
      " 7.3859202  4.71188536 3.02500636 5.14484284]\n",
      "[5.49617241 3.60206932 4.59703293 2.96128007 3.60968766 5.46568541\n",
      " 6.49825493 4.64328889 6.21839249 8.27732336]\n",
      "[5.31794792 5.91946578 5.13263359 4.04666787 4.86995288 4.7538974\n",
      " 2.85659745 3.71468986 4.59774077 4.21955604]\n",
      "[6.32511833 4.36747657 4.54169589 4.15295925 2.38864103 4.50497099\n",
      " 3.4298113  5.49717398 8.49338914 5.17410823]\n",
      "[4.54486174 3.62635373 4.3208114  5.54021283 5.65133585 4.71729102\n",
      " 9.10146735 6.03929426 5.32113954 4.90255444]\n",
      "Mean for sample_100-0 is 5.096244283853958\n",
      "Mean for sample_100-1 is 4.800421585900453\n",
      "Mean for sample_100-2 is 5.023470722017924\n",
      "Mean for sample_100-3 is 5.1297097740238415\n",
      "Mean for sample_100-4 is 5.1538595824764055\n",
      "Mean for sample_1000-0 is 5.005924898290766\n",
      "Mean for sample_1000-1 is 4.858983701366158\n",
      "Mean for sample_1000-2 is 4.945294780839814\n",
      "Mean for sample_1000-3 is 5.051666536448816\n",
      "Mean for sample_1000-4 is 5.006794076502612\n",
      "Mean for sample_100000-0 is 5.003860962119645\n",
      "Mean for sample_100000-1 is 5.004385908042229\n",
      "Mean for sample_100000-2 is 5.004256223171434\n",
      "Mean for sample_100000-3 is 5.001392927554107\n",
      "Mean for sample_100000-4 is 4.998258716731533\n"
     ]
    }
   ],
   "source": [
    "import numpy as np\n",
    "from scipy.stats import poisson, laplace\n",
    "#finding mean\n",
    "samples = [5, 10, 100, 1000, 10**5]\n",
    "p_lambda = 5\n",
    "sample_5,sample_10,sample_100,sample_1000,sample_100000 = [],[],[],[],[]\n",
    "\n",
    "for i in range(5):\n",
    "    sample_5.append(laplace.rvs(p_lambda, size=5))\n",
    "    sample_10.append(laplace.rvs(p_lambda, size=10))\n",
    "    sample_100.append(laplace.rvs(p_lambda, size=100))\n",
    "    sample_1000.append(laplace.rvs(p_lambda, size=1000))\n",
    "    sample_100000.append(laplace.rvs(p_lambda, size=100000))\n",
    "\n",
    "\n",
    "def middle(x):\n",
    "    for i in range(len(x)):\n",
    "        res = np.mean(x[i])\n",
    "        print('Mean for sample_{}-{} is {}'.format(len(x[1]),i,res))\n",
    "middle(sample_5)\n",
    "print('Sample_5:')\n",
    "for i in sample_5:\n",
    "    print(i)\n",
    "middle(sample_10)\n",
    "print('Sample_10:')\n",
    "for i in sample_10:\n",
    "    print(i)\n",
    "middle(sample_100)\n",
    "middle(sample_1000)\n",
    "middle(sample_100000)"
   ]
  },
  {
   "cell_type": "code",
   "execution_count": 46,
   "metadata": {
    "ExecuteTime": {
     "end_time": "2019-11-30T10:49:23.431495Z",
     "start_time": "2019-11-30T10:48:38.206380Z"
    }
   },
   "outputs": [
    {
     "name": "stdout",
     "output_type": "stream",
     "text": [
      "[1.027 5.251 0.821 4.093 1.168] sample_5\n",
      "[2.882 2.308 0.688 2.497 1.995] sample_10\n",
      "[1.299 1.55  2.349 1.546 2.149] sample_100\n",
      "[1.927 1.971 2.324 1.781 2.01 ] sample_1000\n",
      "[2.011 2.015 1.997 1.994 2.015] sample_100000\n"
     ]
    }
   ],
   "source": [
    "print(var_mean(sample_5),'sample_5')\n",
    "print(var_mean(sample_10),'sample_10')\n",
    "print(var_mean(sample_100),'sample_100')\n",
    "print(var_mean(sample_1000),'sample_1000')\n",
    "print(var_mean(sample_100000),'sample_100000')\n",
    "\n"
   ]
  },
  {
   "cell_type": "code",
   "execution_count": null,
   "metadata": {},
   "outputs": [],
   "source": []
  }
 ],
 "metadata": {
  "kernelspec": {
   "display_name": "Python 3",
   "language": "python",
   "name": "python3"
  },
  "language_info": {
   "codemirror_mode": {
    "name": "ipython",
    "version": 3
   },
   "file_extension": ".py",
   "mimetype": "text/x-python",
   "name": "python",
   "nbconvert_exporter": "python",
   "pygments_lexer": "ipython3",
   "version": "3.7.3"
  }
 },
 "nbformat": 4,
 "nbformat_minor": 2
}
