{
 "cells": [
  {
   "cell_type": "markdown",
   "metadata": {},
   "source": [
    "## $\\chi^2$ simple "
   ]
  },
  {
   "cell_type": "markdown",
   "metadata": {},
   "source": [
    "__Lets generate Poisson sample of different ${\\bf{n}}$ with ${\\bf{\\lambda = 5}}$:__\n"
   ]
  },
  {
   "cell_type": "code",
   "execution_count": 2,
   "metadata": {
    "ExecuteTime": {
     "end_time": "2019-12-17T21:12:49.806083Z",
     "start_time": "2019-12-17T21:12:45.926761Z"
    }
   },
   "outputs": [],
   "source": [
    "from scipy.stats import laplace, poisson\n",
    "import matplotlib.pyplot as plt\n",
    "import numpy as np\n",
    "import matplotlib.pylab as pylab\n",
    "import seaborn as sns\n",
    "sns.set()\n",
    "import pandas as pd\n",
    "import scipy.stats as sts\n",
    "import math"
   ]
  },
  {
   "cell_type": "code",
   "execution_count": 3,
   "metadata": {
    "ExecuteTime": {
     "end_time": "2019-12-17T21:13:10.717480Z",
     "start_time": "2019-12-17T21:13:10.712103Z"
    }
   },
   "outputs": [],
   "source": [
    "p_lambda = 5\n",
    "lpl_mu = 5\n",
    "lpl_lam = 1"
   ]
  },
  {
   "cell_type": "markdown",
   "metadata": {},
   "source": [
    "n = 5"
   ]
  },
  {
   "cell_type": "code",
   "execution_count": 43,
   "metadata": {
    "ExecuteTime": {
     "end_time": "2019-12-17T21:32:10.263310Z",
     "start_time": "2019-12-17T21:32:10.251346Z"
    }
   },
   "outputs": [
    {
     "name": "stdout",
     "output_type": "stream",
     "text": [
      "n = 5, статистика Пирсона = 9.68, количество степеней свободы = 2\n"
     ]
    }
   ],
   "source": [
    "sample_5 = poisson.rvs(p_lambda, size=5)\n",
    "UniqueVal, CountFreq = np.unique(sample_5, return_counts=True)\n",
    "df = pd.DataFrame({'k': UniqueVal, 'n_k': CountFreq})\n",
    "\n",
    "\n",
    "def probs_pois(x):\n",
    "    d = list(map(lambda z: ((5**z * np.exp(-5)) / math.factorial(z)), x))\n",
    "    return d\n",
    "\n",
    "\n",
    "df['pbility_k'] = probs_pois(UniqueVal)\n",
    "df['npbility_k'] = df['n_k'].sum() * df['pbility_k']\n",
    "df['xi'] = (df['n_k'] - df['npbility_k'])**2 / df['npbility_k']\n",
    "print(\n",
    "    f\"{'n = ' +str(len(sample_5))}, {'статистика Пирсона = '+str(np.around((df['xi']).sum(),2))},{' количество степеней свободы = '+str(len(df['k'])-1)}\"\n",
    ")"
   ]
  },
  {
   "cell_type": "markdown",
   "metadata": {},
   "source": [
    "Сheck hypothesis $\\lambda = 6\n",
    "$\n"
   ]
  },
  {
   "cell_type": "code",
   "execution_count": 137,
   "metadata": {
    "ExecuteTime": {
     "end_time": "2019-12-17T22:15:53.163771Z",
     "start_time": "2019-12-17T22:15:53.151804Z"
    }
   },
   "outputs": [
    {
     "name": "stdout",
     "output_type": "stream",
     "text": [
      "n = 5, статистика Пирсона = 3.96, количество степеней свободы = 3\n"
     ]
    }
   ],
   "source": [
    "sample_5 = poisson.rvs(p_lambda, size=5)\n",
    "UniqueVal, CountFreq = np.unique(sample_5, return_counts=True)\n",
    "df = pd.DataFrame({'k': UniqueVal, 'n_k': CountFreq})\n",
    "\n",
    "\n",
    "def probs_pois(x):\n",
    "    d = list(map(lambda z: ((6**z * np.exp(-6)) / math.factorial(z)), x))\n",
    "    return d\n",
    "\n",
    "\n",
    "df['pbility_k'] = probs_pois(UniqueVal)\n",
    "df['npbility_k'] = df['n_k'].sum() * df['pbility_k']\n",
    "df['xi'] = (df['n_k'] - df['npbility_k'])**2 / df['npbility_k']\n",
    "print(\n",
    "    f\"{'n = ' +str(len(sample_5))}, {'статистика Пирсона = '+str(np.around((df['xi']).sum(),2))},{' количество степеней свободы = '+str(len(df['k'])-1)}\"\n",
    ")"
   ]
  },
  {
   "cell_type": "markdown",
   "metadata": {},
   "source": [
    "n = 10"
   ]
  },
  {
   "cell_type": "code",
   "execution_count": 88,
   "metadata": {
    "ExecuteTime": {
     "end_time": "2019-12-17T21:41:19.993613Z",
     "start_time": "2019-12-17T21:41:19.981787Z"
    }
   },
   "outputs": [
    {
     "name": "stdout",
     "output_type": "stream",
     "text": [
      "n = 10, статистика Пирсона = 3.48, количество степеней свободы = 4\n"
     ]
    }
   ],
   "source": [
    "sample10 = poisson.rvs(p_lambda, size=10)\n",
    "UniqueVal, CountFreq = np.unique(sample10, return_counts=True)\n",
    "df = pd.DataFrame({'k': UniqueVal, 'n_k': CountFreq})\n",
    "\n",
    "\n",
    "def probs_pois(x):\n",
    "    d = list(map(lambda z: ((5**z * np.exp(-5)) / math.factorial(z)), x))\n",
    "    return d\n",
    "\n",
    "\n",
    "df['pbility_k'] = probs_pois(UniqueVal)\n",
    "# indexNam = df[df['n_k'] < 0.002 * (df['n_k'].sum())].index\n",
    "# df.drop(indexNam, inplace=True)\n",
    "df['npbility_k'] = df['n_k'].sum() * df['pbility_k']\n",
    "df['xi'] = (df['n_k'] - df['npbility_k'])**2 / df['npbility_k']\n",
    "print(\n",
    "    f\"{'n = ' +str(len(sample10))}, {'статистика Пирсона = '+str(np.around((df['xi']).sum(),2))},{' количество степеней свободы = '+str(len(df['k'])-1)}\"\n",
    ")"
   ]
  },
  {
   "cell_type": "markdown",
   "metadata": {},
   "source": [
    "Сheck hypothesis $\\lambda = 6\n",
    "$\n"
   ]
  },
  {
   "cell_type": "code",
   "execution_count": 150,
   "metadata": {
    "ExecuteTime": {
     "end_time": "2019-12-17T22:18:01.665557Z",
     "start_time": "2019-12-17T22:18:01.653567Z"
    }
   },
   "outputs": [
    {
     "name": "stdout",
     "output_type": "stream",
     "text": [
      "n = 10, статистика Пирсона = 4.47, количество степеней свободы = 5\n"
     ]
    }
   ],
   "source": [
    "sample_10 = poisson.rvs(p_lambda, size=10)\n",
    "UniqueVal, CountFreq = np.unique(sample_10, return_counts=True)\n",
    "df = pd.DataFrame({'k': UniqueVal, 'n_k': CountFreq})\n",
    "\n",
    "\n",
    "def probs_pois(x):\n",
    "    d = list(map(lambda z: ((6**z * np.exp(-6)) / math.factorial(z)), x))\n",
    "    return d\n",
    "\n",
    "\n",
    "df['pbility_k'] = probs_pois(UniqueVal)\n",
    "df['npbility_k'] = df['n_k'].sum() * df['pbility_k']\n",
    "df['xi'] = (df['n_k'] - df['npbility_k'])**2 / df['npbility_k']\n",
    "print(\n",
    "    f\"{'n = ' +str(len(sample_10))}, {'статистика Пирсона = '+str(np.around((df['xi']).sum(),2))},{' количество степеней свободы = '+str(len(df['k'])-1)}\"\n",
    ")"
   ]
  },
  {
   "cell_type": "markdown",
   "metadata": {},
   "source": [
    "n = 100\n"
   ]
  },
  {
   "cell_type": "code",
   "execution_count": 87,
   "metadata": {
    "ExecuteTime": {
     "end_time": "2019-12-17T21:41:16.046280Z",
     "start_time": "2019-12-17T21:41:16.030845Z"
    }
   },
   "outputs": [
    {
     "name": "stdout",
     "output_type": "stream",
     "text": [
      "n = 100, статистика Пирсона = 5.7, количество степеней свободы = 10\n"
     ]
    }
   ],
   "source": [
    "sample100 = poisson.rvs(p_lambda, size=100)\n",
    "UniqueVal, CountFreq = np.unique(sample100, return_counts=True)\n",
    "df = pd.DataFrame({'k': UniqueVal, 'n_k': CountFreq})\n",
    "\n",
    "\n",
    "def probs_pois(x):\n",
    "    d = list(map(lambda z: ((5**z * np.exp(-5)) / math.factorial(z)), x))\n",
    "    return d\n",
    "\n",
    "\n",
    "df['pbility_k'] = probs_pois(UniqueVal)\n",
    "indexNam = df[df['n_k'] < 0.002 * (df['n_k'].sum())].index\n",
    "df.drop(indexNam, inplace=True)\n",
    "df['npbility_k'] = df['n_k'].sum() * df['pbility_k']\n",
    "df['xi'] = (df['n_k'] - df['npbility_k'])**2 / df['npbility_k']\n",
    "print(\n",
    "    f\"{'n = ' +str(len(sample100))}, {'статистика Пирсона = '+str(np.around((df['xi']).sum(),2))},{' количество степеней свободы = '+str(len(df['k'])-1)}\"\n",
    ")"
   ]
  },
  {
   "cell_type": "markdown",
   "metadata": {},
   "source": [
    "Сheck hypothesis $\\lambda = 6\n",
    "$\n"
   ]
  },
  {
   "cell_type": "code",
   "execution_count": 162,
   "metadata": {
    "ExecuteTime": {
     "end_time": "2019-12-17T22:20:08.098306Z",
     "start_time": "2019-12-17T22:20:08.085344Z"
    }
   },
   "outputs": [
    {
     "name": "stdout",
     "output_type": "stream",
     "text": [
      "n = 100, статистика Пирсона = 15.32, количество степеней свободы = 10\n"
     ]
    }
   ],
   "source": [
    "sample_100 = poisson.rvs(p_lambda, size=100)\n",
    "UniqueVal, CountFreq = np.unique(sample_100, return_counts=True)\n",
    "df = pd.DataFrame({'k': UniqueVal, 'n_k': CountFreq})\n",
    "\n",
    "\n",
    "def probs_pois(x):\n",
    "    d = list(map(lambda z: ((6**z * np.exp(-6)) / math.factorial(z)), x))\n",
    "    return d\n",
    "\n",
    "\n",
    "df['pbility_k'] = probs_pois(UniqueVal)\n",
    "df['npbility_k'] = df['n_k'].sum() * df['pbility_k']\n",
    "df['xi'] = (df['n_k'] - df['npbility_k'])**2 / df['npbility_k']\n",
    "print(\n",
    "    f\"{'n = ' +str(len(sample_100))}, {'статистика Пирсона = '+str(np.around((df['xi']).sum(),2))},{' количество степеней свободы = '+str(len(df['k'])-1)}\"\n",
    ")"
   ]
  },
  {
   "cell_type": "markdown",
   "metadata": {},
   "source": [
    "n = 1000\n"
   ]
  },
  {
   "cell_type": "code",
   "execution_count": 164,
   "metadata": {
    "ExecuteTime": {
     "end_time": "2019-12-17T22:20:38.299465Z",
     "start_time": "2019-12-17T22:20:38.283478Z"
    }
   },
   "outputs": [
    {
     "name": "stdout",
     "output_type": "stream",
     "text": [
      "n = 1000, статистика Пирсона = 6.99, количество степеней свободы = 13\n"
     ]
    }
   ],
   "source": [
    "sample_1000 = poisson.rvs(p_lambda, size=1000)\n",
    "UniqueVal, CountFreq = np.unique(sample_1000, return_counts=True)\n",
    "df = pd.DataFrame({'k': UniqueVal, 'n_k': CountFreq})\n",
    "\n",
    "\n",
    "def probs_pois(x):\n",
    "    d = list(map(lambda z: ((5**z * np.exp(-5)) / math.factorial(z)), x))\n",
    "    return d\n",
    "\n",
    "\n",
    "df['pbility_k'] = probs_pois(UniqueVal)\n",
    "indexNam = df[df['n_k'] < 0.002 * (df['n_k'].sum())].index\n",
    "df.drop(indexNam, inplace=True)\n",
    "df['npbility_k'] = df['n_k'].sum() * df['pbility_k']\n",
    "df['xi'] = (df['n_k'] - df['npbility_k'])**2 / df['npbility_k']\n",
    "print(\n",
    "    f\"{'n = ' +str(len(sample_1000))}, {'статистика Пирсона = '+str(np.around((df['xi']).sum(),2))},{' количество степеней свободы = '+str(len(df['k'])-1)}\"\n",
    ")"
   ]
  },
  {
   "cell_type": "markdown",
   "metadata": {},
   "source": [
    "Сheck hypothesis $\\lambda = 6\n",
    "$\n"
   ]
  },
  {
   "cell_type": "code",
   "execution_count": 176,
   "metadata": {
    "ExecuteTime": {
     "end_time": "2019-12-17T22:22:18.190750Z",
     "start_time": "2019-12-17T22:22:18.174793Z"
    }
   },
   "outputs": [
    {
     "name": "stdout",
     "output_type": "stream",
     "text": [
      "n = 1000, статистика Пирсона = 289.22, количество степеней свободы = 13\n"
     ]
    }
   ],
   "source": [
    "sample_1000 = poisson.rvs(p_lambda, size=1000)\n",
    "UniqueVal, CountFreq = np.unique(sample_1000, return_counts=True)\n",
    "df = pd.DataFrame({'k': UniqueVal, 'n_k': CountFreq})\n",
    "\n",
    "\n",
    "def probs_pois(x):\n",
    "    d = list(map(lambda z: ((6**z * np.exp(-6)) / math.factorial(z)), x))\n",
    "    return d\n",
    "\n",
    "\n",
    "df['pbility_k'] = probs_pois(UniqueVal)\n",
    "indexNam = df[df['n_k'] < 0.001 * (df['n_k'].sum())].index\n",
    "df.drop(indexNam, inplace=True)\n",
    "df['npbility_k'] = df['n_k'].sum() * df['pbility_k']\n",
    "df['xi'] = (df['n_k'] - df['npbility_k'])**2 / df['npbility_k']\n",
    "print(\n",
    "    f\"{'n = ' +str(len(sample_1000))}, {'статистика Пирсона = '+str(np.around((df['xi']).sum(),2))},{' количество степеней свободы = '+str(len(df['k'])-1)}\"\n",
    ")"
   ]
  },
  {
   "cell_type": "markdown",
   "metadata": {},
   "source": [
    "10000"
   ]
  },
  {
   "cell_type": "code",
   "execution_count": 301,
   "metadata": {
    "ExecuteTime": {
     "end_time": "2019-12-14T08:50:23.701361Z",
     "start_time": "2019-12-14T08:50:23.661474Z"
    },
    "scrolled": true
   },
   "outputs": [
    {
     "name": "stdout",
     "output_type": "stream",
     "text": [
      "n = 10000, статистика Пирсона = 77.04, количество степеней свободы = 13\n"
     ]
    }
   ],
   "source": [
    "sample_10000 = poisson.rvs(p_lambda, size=10000)\n",
    "UniqueVal, CountFreq = np.unique(sample_10000, return_counts=True)\n",
    "df = pd.DataFrame({'k': UniqueVal, 'n_k': CountFreq})\n",
    "\n",
    "\n",
    "def probs_pois(x):\n",
    "    d = list(map(lambda z: ((5**z * np.exp(-5)) / math.factorial(z)), x))\n",
    "    return d\n",
    "\n",
    "\n",
    "df['pbility_k'] = probs_pois(UniqueVal)\n",
    "indexNam = df[df['n_k'] < 0.001 * (df['n_k'].sum())].index\n",
    "df.drop(indexNam, inplace=True)\n",
    "df['npbility_k'] = df['n_k'].sum() * df['pbility_k']\n",
    "df['xi'] = (df['n_k'] - df['npbility_k'])**2 / df['npbility_k']\n",
    "print(\n",
    "    f\"{'n = ' +str(len(sample_10000))}, {'статистика Пирсона = '+str(np.around((df['xi']).sum(),2))},{' количество степеней свободы = '+str(len(df['k'])-1)}\"\n",
    ")"
   ]
  },
  {
   "cell_type": "markdown",
   "metadata": {},
   "source": [
    "Сheck hypothesis $\\lambda = 6\n",
    "$\n"
   ]
  },
  {
   "cell_type": "code",
   "execution_count": 179,
   "metadata": {
    "ExecuteTime": {
     "end_time": "2019-12-17T22:23:35.643452Z",
     "start_time": "2019-12-17T22:23:35.626497Z"
    }
   },
   "outputs": [
    {
     "name": "stdout",
     "output_type": "stream",
     "text": [
      "n = 10000, статистика Пирсона = 1827.58, количество степеней свободы = 13\n"
     ]
    }
   ],
   "source": [
    "sample_10000 = poisson.rvs(p_lambda, size=10000)\n",
    "UniqueVal, CountFreq = np.unique(sample_10000, return_counts=True)\n",
    "df = pd.DataFrame({'k': UniqueVal, 'n_k': CountFreq})\n",
    "\n",
    "\n",
    "def probs_pois(x):\n",
    "    d = list(map(lambda z: ((6**z * np.exp(-6)) / math.factorial(z)), x))\n",
    "    return d\n",
    "\n",
    "\n",
    "df['pbility_k'] = probs_pois(UniqueVal)\n",
    "indexNam = df[df['n_k'] < 0.001 * (df['n_k'].sum())].index\n",
    "df.drop(indexNam, inplace=True)\n",
    "df['npbility_k'] = df['n_k'].sum() * df['pbility_k']\n",
    "df['xi'] = (df['n_k'] - df['npbility_k'])**2 / df['npbility_k']\n",
    "print(\n",
    "    f\"{'n = ' +str(len(sample_10000))}, {'статистика Пирсона = '+str(np.around((df['xi']).sum(),2))},{' количество степеней свободы = '+str(len(df['k'])-1)}\"\n",
    ")"
   ]
  },
  {
   "cell_type": "markdown",
   "metadata": {},
   "source": [
    "100000"
   ]
  },
  {
   "cell_type": "code",
   "execution_count": 302,
   "metadata": {
    "ExecuteTime": {
     "end_time": "2019-12-14T08:50:23.749234Z",
     "start_time": "2019-12-14T08:50:23.704322Z"
    }
   },
   "outputs": [
    {
     "name": "stdout",
     "output_type": "stream",
     "text": [
      "n = 100000, статистика Пирсона = 8.25, количество степеней свободы = 13\n"
     ]
    }
   ],
   "source": [
    "sample_100000 = poisson.rvs(p_lambda, size=100000)\n",
    "UniqueVal, CountFreq = np.unique(sample_100000, return_counts=True)\n",
    "df = pd.DataFrame({'k': UniqueVal, 'n_k': CountFreq})\n",
    "\n",
    "\n",
    "def probs_pois(x):\n",
    "    d = list(map(lambda z: ((5**z * np.exp(-5)) / math.factorial(z)), x))\n",
    "    return d\n",
    "\n",
    "\n",
    "df['pbility_k'] = probs_pois(UniqueVal)\n",
    "indexNam = df[df['n_k'] < 0.001 * (df['n_k'].sum())].index\n",
    "df.drop(indexNam, inplace=True)\n",
    "df['npbility_k'] = df['n_k'].sum() * df['pbility_k']\n",
    "df['xi'] = (df['n_k'] - df['npbility_k'])**2 / df['npbility_k']\n",
    "print(\n",
    "    f\"{'n = ' +str(len(sample_100000))}, {'статистика Пирсона = '+str(np.around((df['xi']).sum(),2))},{' количество степеней свободы = '+str(len(df['k'])-1)}\"\n",
    ")"
   ]
  },
  {
   "cell_type": "markdown",
   "metadata": {},
   "source": [
    "__Laplace distribution with__ ${\\bf{\\lambda =1,\\mu = 5}}$"
   ]
  },
  {
   "cell_type": "code",
   "execution_count": 184,
   "metadata": {
    "ExecuteTime": {
     "end_time": "2019-12-17T22:27:05.353716Z",
     "start_time": "2019-12-17T22:27:05.349727Z"
    }
   },
   "outputs": [],
   "source": [
    "lpl_mu = 5\n",
    "lpl_lam = 1"
   ]
  },
  {
   "cell_type": "code",
   "execution_count": 183,
   "metadata": {
    "ExecuteTime": {
     "end_time": "2019-12-17T22:26:59.313958Z",
     "start_time": "2019-12-17T22:26:59.309200Z"
    }
   },
   "outputs": [],
   "source": [
    "def F_lapl(x):\n",
    "    if x <= lpl_mu:\n",
    "        return 0.5 * np.exp(x - lpl_mu)\n",
    "    else:\n",
    "        return 1 - 0.5 * np.exp(-(x - lpl_mu))"
   ]
  },
  {
   "cell_type": "code",
   "execution_count": 221,
   "metadata": {
    "ExecuteTime": {
     "end_time": "2019-12-17T22:39:39.001317Z",
     "start_time": "2019-12-17T22:39:38.996358Z"
    }
   },
   "outputs": [],
   "source": [
    "lpl_lam_false = 1.5\n",
    "\n",
    "\n",
    "def F_lapl_false(x):\n",
    "    if x <= lpl_mu:\n",
    "        return 0.5 * np.exp(lpl_lam_false * (x - lpl_mu))\n",
    "    else:\n",
    "        return 1 - 0.5 * np.exp(-lpl_lam_false * (x - lpl_mu))"
   ]
  },
  {
   "cell_type": "markdown",
   "metadata": {},
   "source": [
    "n = 5"
   ]
  },
  {
   "cell_type": "code",
   "execution_count": 189,
   "metadata": {
    "ExecuteTime": {
     "end_time": "2019-12-17T22:31:46.721443Z",
     "start_time": "2019-12-17T22:31:46.703491Z"
    }
   },
   "outputs": [
    {
     "name": "stdout",
     "output_type": "stream",
     "text": [
      "n = 5, статистика Пирсона = 3.92, количество степеней свободы = 2\n"
     ]
    }
   ],
   "source": [
    "sample_lapl_5 = laplace.rvs(scale=lpl_lam, loc=lpl_mu, size=5)\n",
    "#Using Doanes's formula\n",
    "hist, bin_edges = np.histogram(sample_lapl_5, bins='doane')\n",
    "#fragmentation by intervals with included left borders\n",
    "ab = bin_edges\n",
    "df_lapl = pd.DataFrame({'midlle_values': (ab[:-1] + ab[1:]) / 2})\n",
    "df_lapl['numbers_in_interval'] = hist\n",
    "last = F_lapl(ab[0])\n",
    "prob = []\n",
    "for i in range(1, len(ab) - 1):\n",
    "    prob.append(np.abs(F_lapl(ab[i]) - last))\n",
    "    last = F_lapl(ab[i])\n",
    "df_lapl['Probability'] = pd.Series(prob)\n",
    "df_lapl.drop(df_lapl.tail(1).index, inplace=True)\n",
    "df_lapl['nProbability'] = df_lapl['numbers_in_interval'].sum(\n",
    ") * df_lapl['Probability']\n",
    "df_lapl['xi'] = (df_lapl['numbers_in_interval'] -\n",
    "                 df_lapl['nProbability'])**2 / df_lapl['nProbability']\n",
    "chi_squared_lapl = df_lapl['xi'].sum()\n",
    "print(\n",
    "    f\"{'n = ' +str(len(sample_lapl_5))}, {'статистика Пирсона = '+str(np.around((df_lapl['xi']).sum(),2))},{' количество степеней свободы = '+str(len(df_lapl['numbers_in_interval'])-1)}\"\n",
    ")"
   ]
  },
  {
   "cell_type": "markdown",
   "metadata": {},
   "source": [
    "Сheck hypothesis $\\lambda = 1.5$\n"
   ]
  },
  {
   "cell_type": "code",
   "execution_count": 241,
   "metadata": {
    "ExecuteTime": {
     "end_time": "2019-12-17T22:42:00.715707Z",
     "start_time": "2019-12-17T22:42:00.697758Z"
    }
   },
   "outputs": [
    {
     "name": "stdout",
     "output_type": "stream",
     "text": [
      "n = 5, статистика Пирсона = 9.02, количество степеней свободы = 2\n"
     ]
    }
   ],
   "source": [
    "sample_lapl_5 = laplace.rvs(scale=lpl_lam, loc=lpl_mu, size=5)\n",
    "#Using Doanes's formula\n",
    "hist, bin_edges = np.histogram(sample_lapl_5, bins='doane')\n",
    "#fragmentation by intervals with included left borders\n",
    "ab = bin_edges\n",
    "df_lapl = pd.DataFrame({'midlle_values': (ab[:-1] + ab[1:]) / 2})\n",
    "df_lapl['numbers_in_interval'] = hist\n",
    "last = F_lapl(ab[0])\n",
    "prob = []\n",
    "for i in range(1, len(ab) - 1):\n",
    "    prob.append(np.abs(F_lapl_false(ab[i]) - last))\n",
    "    last = F_lapl_false(ab[i])\n",
    "df_lapl['Probability'] = pd.Series(prob)\n",
    "df_lapl.drop(df_lapl.tail(1).index, inplace=True)\n",
    "df_lapl['nProbability'] = df_lapl['numbers_in_interval'].sum(\n",
    ") * df_lapl['Probability']\n",
    "df_lapl['xi'] = (df_lapl['numbers_in_interval'] -\n",
    "                 df_lapl['nProbability'])**2 / df_lapl['nProbability']\n",
    "chi_squared_lapl = df_lapl['xi'].sum()\n",
    "print(\n",
    "    f\"{'n = ' +str(len(sample_lapl_5))}, {'статистика Пирсона = '+str(np.around((df_lapl['xi']).sum(),2))},{' количество степеней свободы = '+str(len(df_lapl['numbers_in_interval'])-1)}\"\n",
    ")"
   ]
  },
  {
   "cell_type": "markdown",
   "metadata": {
    "ExecuteTime": {
     "end_time": "2019-12-17T22:26:20.924578Z",
     "start_time": "2019-12-17T22:26:20.920618Z"
    }
   },
   "source": [
    "n = 10"
   ]
  },
  {
   "cell_type": "code",
   "execution_count": 200,
   "metadata": {
    "ExecuteTime": {
     "end_time": "2019-12-17T22:31:46.721443Z",
     "start_time": "2019-12-17T22:31:46.703491Z"
    }
   },
   "outputs": [
    {
     "name": "stdout",
     "output_type": "stream",
     "text": [
      "n = 10, статистика Пирсона = 11.7, количество степеней свободы = 4\n"
     ]
    }
   ],
   "source": [
    "sample_lapl_10 = laplace.rvs(scale=lpl_lam, loc=lpl_mu, size=10)\n",
    "#Using Doanes's formula\n",
    "hist, bin_edges = np.histogram(sample_lapl_10, bins='doane')\n",
    "#fragmentation by intervals with included left borders\n",
    "ab = bin_edges\n",
    "df_lapl = pd.DataFrame({'midlle_values': (ab[:-1] + ab[1:]) / 2})\n",
    "df_lapl['numbers_in_interval'] = hist\n",
    "last = F_lapl(ab[0])\n",
    "prob = []\n",
    "for i in range(1, len(ab) - 1):\n",
    "    prob.append(np.abs(F_lapl(ab[i]) - last))\n",
    "    last = F_lapl(ab[i])\n",
    "df_lapl['Probability'] = pd.Series(prob)\n",
    "df_lapl.drop(df_lapl.tail(1).index, inplace=True)\n",
    "df_lapl['nProbability'] = df_lapl['numbers_in_interval'].sum(\n",
    ") * df_lapl['Probability']\n",
    "df_lapl['xi'] = (df_lapl['numbers_in_interval'] -\n",
    "                 df_lapl['nProbability'])**2 / df_lapl['nProbability']\n",
    "chi_squared_lapl = df_lapl['xi'].sum()\n",
    "print(\n",
    "    f\"{'n = ' +str(len(sample_lapl_10))}, {'статистика Пирсона = '+str(np.around((df_lapl['xi']).sum(),2))},{' количество степеней свободы = '+str(len(df_lapl['numbers_in_interval'])-1)}\"\n",
    ")"
   ]
  },
  {
   "cell_type": "markdown",
   "metadata": {},
   "source": [
    "Сheck hypothesis $\\lambda = 1.5$\n"
   ]
  },
  {
   "cell_type": "code",
   "execution_count": 263,
   "metadata": {
    "ExecuteTime": {
     "end_time": "2019-12-17T22:44:50.011122Z",
     "start_time": "2019-12-17T22:44:49.993199Z"
    }
   },
   "outputs": [
    {
     "name": "stdout",
     "output_type": "stream",
     "text": [
      "n = 10, статистика Пирсона = 14.07, количество степеней свободы = 4\n"
     ]
    }
   ],
   "source": [
    "sample_lapl_10 = laplace.rvs(scale=lpl_lam, loc=lpl_mu, size=10)\n",
    "#Using Doanes's formula\n",
    "hist, bin_edges = np.histogram(sample_lapl_10, bins='doane')\n",
    "#fragmentation by intervals with included left borders\n",
    "ab = bin_edges\n",
    "df_lapl = pd.DataFrame({'midlle_values': (ab[:-1] + ab[1:]) / 2})\n",
    "df_lapl['numbers_in_interval'] = hist\n",
    "last = F_lapl(ab[0])\n",
    "prob = []\n",
    "for i in range(1, len(ab) - 1):\n",
    "    prob.append(np.abs(F_lapl_false(ab[i]) - last))\n",
    "    last = F_lapl_false(ab[i])\n",
    "df_lapl['Probability'] = pd.Series(prob)\n",
    "df_lapl.drop(df_lapl.tail(1).index, inplace=True)\n",
    "df_lapl['nProbability'] = df_lapl['numbers_in_interval'].sum(\n",
    ") * df_lapl['Probability']\n",
    "df_lapl['xi'] = (df_lapl['numbers_in_interval'] -\n",
    "                 df_lapl['nProbability'])**2 / df_lapl['nProbability']\n",
    "chi_squared_lapl = df_lapl['xi'].sum()\n",
    "print(\n",
    "    f\"{'n = ' +str(len(sample_lapl_10))}, {'статистика Пирсона = '+str(np.around((df_lapl['xi']).sum(),2))},{' количество степеней свободы = '+str(len(df_lapl['numbers_in_interval'])-1)}\"\n",
    ")"
   ]
  },
  {
   "cell_type": "markdown",
   "metadata": {},
   "source": [
    "n = 100"
   ]
  },
  {
   "cell_type": "code",
   "execution_count": 208,
   "metadata": {
    "ExecuteTime": {
     "end_time": "2019-12-17T22:31:46.721443Z",
     "start_time": "2019-12-17T22:31:46.703491Z"
    }
   },
   "outputs": [
    {
     "name": "stdout",
     "output_type": "stream",
     "text": [
      "n = 100, статистика Пирсона = 14.7, количество степеней свободы = 8\n"
     ]
    }
   ],
   "source": [
    "sample_lapl_100 = laplace.rvs(scale=lpl_lam, loc=lpl_mu, size=100)\n",
    "#Using Doanes's formula\n",
    "hist, bin_edges = np.histogram(sample_lapl_100, bins='doane')\n",
    "#fragmentation by intervals with included left borders\n",
    "ab = bin_edges\n",
    "df_lapl = pd.DataFrame({'midlle_values': (ab[:-1] + ab[1:]) / 2})\n",
    "df_lapl['numbers_in_interval'] = hist\n",
    "last = F_lapl(ab[0])\n",
    "prob = []\n",
    "for i in range(1, len(ab) - 1):\n",
    "    prob.append(np.abs(F_lapl(ab[i]) - last))\n",
    "    last = F_lapl(ab[i])\n",
    "df_lapl['Probability'] = pd.Series(prob)\n",
    "df_lapl.drop(df_lapl.tail(1).index, inplace=True)\n",
    "df_lapl['nProbability'] = df_lapl['numbers_in_interval'].sum(\n",
    ") * df_lapl['Probability']\n",
    "df_lapl['xi'] = (df_lapl['numbers_in_interval'] -\n",
    "                 df_lapl['nProbability'])**2 / df_lapl['nProbability']\n",
    "chi_squared_lapl = df_lapl['xi'].sum()\n",
    "print(\n",
    "    f\"{'n = ' +str(len(sample_lapl_100))}, {'статистика Пирсона = '+str(np.around((df_lapl['xi']).sum(),2))},{' количество степеней свободы = '+str(len(df_lapl['numbers_in_interval'])-1)}\"\n",
    ")"
   ]
  },
  {
   "cell_type": "markdown",
   "metadata": {},
   "source": [
    "Сheck hypothesis $\\lambda = 1.5$\n"
   ]
  },
  {
   "cell_type": "code",
   "execution_count": 270,
   "metadata": {
    "ExecuteTime": {
     "end_time": "2019-12-17T22:46:31.060216Z",
     "start_time": "2019-12-17T22:46:31.043261Z"
    }
   },
   "outputs": [
    {
     "name": "stdout",
     "output_type": "stream",
     "text": [
      "n = 100, статистика Пирсона = 46.24, количество степеней свободы = 8\n"
     ]
    }
   ],
   "source": [
    "sample_lapl_100 = laplace.rvs(scale=lpl_lam, loc=lpl_mu, size=100)\n",
    "#Using Doanes's formula\n",
    "hist, bin_edges = np.histogram(sample_lapl_100, bins='doane')\n",
    "#fragmentation by intervals with included left borders\n",
    "ab = bin_edges\n",
    "df_lapl = pd.DataFrame({'midlle_values': (ab[:-1] + ab[1:]) / 2})\n",
    "df_lapl['numbers_in_interval'] = hist\n",
    "last = F_lapl(ab[0])\n",
    "prob = []\n",
    "for i in range(1, len(ab) - 1):\n",
    "    prob.append(np.abs(F_lapl_false(ab[i]) - last))\n",
    "    last = F_lapl_false(ab[i])\n",
    "df_lapl['Probability'] = pd.Series(prob)\n",
    "df_lapl.drop(df_lapl.tail(1).index, inplace=True)\n",
    "df_lapl['nProbability'] = df_lapl['numbers_in_interval'].sum(\n",
    ") * df_lapl['Probability']\n",
    "df_lapl['xi'] = (df_lapl['numbers_in_interval'] -\n",
    "                 df_lapl['nProbability'])**2 / df_lapl['nProbability']\n",
    "chi_squared_lapl = df_lapl['xi'].sum()\n",
    "print(\n",
    "    f\"{'n = ' +str(len(sample_lapl_100))}, {'статистика Пирсона = '+str(np.around((df_lapl['xi']).sum(),2))},{' количество степеней свободы = '+str(len(df_lapl['numbers_in_interval'])-1)}\"\n",
    ")"
   ]
  },
  {
   "cell_type": "markdown",
   "metadata": {},
   "source": [
    "1000 "
   ]
  },
  {
   "cell_type": "code",
   "execution_count": 389,
   "metadata": {
    "ExecuteTime": {
     "end_time": "2019-12-14T10:23:06.967417Z",
     "start_time": "2019-12-14T10:23:06.949706Z"
    }
   },
   "outputs": [
    {
     "name": "stdout",
     "output_type": "stream",
     "text": [
      "n = 1000, статистика Пирсона = 16.57, количество степеней свободы = 10\n"
     ]
    }
   ],
   "source": [
    "sample_lapl_1000 = laplace.rvs(scale=lpl_lam, loc=lpl_mu, size=1000)\n",
    "#Using Doanes's formula\n",
    "hist, bin_edges = np.histogram(sample_lapl_1000, bins='doane')\n",
    "#fragmentation by intervals with included left borders\n",
    "ab = bin_edges\n",
    "df_lapl = pd.DataFrame({'midlle_values': (ab[:-1] + ab[1:]) / 2})\n",
    "df_lapl['numbers_in_interval'] = hist\n",
    "last = F_lapl(ab[0])\n",
    "prob = []\n",
    "for i in range(1, len(ab) - 1):\n",
    "    prob.append(np.abs(F_lapl(ab[i]) - last))\n",
    "    last = F_lapl(ab[i])\n",
    "df_lapl['Probability'] = pd.Series(prob)\n",
    "df_lapl.drop(df_lapl.tail(1).index, inplace=True)\n",
    "df_lapl['nProbability'] = df_lapl['numbers_in_interval'].sum(\n",
    ") * df_lapl['Probability']\n",
    "df_lapl['xi'] = (df_lapl['numbers_in_interval'] -\n",
    "                 df_lapl['nProbability'])**2 / df_lapl['nProbability']\n",
    "chi_squared_lapl = df_lapl['xi'].sum()\n",
    "print(\n",
    "    f\"{'n = ' +str(len(sample_lapl_1000))}, {'статистика Пирсона = '+str(np.around((df_lapl['xi']).sum(),2))},{' количество степеней свободы = '+str(len(df_lapl['numbers_in_interval'])-1)}\"\n",
    ")"
   ]
  },
  {
   "cell_type": "markdown",
   "metadata": {},
   "source": [
    "Сheck hypothesis $\\lambda = 1.5$\n"
   ]
  },
  {
   "cell_type": "code",
   "execution_count": 274,
   "metadata": {
    "ExecuteTime": {
     "end_time": "2019-12-17T22:50:26.772180Z",
     "start_time": "2019-12-17T22:50:26.754195Z"
    }
   },
   "outputs": [
    {
     "name": "stdout",
     "output_type": "stream",
     "text": [
      "n = 1000, статистика Пирсона = 382.21, количество степеней свободы = 12\n"
     ]
    }
   ],
   "source": [
    "sample_lapl_1000 = laplace.rvs(scale=lpl_lam, loc=lpl_mu, size=1000)\n",
    "#Using Doanes's formula\n",
    "hist, bin_edges = np.histogram(sample_lapl_1000, bins='doane')\n",
    "#fragmentation by intervals with included left borders\n",
    "ab = bin_edges\n",
    "df_lapl = pd.DataFrame({'midlle_values': (ab[:-1] + ab[1:]) / 2})\n",
    "df_lapl['numbers_in_interval'] = hist\n",
    "last = F_lapl(ab[0])\n",
    "prob = []\n",
    "for i in range(1, len(ab) - 1):\n",
    "    prob.append(np.abs(F_lapl_false(ab[i]) - last))\n",
    "    last = F_lapl_false(ab[i])\n",
    "df_lapl['Probability'] = pd.Series(prob)\n",
    "df_lapl.drop(df_lapl.tail(1).index, inplace=True)\n",
    "df_lapl['nProbability'] = df_lapl['numbers_in_interval'].sum(\n",
    ") * df_lapl['Probability']\n",
    "df_lapl['xi'] = (df_lapl['numbers_in_interval'] -\n",
    "                 df_lapl['nProbability'])**2 / df_lapl['nProbability']\n",
    "chi_squared_lapl = df_lapl['xi'].sum()\n",
    "print(\n",
    "    f\"{'n = ' +str(len(sample_lapl_1000))}, {'статистика Пирсона = '+str(np.around((df_lapl['xi']).sum(),2))},{' количество степеней свободы = '+str(len(df_lapl['numbers_in_interval'])-1)}\"\n",
    ")"
   ]
  },
  {
   "cell_type": "markdown",
   "metadata": {},
   "source": [
    "10000 "
   ]
  },
  {
   "cell_type": "code",
   "execution_count": 385,
   "metadata": {
    "ExecuteTime": {
     "end_time": "2019-12-14T10:20:30.921924Z",
     "start_time": "2019-12-14T10:20:30.902947Z"
    }
   },
   "outputs": [
    {
     "name": "stdout",
     "output_type": "stream",
     "text": [
      "n = 10000, статистика Пирсона = 11.78, количество степеней свободы = 15\n"
     ]
    }
   ],
   "source": [
    "sample_lapl_10000 = laplace.rvs(scale=lpl_lam, loc=lpl_mu, size=10000)\n",
    "#Using Doanes's formula\n",
    "hist, bin_edges = np.histogram(sample_lapl_10000, bins='doane')\n",
    "#fragmentation by intervals with included left borders\n",
    "ab = bin_edges\n",
    "df_lapl = pd.DataFrame({'midlle_values': (ab[:-1] + ab[1:]) / 2})\n",
    "df_lapl['numbers_in_interval'] = hist\n",
    "last = F_lapl(ab[0])\n",
    "prob = []\n",
    "for i in range(1, len(ab) - 1):\n",
    "    prob.append(np.abs(F_lapl(ab[i]) - last))\n",
    "    last = F_lapl(ab[i])\n",
    "df_lapl['Probability'] = pd.Series(prob)\n",
    "df_lapl.drop(df_lapl.tail(1).index, inplace=True)\n",
    "df_lapl['nProbability'] = df_lapl['numbers_in_interval'].sum(\n",
    ") * df_lapl['Probability']\n",
    "df_lapl['xi'] = (df_lapl['numbers_in_interval'] -\n",
    "                 df_lapl['nProbability'])**2 / df_lapl['nProbability']\n",
    "chi_squared_lapl = df_lapl['xi'].sum()\n",
    "print(\n",
    "    f\"{'n = ' +str(len(sample_lapl_10000))}, {'статистика Пирсона = '+str(np.around((df_lapl['xi']).sum(),2))},{' количество степеней свободы = '+str(len(df_lapl['numbers_in_interval'])-1)}\"\n",
    ")"
   ]
  },
  {
   "cell_type": "markdown",
   "metadata": {},
   "source": [
    "100000"
   ]
  },
  {
   "cell_type": "code",
   "execution_count": 573,
   "metadata": {
    "ExecuteTime": {
     "end_time": "2019-12-14T22:28:08.426593Z",
     "start_time": "2019-12-14T22:28:08.395993Z"
    }
   },
   "outputs": [
    {
     "name": "stdout",
     "output_type": "stream",
     "text": [
      "n = 100000, статистика Пирсона = 22.52, количество степеней свободы = 18\n"
     ]
    }
   ],
   "source": [
    "sample_lapl_100000 = laplace.rvs(scale=lpl_lam, loc=lpl_mu, size=100000)\n",
    "#Using Doanes's formula\n",
    "hist, bin_edges = np.histogram(sample_lapl_100000, bins='doane')\n",
    "#fragmentation by intervals with included left borders\n",
    "ab = bin_edges\n",
    "df_lapl = pd.DataFrame({'midlle_values': (ab[:-1] + ab[1:]) / 2})\n",
    "df_lapl['numbers_in_interval'] = hist\n",
    "last = F_lapl(ab[0])\n",
    "prob = []\n",
    "for i in range(1, len(ab) - 1):\n",
    "    prob.append(np.abs(F_lapl(ab[i]) - last))\n",
    "    last = F_lapl(ab[i])\n",
    "df_lapl['Probability'] = pd.Series(prob)\n",
    "df_lapl.drop(df_lapl.tail(1).index, inplace=True)\n",
    "df_lapl['nProbability'] = df_lapl['numbers_in_interval'].sum(\n",
    ") * df_lapl['Probability']\n",
    "df_lapl['xi'] = (df_lapl['numbers_in_interval'] -\n",
    "                 df_lapl['nProbability'])**2 / df_lapl['nProbability']\n",
    "chi_squared_lapl = df_lapl['xi'].sum()\n",
    "print(\n",
    "    f\"{'n = ' +str(len(sample_lapl_100000))}, {'статистика Пирсона = '+str(np.around((df_lapl['xi']).sum(),2))},{' количество степеней свободы = '+str(len(df_lapl['numbers_in_interval'])-1)}\"\n",
    ")"
   ]
  },
  {
   "cell_type": "markdown",
   "metadata": {},
   "source": [
    "### Hard hypothesis $\\chi^2$ Laplace\n"
   ]
  },
  {
   "cell_type": "code",
   "execution_count": 328,
   "metadata": {
    "ExecuteTime": {
     "end_time": "2019-12-18T00:29:10.851080Z",
     "start_time": "2019-12-18T00:29:10.847120Z"
    }
   },
   "outputs": [],
   "source": [
    "def omp_lapl(sample_f):\n",
    "    s = list(map(lambda z: np.abs(z - lpl_mu), sample_f))\n",
    "    return len(sample_f) / np.sum(s)"
   ]
  },
  {
   "cell_type": "code",
   "execution_count": 543,
   "metadata": {
    "ExecuteTime": {
     "end_time": "2019-12-14T20:01:05.361128Z",
     "start_time": "2019-12-14T20:01:05.332204Z"
    }
   },
   "outputs": [
    {
     "data": {
      "text/plain": [
       "1.0082859043260046"
      ]
     },
     "execution_count": 543,
     "metadata": {},
     "output_type": "execute_result"
    }
   ],
   "source": [
    "omp_lapl(sample_lapl_10000)"
   ]
  },
  {
   "cell_type": "code",
   "execution_count": 414,
   "metadata": {
    "ExecuteTime": {
     "end_time": "2019-12-18T01:35:11.262812Z",
     "start_time": "2019-12-18T01:35:11.238877Z"
    }
   },
   "outputs": [
    {
     "name": "stdout",
     "output_type": "stream",
     "text": [
      "n = 5,оцениваемый параметр = 0.8472 статистика Пирсона = 12.34, количество степеней свободы = 2\n"
     ]
    }
   ],
   "source": [
    "def F_lapl_hard(x):\n",
    "    if x <= lpl_mu:\n",
    "        return 0.5 * np.exp(omp_lapl(sample_lapl_5) * (x - lpl_mu))\n",
    "    else:\n",
    "        return 1 - 0.5 * np.exp(-omp_lapl(sample_lapl_5) * (x - lpl_mu))\n",
    "\n",
    "\n",
    "sample_lapl_5 = laplace.rvs(scale=lpl_lam, loc=lpl_mu, size=5)\n",
    "#Using Doanes's formula\n",
    "hist, bin_edges = np.histogram(sample_lapl_5, bins='doane')\n",
    "#fragmentation by intervals with included left borders\n",
    "ab = bin_edges\n",
    "df_lapl = pd.DataFrame({'midlle_values': (ab[:-1] + ab[1:]) / 2})\n",
    "df_lapl['numbers_in_interval'] = hist\n",
    "last = F_lapl_hard(ab[0])\n",
    "prob = []\n",
    "for i in range(1, len(ab) - 1):\n",
    "    prob.append(np.abs(F_lapl_hard(ab[i]) - last))\n",
    "    last = F_lapl_hard(ab[i])\n",
    "df_lapl['Probability'] = pd.Series(prob)\n",
    "df_lapl.drop(df_lapl.tail(1).index, inplace=True)\n",
    "df_lapl['nProbability'] = df_lapl['numbers_in_interval'].sum(\n",
    ") * df_lapl['Probability']\n",
    "df_lapl['xi'] = (df_lapl['numbers_in_interval'] -\n",
    "                 df_lapl['nProbability'])**2 / df_lapl['nProbability']\n",
    "chi_squared_lapl = df_lapl['xi'].sum()\n",
    "print(\n",
    "    f\"{'n = ' +str(len(sample_lapl_5))},оцениваемый параметр = {np.around(omp_lapl(sample_lapl_5),4)} {'статистика Пирсона = '+str(np.around((df_lapl['xi']).sum(),2))},{' количество степеней свободы = '+str(len(df_lapl['numbers_in_interval'])-2)}\"\n",
    ")"
   ]
  },
  {
   "cell_type": "code",
   "execution_count": 419,
   "metadata": {
    "ExecuteTime": {
     "end_time": "2019-12-18T01:35:11.262812Z",
     "start_time": "2019-12-18T01:35:11.238877Z"
    }
   },
   "outputs": [
    {
     "name": "stdout",
     "output_type": "stream",
     "text": [
      "n = 10,оцениваемый параметр = 0.8329 статистика Пирсона = 2.08, количество степеней свободы = 3\n"
     ]
    }
   ],
   "source": [
    "def F_lapl_hard(x):\n",
    "    if x <= lpl_mu:\n",
    "        return 0.5 * np.exp(omp_lapl(sample_lapl_10) * (x - lpl_mu))\n",
    "    else:\n",
    "        return 1 - 0.5 * np.exp(-omp_lapl(sample_lapl_10) * (x - lpl_mu))\n",
    "\n",
    "\n",
    "sample_lapl_10 = laplace.rvs(scale=lpl_lam, loc=lpl_mu, size=10)\n",
    "#Using Doanes's formula\n",
    "hist, bin_edges = np.histogram(sample_lapl_10, bins='doane')\n",
    "#fragmentation by intervals with included left borders\n",
    "ab = bin_edges\n",
    "df_lapl = pd.DataFrame({'midlle_values': (ab[:-1] + ab[1:]) / 2})\n",
    "df_lapl['numbers_in_interval'] = hist\n",
    "last = F_lapl_hard(ab[0])\n",
    "prob = []\n",
    "for i in range(1, len(ab) - 1):\n",
    "    prob.append(np.abs(F_lapl_hard(ab[i]) - last))\n",
    "    last = F_lapl_hard(ab[i])\n",
    "df_lapl['Probability'] = pd.Series(prob)\n",
    "df_lapl.drop(df_lapl.tail(1).index, inplace=True)\n",
    "df_lapl['nProbability'] = df_lapl['numbers_in_interval'].sum(\n",
    ") * df_lapl['Probability']\n",
    "df_lapl['xi'] = (df_lapl['numbers_in_interval'] -\n",
    "                 df_lapl['nProbability'])**2 / df_lapl['nProbability']\n",
    "chi_squared_lapl = df_lapl['xi'].sum()\n",
    "print(\n",
    "    f\"{'n = ' +str(len(sample_lapl_10))},оцениваемый параметр = {np.around(omp_lapl(sample_lapl_10),4)} {'статистика Пирсона = '+str(np.around((df_lapl['xi']).sum(),2))},{' количество степеней свободы = '+str(len(df_lapl['numbers_in_interval'])-2)}\"\n",
    ")"
   ]
  },
  {
   "cell_type": "code",
   "execution_count": 425,
   "metadata": {
    "ExecuteTime": {
     "end_time": "2019-12-18T01:35:11.262812Z",
     "start_time": "2019-12-18T01:35:11.238877Z"
    }
   },
   "outputs": [
    {
     "name": "stdout",
     "output_type": "stream",
     "text": [
      "n = 100,оцениваемый параметр = 1.009 статистика Пирсона = 8.69, количество степеней свободы = 6\n"
     ]
    }
   ],
   "source": [
    "def F_lapl_hard(x):\n",
    "    if x <= lpl_mu:\n",
    "        return 0.5 * np.exp(omp_lapl(sample_lapl_100) * (x - lpl_mu))\n",
    "    else:\n",
    "        return 1 - 0.5 * np.exp(-omp_lapl(sample_lapl_100) * (x - lpl_mu))\n",
    "\n",
    "\n",
    "sample_lapl_100 = laplace.rvs(scale=lpl_lam, loc=lpl_mu, size=100)\n",
    "#Using Doanes's formula\n",
    "hist, bin_edges = np.histogram(sample_lapl_100, bins='doane')\n",
    "#fragmentation by intervals with included left borders\n",
    "ab = bin_edges\n",
    "df_lapl = pd.DataFrame({'midlle_values': (ab[:-1] + ab[1:]) / 2})\n",
    "df_lapl['numbers_in_interval'] = hist\n",
    "last = F_lapl_hard(ab[0])\n",
    "prob = []\n",
    "for i in range(1, len(ab) - 1):\n",
    "    prob.append(np.abs(F_lapl_hard(ab[i]) - last))\n",
    "    last = F_lapl_hard(ab[i])\n",
    "df_lapl['Probability'] = pd.Series(prob)\n",
    "df_lapl.drop(df_lapl.tail(1).index, inplace=True)\n",
    "df_lapl['nProbability'] = df_lapl['numbers_in_interval'].sum(\n",
    ") * df_lapl['Probability']\n",
    "df_lapl['xi'] = (df_lapl['numbers_in_interval'] -\n",
    "                 df_lapl['nProbability'])**2 / df_lapl['nProbability']\n",
    "chi_squared_lapl = df_lapl['xi'].sum()\n",
    "print(\n",
    "    f\"{'n = ' +str(len(sample_lapl_100))},оцениваемый параметр = {np.around(omp_lapl(sample_lapl_100),4)} {'статистика Пирсона = '+str(np.around((df_lapl['xi']).sum(),2))},{' количество степеней свободы = '+str(len(df_lapl['numbers_in_interval'])-2)}\"\n",
    ")"
   ]
  },
  {
   "cell_type": "code",
   "execution_count": 421,
   "metadata": {
    "ExecuteTime": {
     "end_time": "2019-12-18T01:33:30.589162Z",
     "start_time": "2019-12-18T01:33:30.516355Z"
    }
   },
   "outputs": [
    {
     "name": "stdout",
     "output_type": "stream",
     "text": [
      "n = 1000,оцениваемый параметр = 1.0501 статистика Пирсона = 8.75, количество степеней свободы = 10\n"
     ]
    }
   ],
   "source": [
    "def F_lapl_hard(x):\n",
    "    if x <= lpl_mu:\n",
    "        return 0.5 * np.exp(omp_lapl(sample_lapl_1000) * (x - lpl_mu))\n",
    "    else:\n",
    "        return 1 - 0.5 * np.exp(-omp_lapl(sample_lapl_1000) * (x - lpl_mu))\n",
    "\n",
    "\n",
    "sample_lapl_1000 = laplace.rvs(scale=lpl_lam, loc=lpl_mu, size=1000)\n",
    "#Using Doanes's formula\n",
    "hist, bin_edges = np.histogram(sample_lapl_1000, bins='doane')\n",
    "#fragmentation by intervals with included left borders\n",
    "ab = bin_edges\n",
    "df_lapl = pd.DataFrame({'midlle_values': (ab[:-1] + ab[1:]) / 2})\n",
    "df_lapl['numbers_in_interval'] = hist\n",
    "last = F_lapl_hard(ab[0])\n",
    "prob = []\n",
    "for i in range(1, len(ab) - 1):\n",
    "    prob.append(np.abs(F_lapl_hard(ab[i]) - last))\n",
    "    last = F_lapl_hard(ab[i])\n",
    "df_lapl['Probability'] = pd.Series(prob)\n",
    "df_lapl.drop(df_lapl.tail(1).index, inplace=True)\n",
    "df_lapl['nProbability'] = df_lapl['numbers_in_interval'].sum(\n",
    ") * df_lapl['Probability']\n",
    "df_lapl['xi'] = (df_lapl['numbers_in_interval'] -\n",
    "                 df_lapl['nProbability'])**2 / df_lapl['nProbability']\n",
    "chi_squared_lapl = df_lapl['xi'].sum()\n",
    "print(\n",
    "    f\"{'n = ' +str(len(sample_lapl_1000))},оцениваемый параметр = {np.around(omp_lapl(sample_lapl_1000),4)} {'статистика Пирсона = '+str(np.around((df_lapl['xi']).sum(),2))},{' количество степеней свободы = '+str(len(df_lapl['numbers_in_interval'])-2)}\"\n",
    ")"
   ]
  },
  {
   "cell_type": "code",
   "execution_count": 568,
   "metadata": {
    "ExecuteTime": {
     "end_time": "2019-12-14T22:15:46.182258Z",
     "start_time": "2019-12-14T22:15:45.057094Z"
    }
   },
   "outputs": [
    {
     "name": "stdout",
     "output_type": "stream",
     "text": [
      "n = 10000,оцениваемый параметр = 1.0148 статистика Пирсона = 27.87, количество степеней свободы = 15\n"
     ]
    }
   ],
   "source": [
    "def F_lapl_hard(x):\n",
    "    if x <= lpl_mu:\n",
    "        return 0.5 * np.exp(omp_lapl(sample_lapl_10000) * (x - lpl_mu))\n",
    "    else:\n",
    "        return 1 - 0.5 * np.exp(-omp_lapl(sample_lapl_10000) * (x - lpl_mu))\n",
    "\n",
    "\n",
    "sample_lapl_10000 = laplace.rvs(scale=lpl_lam, loc=lpl_mu, size=10000)\n",
    "#Using Doanes's formula\n",
    "hist, bin_edges = np.histogram(sample_lapl_10000, bins='doane')\n",
    "#fragmentation by intervals with included left borders\n",
    "ab = bin_edges\n",
    "df_lapl = pd.DataFrame({'midlle_values': (ab[:-1] + ab[1:]) / 2})\n",
    "df_lapl['numbers_in_interval'] = hist\n",
    "last = F_lapl_hard(ab[0])\n",
    "prob = []\n",
    "for i in range(1, len(ab) - 1):\n",
    "    prob.append(np.abs(F_lapl_hard(ab[i]) - last))\n",
    "    last = F_lapl_hard(ab[i])\n",
    "df_lapl['Probability'] = pd.Series(prob)\n",
    "df_lapl.drop(df_lapl.tail(1).index, inplace=True)\n",
    "df_lapl['nProbability'] = df_lapl['numbers_in_interval'].sum(\n",
    ") * df_lapl['Probability']\n",
    "df_lapl['xi'] = (df_lapl['numbers_in_interval'] -\n",
    "                 df_lapl['nProbability'])**2 / df_lapl['nProbability']\n",
    "chi_squared_lapl = df_lapl['xi'].sum()\n",
    "print(\n",
    "    f\"{'n = ' +str(len(sample_lapl_10000))},оцениваемый параметр = {np.around(omp_lapl(sample_lapl_10000),4)} {'статистика Пирсона = '+str(np.around((df_lapl['xi']).sum(),2))},{' количество степеней свободы = '+str(len(df_lapl['numbers_in_interval'])-2)}\"\n",
    ")"
   ]
  },
  {
   "cell_type": "code",
   "execution_count": 577,
   "metadata": {
    "ExecuteTime": {
     "end_time": "2019-12-14T22:40:41.528443Z",
     "start_time": "2019-12-14T22:40:29.309397Z"
    }
   },
   "outputs": [
    {
     "name": "stdout",
     "output_type": "stream",
     "text": [
      "n = 100000,оцениваемый параметр = 1.0 статистика Пирсона = 15.28, количество степеней свободы = 16\n"
     ]
    }
   ],
   "source": [
    "def F_lapl_hard(x):\n",
    "    if x <= lpl_mu:\n",
    "        return 0.5 * np.exp(omp_lapl(sample_lapl_100000) * (x - lpl_mu))\n",
    "    else:\n",
    "        return 1 - 0.5 * np.exp(-omp_lapl(sample_lapl_100000) * (x - lpl_mu))\n",
    "\n",
    "\n",
    "sample_lapl_100000 = laplace.rvs(scale=lpl_lam, loc=lpl_mu, size=100000)\n",
    "#Using Doanes's formula\n",
    "hist, bin_edges = np.histogram(sample_lapl_100000, bins='doane')\n",
    "#fragmentation by intervals with included left borders\n",
    "ab = bin_edges\n",
    "df_lapl = pd.DataFrame({'midlle_values': (ab[:-1] + ab[1:]) / 2})\n",
    "df_lapl['numbers_in_interval'] = hist\n",
    "last = F_lapl_hard(ab[0])\n",
    "prob = []\n",
    "for i in range(1, len(ab) - 1):\n",
    "    prob.append(np.abs(F_lapl_hard(ab[i]) - last))\n",
    "    last = F_lapl_hard(ab[i])\n",
    "df_lapl['Probability'] = pd.Series(prob)\n",
    "df_lapl.drop(df_lapl.tail(1).index, inplace=True)\n",
    "df_lapl['nProbability'] = df_lapl['numbers_in_interval'].sum(\n",
    ") * df_lapl['Probability']\n",
    "df_lapl['xi'] = (df_lapl['numbers_in_interval'] -\n",
    "                 df_lapl['nProbability'])**2 / df_lapl['nProbability']\n",
    "chi_squared_lapl = df_lapl['xi'].sum()\n",
    "print(\n",
    "    f\"{'n = ' +str(len(sample_lapl_100000))},оцениваемый параметр = {np.around(omp_lapl(sample_lapl_100000),4)} {'статистика Пирсона = '+str(np.around((df_lapl['xi']).sum(),2))},{' количество степеней свободы = '+str(len(df_lapl['numbers_in_interval'])-2)}\"\n",
    ")"
   ]
  },
  {
   "cell_type": "markdown",
   "metadata": {},
   "source": [
    "### Hard hypothesis $\\chi^2$ Poisson\n"
   ]
  },
  {
   "cell_type": "code",
   "execution_count": 353,
   "metadata": {
    "ExecuteTime": {
     "end_time": "2019-12-18T01:21:39.494926Z",
     "start_time": "2019-12-18T01:21:39.477981Z"
    },
    "code_folding": []
   },
   "outputs": [
    {
     "name": "stdout",
     "output_type": "stream",
     "text": [
      "n = 5, статистика Пирсона = 2.2, оцениваемый параметр = 3.8, количество степеней свободы = 2\n"
     ]
    }
   ],
   "source": [
    "sample_5 = poisson.rvs(p_lambda, size=5)\n",
    "\n",
    "\n",
    "def omp_poisson(sample_p):\n",
    "    return np.mean(sample_p)\n",
    "\n",
    "\n",
    "def probs_pois(x):\n",
    "    d = list(\n",
    "        map(\n",
    "            lambda z: ((omp_poisson(sample_5)**z * np.exp(-omp_poisson(\n",
    "                sample_5))) / math.factorial(z)), x))\n",
    "    return d\n",
    "\n",
    "\n",
    "UniqueVal, CountFreq = np.unique(sample_5, return_counts=True)\n",
    "df = pd.DataFrame({'k': UniqueVal, 'n_k': CountFreq})\n",
    "df['pbility_k'] = probs_pois(UniqueVal)\n",
    "# indexNam = df[df['n_k'] < 0.001 * (df['n_k'].sum())].index\n",
    "# df.drop(indexNam, inplace=True)\n",
    "df['npbility_k'] = df['n_k'].sum() * df['pbility_k']\n",
    "df['xi'] = (df['n_k'] - df['npbility_k'])**2 / df['npbility_k']\n",
    "print(\n",
    "    f\"{'n = ' +str(len(sample_5))}, {'статистика Пирсона = '+str(np.around((df['xi']).sum(),2))}, {'оцениваемый параметр = ' + str(omp_poisson(sample_5))},{' количество степеней свободы = '+str(len(df['k'])-2)}\"\n",
    ")"
   ]
  },
  {
   "cell_type": "code",
   "execution_count": 375,
   "metadata": {
    "ExecuteTime": {
     "end_time": "2019-12-18T01:21:39.494926Z",
     "start_time": "2019-12-18T01:21:39.477981Z"
    },
    "code_folding": []
   },
   "outputs": [
    {
     "name": "stdout",
     "output_type": "stream",
     "text": [
      "n = 10, статистика Пирсона = 1.62, оцениваемый параметр = 4.4, количество степеней свободы = 4\n"
     ]
    }
   ],
   "source": [
    "sample_10 = poisson.rvs(p_lambda, size=10)\n",
    "\n",
    "\n",
    "def omp_poisson(sample_p):\n",
    "    return np.mean(sample_p)\n",
    "\n",
    "\n",
    "def probs_pois(x):\n",
    "    d = list(\n",
    "        map(\n",
    "            lambda z: ((omp_poisson(sample_10)**z * np.exp(-omp_poisson(\n",
    "                sample_10))) / math.factorial(z)), x))\n",
    "    return d\n",
    "\n",
    "\n",
    "UniqueVal, CountFreq = np.unique(sample_10, return_counts=True)\n",
    "df = pd.DataFrame({'k': UniqueVal, 'n_k': CountFreq})\n",
    "df['pbility_k'] = probs_pois(UniqueVal)\n",
    "# indexNam = df[df['n_k'] < 0.001 * (df['n_k'].sum())].index\n",
    "# df.drop(indexNam, inplace=True)\n",
    "df['npbility_k'] = df['n_k'].sum() * df['pbility_k']\n",
    "df['xi'] = (df['n_k'] - df['npbility_k'])**2 / df['npbility_k']\n",
    "print(\n",
    "    f\"{'n = ' +str(len(sample_10))}, {'статистика Пирсона = '+str(np.around((df['xi']).sum(),2))}, {'оцениваемый параметр = ' + str(omp_poisson(sample_10))},{' количество степеней свободы = '+str(len(df['k'])-2)}\"\n",
    ")"
   ]
  },
  {
   "cell_type": "code",
   "execution_count": 390,
   "metadata": {
    "ExecuteTime": {
     "end_time": "2019-12-18T01:21:39.494926Z",
     "start_time": "2019-12-18T01:21:39.477981Z"
    },
    "code_folding": []
   },
   "outputs": [
    {
     "name": "stdout",
     "output_type": "stream",
     "text": [
      "n = 100, статистика Пирсона = 12.81, оцениваемый параметр = 4.89, количество степеней свободы = 11\n"
     ]
    }
   ],
   "source": [
    "sample_100 = poisson.rvs(p_lambda, size=100)\n",
    "\n",
    "\n",
    "def omp_poisson(sample_p):\n",
    "    return np.mean(sample_p)\n",
    "\n",
    "\n",
    "def probs_pois(x):\n",
    "    d = list(\n",
    "        map(\n",
    "            lambda z: ((omp_poisson(sample_100)**z * np.exp(-omp_poisson(\n",
    "                sample_100))) / math.factorial(z)), x))\n",
    "    return d\n",
    "\n",
    "\n",
    "UniqueVal, CountFreq = np.unique(sample_100, return_counts=True)\n",
    "df = pd.DataFrame({'k': UniqueVal, 'n_k': CountFreq})\n",
    "df['pbility_k'] = probs_pois(UniqueVal)\n",
    "indexNam = df[df['n_k'] < 0.001 * (df['n_k'].sum())].index\n",
    "df.drop(indexNam, inplace=True)\n",
    "df['npbility_k'] = df['n_k'].sum() * df['pbility_k']\n",
    "df['xi'] = (df['n_k'] - df['npbility_k'])**2 / df['npbility_k']\n",
    "print(\n",
    "    f\"{'n = ' +str(len(sample_100))}, {'статистика Пирсона = '+str(np.around((df['xi']).sum(),2))}, {'оцениваемый параметр = ' + str(omp_poisson(sample_100))},{' количество степеней свободы = '+str(len(df['k'])-2)}\"\n",
    ")"
   ]
  },
  {
   "cell_type": "markdown",
   "metadata": {},
   "source": [
    "n = 1000"
   ]
  },
  {
   "cell_type": "code",
   "execution_count": 516,
   "metadata": {
    "ExecuteTime": {
     "end_time": "2019-12-14T19:42:25.113244Z",
     "start_time": "2019-12-14T19:42:25.092300Z"
    },
    "code_folding": []
   },
   "outputs": [
    {
     "name": "stdout",
     "output_type": "stream",
     "text": [
      "n = 1000, статистика Пирсона = 22.04, оцениваемый параметр = 5.024, количество степеней свободы = 12\n"
     ]
    }
   ],
   "source": [
    "sample_1000 = poisson.rvs(p_lambda, size=1000)\n",
    "\n",
    "\n",
    "def omp_poisson(sample_p):\n",
    "    return np.mean(sample_p)\n",
    "\n",
    "\n",
    "def probs_pois(x):\n",
    "    d = list(\n",
    "        map(\n",
    "            lambda z: ((omp_poisson(sample_1000)**z * np.exp(-omp_poisson(\n",
    "                sample_1000))) / math.factorial(z)), x))\n",
    "    return d\n",
    "\n",
    "\n",
    "UniqueVal, CountFreq = np.unique(sample_1000, return_counts=True)\n",
    "df = pd.DataFrame({'k': UniqueVal, 'n_k': CountFreq})\n",
    "df['pbility_k'] = probs_pois(UniqueVal)\n",
    "indexNam = df[df['n_k'] < 0.001 * (df['n_k'].sum())].index\n",
    "df.drop(indexNam, inplace=True)\n",
    "df['npbility_k'] = df['n_k'].sum() * df['pbility_k']\n",
    "df['xi'] = (df['n_k'] - df['npbility_k'])**2 / df['npbility_k']\n",
    "print(\n",
    "    f\"{'n = ' +str(len(sample_1000))}, {'статистика Пирсона = '+str(np.around((df['xi']).sum(),2))}, {'оцениваемый параметр = ' + str(omp_poisson(sample_1000))},{' количество степеней свободы = '+str(len(df['k'])-2)}\"\n",
    ")"
   ]
  },
  {
   "cell_type": "markdown",
   "metadata": {},
   "source": [
    "n = 10000"
   ]
  },
  {
   "cell_type": "code",
   "execution_count": 476,
   "metadata": {
    "ExecuteTime": {
     "end_time": "2019-12-14T19:29:30.597823Z",
     "start_time": "2019-12-14T19:29:30.581861Z"
    }
   },
   "outputs": [
    {
     "name": "stdout",
     "output_type": "stream",
     "text": [
      "n = 10000, статистика Пирсона = 12.82, оцениваемый параметр = 4.9946, количество степеней свободы = 12\n"
     ]
    }
   ],
   "source": [
    "sample_10000 = poisson.rvs(p_lambda, size=10000)\n",
    "\n",
    "\n",
    "def omp_poisson(sample_p):\n",
    "    return np.mean(sample_p)\n",
    "\n",
    "\n",
    "def probs_pois(x):\n",
    "    d = list(\n",
    "        map(\n",
    "            lambda z: ((omp_poisson(sample_10000)**z * np.exp(-omp_poisson(\n",
    "                sample_10000))) / math.factorial(z)), x))\n",
    "    return d\n",
    "\n",
    "\n",
    "UniqueVal, CountFreq = np.unique(sample_10000, return_counts=True)\n",
    "df = pd.DataFrame({'k': UniqueVal, 'n_k': CountFreq})\n",
    "df['pbility_k'] = probs_pois(UniqueVal)\n",
    "indexNam = df[df['n_k'] < 0.001 * (df['n_k'].sum())].index\n",
    "df.drop(indexNam, inplace=True)\n",
    "df['npbility_k'] = df['n_k'].sum() * df['pbility_k']\n",
    "df['xi'] = (df['n_k'] - df['npbility_k'])**2 / df['npbility_k']\n",
    "print(\n",
    "    f\"{'n = ' +str(len(sample_10000))}, {'статистика Пирсона = '+str(np.around((df['xi']).sum(),2))}, {'оцениваемый параметр = ' + str(omp_poisson(sample_10000))},{' количество степеней свободы = '+str(len(df['k'])-2)}\"\n",
    ")"
   ]
  },
  {
   "cell_type": "code",
   "execution_count": 477,
   "metadata": {
    "ExecuteTime": {
     "end_time": "2019-12-14T19:29:31.990806Z",
     "start_time": "2019-12-14T19:29:31.956896Z"
    }
   },
   "outputs": [
    {
     "name": "stdout",
     "output_type": "stream",
     "text": [
      "n = 100000, статистика Пирсона = 5.77, оцениваемый параметр = 5.00763, количество степеней свободы = 12\n"
     ]
    }
   ],
   "source": [
    "sample_100000 = poisson.rvs(p_lambda, size=100000)\n",
    "\n",
    "\n",
    "def omp_poisson(sample_p):\n",
    "    return np.mean(sample_p)\n",
    "\n",
    "\n",
    "def probs_pois(x):\n",
    "    d = list(\n",
    "        map(\n",
    "            lambda z: ((omp_poisson(sample_100000)**z * np.exp(-omp_poisson(\n",
    "                sample_100000))) / math.factorial(z)), x))\n",
    "    return d\n",
    "\n",
    "\n",
    "UniqueVal, CountFreq = np.unique(sample_100000, return_counts=True)\n",
    "df = pd.DataFrame({'k': UniqueVal, 'n_k': CountFreq})\n",
    "df['pbility_k'] = probs_pois(UniqueVal)\n",
    "indexNam = df[df['n_k'] < 0.001 * (df['n_k'].sum())].index\n",
    "df.drop(indexNam, inplace=True)\n",
    "df['npbility_k'] = df['n_k'].sum() * df['pbility_k']\n",
    "df['xi'] = (df['n_k'] - df['npbility_k'])**2 / df['npbility_k']\n",
    "print(\n",
    "    f\"{'n = ' +str(len(sample_100000))}, {'статистика Пирсона = '+str(np.around((df['xi']).sum(),2))}, {'оцениваемый параметр = ' + str(omp_poisson(sample_100000))},{' количество степеней свободы = '+str(len(df['k'])-2)}\"\n",
    ")"
   ]
  },
  {
   "cell_type": "markdown",
   "metadata": {},
   "source": [
    "## Simple Kolmogorov hypothesis for Laplace"
   ]
  },
  {
   "cell_type": "code",
   "execution_count": 302,
   "metadata": {
    "ExecuteTime": {
     "end_time": "2019-12-18T00:02:03.901654Z",
     "start_time": "2019-12-18T00:02:03.895670Z"
    }
   },
   "outputs": [],
   "source": [
    "from scipy.special import kolmogorov\n",
    "\n",
    "\n",
    "def compute_quntile(cdf, a, y=0.001, max_range=30):\n",
    "    x = np.arange(-1, max_range, y)\n",
    "    for ss in x:\n",
    "        if cdf(ss) < a and cdf(ss + y) > a:\n",
    "            return ss + y\n",
    "\n",
    "\n",
    "def ecdf(x, s):\n",
    "    return s[s <= x].size / s.size\n",
    "\n",
    "\n",
    "lpl_lam_false = 1.5"
   ]
  },
  {
   "cell_type": "markdown",
   "metadata": {},
   "source": [
    "n = 5"
   ]
  },
  {
   "cell_type": "code",
   "execution_count": 282,
   "metadata": {
    "ExecuteTime": {
     "end_time": "2019-12-17T23:22:09.432664Z",
     "start_time": "2019-12-17T23:22:04.633071Z"
    }
   },
   "outputs": [
    {
     "name": "stdout",
     "output_type": "stream",
     "text": [
      "n = 5,Значение статистики D_n: 0.471, Значение статистики S_n = 0.545, Квантиль = 1.22\n",
      "n = 5,Значение статистики D_n: 0.471, Значение статистики S_n = 0.545, Квантиль = 1.36\n"
     ]
    }
   ],
   "source": [
    "sample_lapl_5 = laplace.rvs(scale=lpl_lam, loc=lpl_mu, size=5)\n",
    "FuL = laplace(scale=lpl_lam, loc=lpl_mu).cdf\n",
    "for alpha in [0.1, 0.05]:\n",
    "    FulN = lambda x: ecdf(x, sample_lapl_5)\n",
    "    vb = np.arange(-1, 16, 0.001)\n",
    "    D_n = max(map(lambda x: abs(FulN(x) - FuL(x)), vb))\n",
    "    K = lambda x: 1 - kolmogorov(x)\n",
    "    quant = compute_quntile(K, 1 - alpha)\n",
    "    S_n = np.sqrt(\n",
    "        len(sample_lapl_5)) * D_n + 1 / (6 * np.sqrt(len(sample_lapl_5)))\n",
    "    print(\n",
    "        f\"{'n = '+ str(len(sample_lapl_5))},Значение статистики D_n: {np.around(np.sqrt(len(sample_lapl_5))*D_n,3)},{' Значение статистики S_n = ' + str(np.around(S_n,3))}, Квантиль = {quant:.3}\"\n",
    "    )"
   ]
  },
  {
   "cell_type": "markdown",
   "metadata": {},
   "source": [
    "False check $\\lambda = 1.5$"
   ]
  },
  {
   "cell_type": "code",
   "execution_count": 306,
   "metadata": {
    "ExecuteTime": {
     "end_time": "2019-12-18T00:03:45.558485Z",
     "start_time": "2019-12-18T00:03:40.762306Z"
    }
   },
   "outputs": [
    {
     "name": "stdout",
     "output_type": "stream",
     "text": [
      "n = 5,Значение статистики D_n: 0.563, Значение статистики S_n = 0.638, Квантиль = 1.22\n",
      "n = 5,Значение статистики D_n: 0.563, Значение статистики S_n = 0.638, Квантиль = 1.36\n"
     ]
    }
   ],
   "source": [
    "sample_lapl_5 = laplace.rvs(scale=lpl_lam, loc=lpl_mu, size=5)\n",
    "FuL = laplace(scale=lpl_lam_false, loc=lpl_mu).cdf\n",
    "for alpha in [0.1, 0.05]:\n",
    "    FulN = lambda x: ecdf(x, sample_lapl_5)\n",
    "    vb = np.arange(-1, 16, 0.001)\n",
    "    D_n = max(map(lambda x: abs(FulN(x) - FuL(x)), vb))\n",
    "    K = lambda x: 1 - kolmogorov(x)\n",
    "    quant = compute_quntile(K, 1 - alpha)\n",
    "    S_n = np.sqrt(\n",
    "        len(sample_lapl_5)) * D_n + 1 / (6 * np.sqrt(len(sample_lapl_5)))\n",
    "    print(\n",
    "        f\"{'n = '+ str(len(sample_lapl_5))},Значение статистики D_n: {np.around(np.sqrt(len(sample_lapl_5))*D_n,3)},{' Значение статистики S_n = ' + str(np.around(S_n,3))}, Квантиль = {quant:.3}\"\n",
    "    )"
   ]
  },
  {
   "cell_type": "markdown",
   "metadata": {},
   "source": [
    "n = 10"
   ]
  },
  {
   "cell_type": "code",
   "execution_count": 295,
   "metadata": {
    "ExecuteTime": {
     "end_time": "2019-12-17T23:59:15.559264Z",
     "start_time": "2019-12-17T23:59:10.583777Z"
    }
   },
   "outputs": [
    {
     "name": "stdout",
     "output_type": "stream",
     "text": [
      "n = 10,Значение статистики D_n: 0.953, Значение статистики S_n = 1.006, Квантиль = 1.22\n",
      "n = 10,Значение статистики D_n: 0.953, Значение статистики S_n = 1.006, Квантиль = 1.36\n"
     ]
    }
   ],
   "source": [
    "sample_lapl_10 = laplace.rvs(scale=lpl_lam, loc=lpl_mu, size=10)\n",
    "FuL = laplace(scale=lpl_lam, loc=lpl_mu).cdf\n",
    "for alpha in [0.1, 0.05]:\n",
    "    FulN = lambda x: ecdf(x, sample_lapl_10)\n",
    "    vb = np.arange(-1, 16, 0.001)\n",
    "    D_n = max(map(lambda x: abs(FulN(x) - FuL(x)), vb))\n",
    "    K = lambda x: 1 - kolmogorov(x)\n",
    "    quant = compute_quntile(K, 1 - alpha)\n",
    "    S_n = np.sqrt(\n",
    "        len(sample_lapl_10)) * D_n + 1 / (6 * np.sqrt(len(sample_lapl_10)))\n",
    "    print(\n",
    "        f\"{'n = '+ str(len(sample_lapl_10))},Значение статистики D_n: {np.around(np.sqrt(len(sample_lapl_10))*D_n,3)},{' Значение статистики S_n = ' + str(np.around(S_n,3))}, Квантиль = {quant:.3}\"\n",
    "    )"
   ]
  },
  {
   "cell_type": "markdown",
   "metadata": {},
   "source": [
    "False check $\\lambda = 1.5$"
   ]
  },
  {
   "cell_type": "code",
   "execution_count": 313,
   "metadata": {
    "ExecuteTime": {
     "end_time": "2019-12-18T00:06:36.540917Z",
     "start_time": "2019-12-18T00:06:31.505982Z"
    }
   },
   "outputs": [
    {
     "name": "stdout",
     "output_type": "stream",
     "text": [
      "n = 10,Значение статистики D_n: 0.729, Значение статистики S_n = 0.782, Квантиль = 1.22\n",
      "n = 10,Значение статистики D_n: 0.729, Значение статистики S_n = 0.782, Квантиль = 1.36\n"
     ]
    }
   ],
   "source": [
    "sample_lapl_10 = laplace.rvs(scale=lpl_lam, loc=lpl_mu, size=10)\n",
    "FuL = laplace(scale=lpl_lam_false, loc=lpl_mu).cdf\n",
    "for alpha in [0.1, 0.05]:\n",
    "    FulN = lambda x: ecdf(x, sample_lapl_10)\n",
    "    vb = np.arange(-1, 16, 0.001)\n",
    "    D_n = max(map(lambda x: abs(FulN(x) - FuL(x)), vb))\n",
    "    K = lambda x: 1 - kolmogorov(x)\n",
    "    quant = compute_quntile(K, 1 - alpha)\n",
    "    S_n = np.sqrt(\n",
    "        len(sample_lapl_10)) * D_n + 1 / (6 * np.sqrt(len(sample_lapl_10)))\n",
    "    print(\n",
    "        f\"{'n = '+ str(len(sample_lapl_10))},Значение статистики D_n: {np.around(np.sqrt(len(sample_lapl_10))*D_n,3)},{' Значение статистики S_n = ' + str(np.around(S_n,3))}, Квантиль = {quant:.3}\"\n",
    "    )"
   ]
  },
  {
   "cell_type": "markdown",
   "metadata": {},
   "source": [
    "n = 100"
   ]
  },
  {
   "cell_type": "code",
   "execution_count": 289,
   "metadata": {
    "ExecuteTime": {
     "end_time": "2019-12-17T23:31:19.240934Z",
     "start_time": "2019-12-17T23:31:14.645081Z"
    }
   },
   "outputs": [
    {
     "name": "stdout",
     "output_type": "stream",
     "text": [
      "n = 100,Значение статистики D_n: 1.203, Значение статистики S_n = 1.219, Квантиль = 1.22\n",
      "n = 100,Значение статистики D_n: 1.203, Значение статистики S_n = 1.219, Квантиль = 1.36\n"
     ]
    }
   ],
   "source": [
    "sample_lapl_100 = laplace.rvs(scale=lpl_lam, loc=lpl_mu, size=100)\n",
    "FuL = laplace(scale=lpl_lam, loc=lpl_mu).cdf\n",
    "for alpha in [0.1, 0.05]:\n",
    "    FulN = lambda x: ecdf(x, sample_lapl_100)\n",
    "    vb = np.arange(-1, 16, 0.001)\n",
    "    D_n = max(map(lambda x: abs(FulN(x) - FuL(x)), vb))\n",
    "    K = lambda x: 1 - kolmogorov(x)\n",
    "    quant = compute_quntile(K, 1 - alpha)\n",
    "    S_n = np.sqrt(\n",
    "        len(sample_lapl_100)) * D_n + 1 / (6 * np.sqrt(len(sample_lapl_100)))\n",
    "    print(\n",
    "        f\"{'n = '+ str(len(sample_lapl_100))},Значение статистики D_n: {np.around(np.sqrt(len(sample_lapl_100))*D_n,3)},{' Значение статистики S_n = ' + str(np.around(S_n,3))}, Квантиль = {quant:.3}\"\n",
    "    )"
   ]
  },
  {
   "cell_type": "markdown",
   "metadata": {},
   "source": [
    "False check $\\lambda = 1.5$"
   ]
  },
  {
   "cell_type": "code",
   "execution_count": 317,
   "metadata": {
    "ExecuteTime": {
     "end_time": "2019-12-18T00:10:47.133516Z",
     "start_time": "2019-12-18T00:10:41.909446Z"
    }
   },
   "outputs": [
    {
     "name": "stdout",
     "output_type": "stream",
     "text": [
      "n = 100,Значение статистики D_n: 1.722, Значение статистики S_n = 1.739, Квантиль = 1.22\n",
      "n = 100,Значение статистики D_n: 1.722, Значение статистики S_n = 1.739, Квантиль = 1.36\n"
     ]
    }
   ],
   "source": [
    "sample_lapl_100 = laplace.rvs(scale=lpl_lam, loc=lpl_mu, size=100)\n",
    "FuL = laplace(scale=lpl_lam_false, loc=lpl_mu).cdf\n",
    "for alpha in [0.1, 0.05]:\n",
    "    FulN = lambda x: ecdf(x, sample_lapl_100)\n",
    "    vb = np.arange(-1, 16, 0.001)\n",
    "    D_n = max(map(lambda x: abs(FulN(x) - FuL(x)), vb))\n",
    "    K = lambda x: 1 - kolmogorov(x)\n",
    "    quant = compute_quntile(K, 1 - alpha)\n",
    "    S_n = np.sqrt(\n",
    "        len(sample_lapl_100)) * D_n + 1 / (6 * np.sqrt(len(sample_lapl_100)))\n",
    "    print(\n",
    "        f\"{'n = '+ str(len(sample_lapl_100))},Значение статистики D_n: {np.around(np.sqrt(len(sample_lapl_100))*D_n,3)},{' Значение статистики S_n = ' + str(np.around(S_n,3))}, Квантиль = {quant:.3}\"\n",
    "    )"
   ]
  },
  {
   "cell_type": "markdown",
   "metadata": {
    "ExecuteTime": {
     "end_time": "2019-12-14T13:55:08.946781Z",
     "start_time": "2019-12-14T13:55:08.926057Z"
    }
   },
   "source": [
    "n = 1000"
   ]
  },
  {
   "cell_type": "code",
   "execution_count": 460,
   "metadata": {
    "ExecuteTime": {
     "end_time": "2019-12-14T19:12:57.519478Z",
     "start_time": "2019-12-14T19:12:52.074962Z"
    }
   },
   "outputs": [
    {
     "name": "stdout",
     "output_type": "stream",
     "text": [
      "n = 1000,Значение статистики D_n: 1.5, Значение статистики S_n = 1.505, Квантиль = 1.22\n",
      "n = 1000,Значение статистики D_n: 1.5, Значение статистики S_n = 1.505, Квантиль = 1.36\n"
     ]
    }
   ],
   "source": [
    "sample_lapl_1000 = laplace.rvs(scale=lpl_lam, loc=lpl_mu, size=1000)\n",
    "FuL = laplace(scale=lpl_lam, loc=lpl_mu).cdf\n",
    "for alpha in [0.1, 0.05]:\n",
    "    FulN = lambda x: ecdf(x, sample_lapl_1000)\n",
    "    vb = np.arange(-1, 16, 0.001)\n",
    "    D_n = max(map(lambda x: abs(FulN(x) - FuL(x)), vb))\n",
    "    K = lambda x: 1 - kolmogorov(x)\n",
    "    quant = compute_quntile(K, 1 - alpha)\n",
    "    S_n = np.sqrt(\n",
    "        len(sample_lapl_1000)) * D_n + 1 / (6 * np.sqrt(len(sample_lapl_1000)))\n",
    "    print(\n",
    "        f\"{'n = '+ str(len(sample_lapl_1000))},Значение статистики D_n: {np.around(np.sqrt(len(sample_lapl_1000))*D_n,3)},{' Значение статистики S_n = ' + str(np.around(S_n,3))}, Квантиль = {quant:.3}\"\n",
    "    )"
   ]
  },
  {
   "cell_type": "markdown",
   "metadata": {},
   "source": [
    "False check $\\lambda = 1.5$"
   ]
  },
  {
   "cell_type": "code",
   "execution_count": 320,
   "metadata": {
    "ExecuteTime": {
     "end_time": "2019-12-18T00:13:39.248385Z",
     "start_time": "2019-12-18T00:13:33.997372Z"
    }
   },
   "outputs": [
    {
     "name": "stdout",
     "output_type": "stream",
     "text": [
      "n = 1000,Значение статистики D_n: 3.066, Значение статистики S_n = 3.072, Квантиль = 1.22\n",
      "n = 1000,Значение статистики D_n: 3.066, Значение статистики S_n = 3.072, Квантиль = 1.36\n"
     ]
    }
   ],
   "source": [
    "sample_lapl_1000 = laplace.rvs(scale=lpl_lam, loc=lpl_mu, size=1000)\n",
    "FuL = laplace(scale=lpl_lam_false, loc=lpl_mu).cdf\n",
    "for alpha in [0.1, 0.05]:\n",
    "    FulN = lambda x: ecdf(x, sample_lapl_1000)\n",
    "    vb = np.arange(-1, 16, 0.001)\n",
    "    D_n = max(map(lambda x: abs(FulN(x) - FuL(x)), vb))\n",
    "    K = lambda x: 1 - kolmogorov(x)\n",
    "    quant = compute_quntile(K, 1 - alpha)\n",
    "    S_n = np.sqrt(\n",
    "        len(sample_lapl_1000)) * D_n + 1 / (6 * np.sqrt(len(sample_lapl_1000)))\n",
    "    print(\n",
    "        f\"{'n = '+ str(len(sample_lapl_1000))},Значение статистики D_n: {np.around(np.sqrt(len(sample_lapl_1000))*D_n,3)},{' Значение статистики S_n = ' + str(np.around(S_n,3))}, Квантиль = {quant:.3}\"\n",
    "    )"
   ]
  },
  {
   "cell_type": "markdown",
   "metadata": {},
   "source": [
    "n  = 10000"
   ]
  },
  {
   "cell_type": "code",
   "execution_count": 464,
   "metadata": {
    "ExecuteTime": {
     "end_time": "2019-12-14T19:15:44.219734Z",
     "start_time": "2019-12-14T19:15:37.477748Z"
    }
   },
   "outputs": [
    {
     "name": "stdout",
     "output_type": "stream",
     "text": [
      "n = 10000,Значение статистики D_n: 0.632, Значение статистики S_n = 0.634, Квантиль = 1.22\n",
      "n = 10000,Значение статистики D_n: 0.632, Значение статистики S_n = 0.634, Квантиль = 1.36\n"
     ]
    }
   ],
   "source": [
    "sample_lapl_10000 = laplace.rvs(scale=lpl_lam, loc=lpl_mu, size=10000)\n",
    "FuL = laplace(scale=lpl_lam, loc=lpl_mu).cdf\n",
    "for alpha in [0.1, 0.05]:\n",
    "    FulN = lambda x: ecdf(x, sample_lapl_10000)\n",
    "    vb = np.arange(-1, 16, 0.001)\n",
    "    D_n = max(map(lambda x: abs(FulN(x) - FuL(x)), vb))\n",
    "    K = lambda x: 1 - kolmogorov(x)\n",
    "    quant = compute_quntile(K, 1 - alpha)\n",
    "    S_n = np.sqrt(len(sample_lapl_10000)) * D_n + 1 / (\n",
    "        6 * np.sqrt(len(sample_lapl_10000)))\n",
    "    print(\n",
    "        f\"{'n = '+ str(len(sample_lapl_10000))},Значение статистики D_n: {np.around(np.sqrt(len(sample_lapl_10000))*D_n,3)},{' Значение статистики S_n = ' + str(np.around(S_n,3))}, Квантиль = {quant:.3}\"\n",
    "    )"
   ]
  },
  {
   "cell_type": "markdown",
   "metadata": {},
   "source": [
    "False check $\\lambda = 1.5$"
   ]
  },
  {
   "cell_type": "code",
   "execution_count": 323,
   "metadata": {
    "ExecuteTime": {
     "end_time": "2019-12-18T00:15:25.647954Z",
     "start_time": "2019-12-18T00:15:18.441217Z"
    }
   },
   "outputs": [
    {
     "name": "stdout",
     "output_type": "stream",
     "text": [
      "n = 10000,Значение статистики D_n: 7.849, Значение статистики S_n = 7.851, Квантиль = 1.22\n",
      "n = 10000,Значение статистики D_n: 7.849, Значение статистики S_n = 7.851, Квантиль = 1.36\n"
     ]
    }
   ],
   "source": [
    "sample_lapl_10000 = laplace.rvs(scale=lpl_lam, loc=lpl_mu, size=10000)\n",
    "FuL = laplace(scale=lpl_lam_false, loc=lpl_mu).cdf\n",
    "for alpha in [0.1, 0.05]:\n",
    "    FulN = lambda x: ecdf(x, sample_lapl_10000)\n",
    "    vb = np.arange(-1, 16, 0.001)\n",
    "    D_n = max(map(lambda x: abs(FulN(x) - FuL(x)), vb))\n",
    "    K = lambda x: 1 - kolmogorov(x)\n",
    "    quant = compute_quntile(K, 1 - alpha)\n",
    "    S_n = np.sqrt(len(sample_lapl_10000)) * D_n + 1 / (\n",
    "        6 * np.sqrt(len(sample_lapl_10000)))\n",
    "    print(\n",
    "        f\"{'n = '+ str(len(sample_lapl_10000))},Значение статистики D_n: {np.around(np.sqrt(len(sample_lapl_10000))*D_n,3)},{' Значение статистики S_n = ' + str(np.around(S_n,3))}, Квантиль = {quant:.3}\"\n",
    "    )"
   ]
  },
  {
   "cell_type": "markdown",
   "metadata": {},
   "source": [
    "n = 100000"
   ]
  },
  {
   "cell_type": "code",
   "execution_count": 469,
   "metadata": {
    "ExecuteTime": {
     "end_time": "2019-12-14T19:18:36.189640Z",
     "start_time": "2019-12-14T19:18:15.047155Z"
    }
   },
   "outputs": [
    {
     "name": "stdout",
     "output_type": "stream",
     "text": [
      "n = 100000,Значение статистики D_n: 0.64, Значение статистики S_n = 0.641, Квантиль = 1.22\n",
      "n = 100000,Значение статистики D_n: 0.64, Значение статистики S_n = 0.641, Квантиль = 1.36\n"
     ]
    }
   ],
   "source": [
    "sample_lapl_100000 = laplace.rvs(scale=lpl_lam, loc=lpl_mu, size=100000)\n",
    "FuL = laplace(scale=lpl_lam, loc=lpl_mu).cdf\n",
    "for alpha in [0.1, 0.05]:\n",
    "    FulN = lambda x: ecdf(x, sample_lapl_100000)\n",
    "    vb = np.arange(-1, 16, 0.001)\n",
    "    D_n = max(map(lambda x: abs(FulN(x) - FuL(x)), vb))\n",
    "    K = lambda x: 1 - kolmogorov(x)\n",
    "    quant = compute_quntile(K, 1 - alpha)\n",
    "    S_n = np.sqrt(len(sample_lapl_100000)) * D_n + 1 / (\n",
    "        6 * np.sqrt(len(sample_lapl_100000)))\n",
    "    print(\n",
    "        f\"{'n = '+ str(len(sample_lapl_100000))},Значение статистики D_n: {np.around(np.sqrt(len(sample_lapl_100000))*D_n,3)},{' Значение статистики S_n = ' + str(np.around(S_n,3))}, Квантиль = {quant:.3}\"\n",
    "    )"
   ]
  },
  {
   "cell_type": "markdown",
   "metadata": {},
   "source": [
    "False check $\\lambda = 1.5$"
   ]
  },
  {
   "cell_type": "code",
   "execution_count": 326,
   "metadata": {
    "ExecuteTime": {
     "end_time": "2019-12-18T00:18:00.398864Z",
     "start_time": "2019-12-18T00:17:39.756906Z"
    }
   },
   "outputs": [
    {
     "name": "stdout",
     "output_type": "stream",
     "text": [
      "n = 100000,Значение статистики D_n: 23.611, Значение статистики S_n = 23.611, Квантиль = 1.22\n",
      "n = 100000,Значение статистики D_n: 23.611, Значение статистики S_n = 23.611, Квантиль = 1.36\n"
     ]
    }
   ],
   "source": [
    "sample_lapl_100000 = laplace.rvs(scale=lpl_lam, loc=lpl_mu, size=100000)\n",
    "FuL = laplace(scale=lpl_lam_false, loc=lpl_mu).cdf\n",
    "for alpha in [0.1, 0.05]:\n",
    "    FulN = lambda x: ecdf(x, sample_lapl_100000)\n",
    "    vb = np.arange(-1, 16, 0.001)\n",
    "    D_n = max(map(lambda x: abs(FulN(x) - FuL(x)), vb))\n",
    "    K = lambda x: 1 - kolmogorov(x)\n",
    "    quant = compute_quntile(K, 1 - alpha)\n",
    "    S_n = np.sqrt(len(sample_lapl_100000)) * D_n + 1 / (\n",
    "        6 * np.sqrt(len(sample_lapl_100000)))\n",
    "    print(\n",
    "        f\"{'n = '+ str(len(sample_lapl_100000))},Значение статистики D_n: {np.around(np.sqrt(len(sample_lapl_100000))*D_n,3)},{' Значение статистики S_n = ' + str(np.around(S_n,3))}, Квантиль = {quant:.3}\"\n",
    "    )"
   ]
  },
  {
   "cell_type": "markdown",
   "metadata": {},
   "source": [
    "## Hard Kolmogorov hypothesis for Laplace\n",
    "\n"
   ]
  },
  {
   "cell_type": "code",
   "execution_count": 336,
   "metadata": {
    "ExecuteTime": {
     "end_time": "2019-12-18T00:47:57.210658Z",
     "start_time": "2019-12-18T00:47:54.698787Z"
    }
   },
   "outputs": [
    {
     "name": "stdout",
     "output_type": "stream",
     "text": [
      "n = 5,Значение статистики D_n: 0.671, Значение статистики S_n = 0.746,Оцениваемый параметр = 1.6877\n"
     ]
    }
   ],
   "source": [
    "sample_lapl_5 = laplace.rvs(scale=lpl_lam, loc=lpl_mu, size=5)\n",
    "FuL = laplace(scale=omp_lapl(sample_lapl_5), loc=lpl_mu).cdf\n",
    "FulN = lambda x: ecdf(x, sample_lapl_5)\n",
    "vb = np.arange(-1, 16, 0.001)\n",
    "D_n = max(map(lambda x: abs(FulN(x) - FuL(x)), vb))\n",
    "S_n = np.sqrt(len(sample_lapl_5)) * D_n + 1 / (6 * np.sqrt(len(sample_lapl_5)))\n",
    "print(\n",
    "    f\"{'n = '+ str(len(sample_lapl_5))},Значение статистики D_n: {np.around(np.sqrt(len(sample_lapl_5))*D_n,3)},{' Значение статистики S_n = ' + str(np.around(S_n,3))},Оцениваемый параметр = {np.around(omp_lapl(sample_lapl_5),4)}\"\n",
    ")"
   ]
  },
  {
   "cell_type": "code",
   "execution_count": 340,
   "metadata": {
    "ExecuteTime": {
     "end_time": "2019-12-18T00:47:57.210658Z",
     "start_time": "2019-12-18T00:47:54.698787Z"
    }
   },
   "outputs": [
    {
     "name": "stdout",
     "output_type": "stream",
     "text": [
      "n = 10,Значение статистики D_n: 0.958, Значение статистики S_n = 1.011,Оцениваемый параметр = 0.9842\n"
     ]
    }
   ],
   "source": [
    "sample_lapl_10 = laplace.rvs(scale=lpl_lam, loc=lpl_mu, size=10)\n",
    "FuL = laplace(scale=omp_lapl(sample_lapl_10), loc=lpl_mu).cdf\n",
    "FulN = lambda x: ecdf(x, sample_lapl_10)\n",
    "vb = np.arange(-1, 16, 0.001)\n",
    "D_n = max(map(lambda x: abs(FulN(x) - FuL(x)), vb))\n",
    "S_n = np.sqrt(\n",
    "    len(sample_lapl_10)) * D_n + 1 / (6 * np.sqrt(len(sample_lapl_10)))\n",
    "print(\n",
    "    f\"{'n = '+ str(len(sample_lapl_10))},Значение статистики D_n: {np.around(np.sqrt(len(sample_lapl_10))*D_n,3)},{' Значение статистики S_n = ' + str(np.around(S_n,3))},Оцениваемый параметр = {np.around(omp_lapl(sample_lapl_10),4)}\"\n",
    ")"
   ]
  },
  {
   "cell_type": "code",
   "execution_count": 668,
   "metadata": {
    "ExecuteTime": {
     "end_time": "2019-12-15T23:57:48.125591Z",
     "start_time": "2019-12-15T23:57:45.502768Z"
    }
   },
   "outputs": [
    {
     "name": "stdout",
     "output_type": "stream",
     "text": [
      "n = 100,Значение статистики D_n: 1.176, Значение статистики S_n = 1.193,Оцениваемый параметр = 1.049\n"
     ]
    }
   ],
   "source": [
    "sample_lapl_100 = laplace.rvs(scale=lpl_lam, loc=lpl_mu, size=100)\n",
    "FuL = laplace(scale=omp_lapl(sample_lapl_100), loc=lpl_mu).cdf\n",
    "FulN = lambda x: ecdf(x, sample_lapl_100)\n",
    "vb = np.arange(-1, 16, 0.001)\n",
    "D_n = max(map(lambda x: abs(FulN(x) - FuL(x)), vb))\n",
    "S_n = np.sqrt(\n",
    "    len(sample_lapl_100)) * D_n + 1 / (6 * np.sqrt(len(sample_lapl_100)))\n",
    "print(\n",
    "    f\"{'n = '+ str(len(sample_lapl_100))},Значение статистики D_n: {np.around(np.sqrt(len(sample_lapl_100))*D_n,3)},{' Значение статистики S_n = ' + str(np.around(S_n,3))},Оцениваемый параметр = {np.around(omp_lapl(sample_lapl_100),4)}\"\n",
    ")"
   ]
  },
  {
   "cell_type": "code",
   "execution_count": 669,
   "metadata": {
    "ExecuteTime": {
     "end_time": "2019-12-16T00:02:39.399425Z",
     "start_time": "2019-12-16T00:02:35.924826Z"
    }
   },
   "outputs": [
    {
     "name": "stdout",
     "output_type": "stream",
     "text": [
      "n = 1000,Значение статистики D_n: 0.781, Значение статистики S_n = 0.786,Оцениваемый параметр = 0.9684\n"
     ]
    }
   ],
   "source": [
    "sample_lapl_1000 = laplace.rvs(scale=lpl_lam, loc=lpl_mu, size=1000)\n",
    "FuL = laplace(scale=omp_lapl(sample_lapl_1000), loc=lpl_mu).cdf\n",
    "FulN = lambda x: ecdf(x, sample_lapl_1000)\n",
    "vb = np.arange(-1, 16, 0.001)\n",
    "D_n = max(map(lambda x: abs(FulN(x) - FuL(x)), vb))\n",
    "S_n = np.sqrt(\n",
    "    len(sample_lapl_1000)) * D_n + 1 / (6 * np.sqrt(len(sample_lapl_1000)))\n",
    "print(\n",
    "    f\"{'n = '+ str(len(sample_lapl_1000))},Значение статистики D_n: {np.around(np.sqrt(len(sample_lapl_1000))*D_n,3)},{' Значение статистики S_n = ' + str(np.around(S_n,3))}, Оцениваемый параметр = {np.around(omp_lapl(sample_lapl_1000),4)}\"\n",
    ")"
   ]
  },
  {
   "cell_type": "code",
   "execution_count": 672,
   "metadata": {
    "ExecuteTime": {
     "end_time": "2019-12-16T00:02:39.399425Z",
     "start_time": "2019-12-16T00:02:35.924826Z"
    }
   },
   "outputs": [
    {
     "name": "stdout",
     "output_type": "stream",
     "text": [
      "n = 10000,Значение статистики D_n: 0.672, Значение статистики S_n = 0.674,Оцениваемый параметр = 0.9916 \n"
     ]
    }
   ],
   "source": [
    "sample_lapl_10000 = laplace.rvs(scale=lpl_lam, loc=lpl_mu, size=10000)\n",
    "FuL = laplace(scale=omp_lapl(sample_lapl_10000), loc=lpl_mu).cdf\n",
    "FulN = lambda x: ecdf(x, sample_lapl_10000)\n",
    "vb = np.arange(-1, 16, 0.001)\n",
    "D_n = max(map(lambda x: abs(FulN(x) - FuL(x)), vb))\n",
    "S_n = np.sqrt(\n",
    "    len(sample_lapl_10000)) * D_n + 1 / (6 * np.sqrt(len(sample_lapl_10000)))\n",
    "print(\n",
    "    f\"{'n = '+ str(len(sample_lapl_10000))},Значение статистики D_n: {np.around(np.sqrt(len(sample_lapl_10000))*D_n,3)},{' Значение статистики S_n = ' + str(np.around(S_n,3))},Оцениваемый параметр = {np.around(omp_lapl(sample_lapl_10000),4)} \"\n",
    ")"
   ]
  },
  {
   "cell_type": "code",
   "execution_count": 673,
   "metadata": {
    "ExecuteTime": {
     "end_time": "2019-12-16T00:02:50.082454Z",
     "start_time": "2019-12-16T00:02:39.401388Z"
    }
   },
   "outputs": [
    {
     "name": "stdout",
     "output_type": "stream",
     "text": [
      "n = 100000,Значение статистики D_n: 1.173, Значение статистики S_n = 1.174,Оцениваемый параметр = 0.9994 \n"
     ]
    }
   ],
   "source": [
    "sample_lapl_100000 = laplace.rvs(scale=lpl_lam, loc=lpl_mu, size=100000)\n",
    "FuL = laplace(scale=omp_lapl(sample_lapl_100000), loc=lpl_mu).cdf\n",
    "FulN = lambda x: ecdf(x, sample_lapl_100000)\n",
    "vb = np.arange(-1, 16, 0.001)\n",
    "D_n = max(map(lambda x: abs(FulN(x) - FuL(x)), vb))\n",
    "K = lambda x: 1 - kolmogorov(x)\n",
    "quant = compute_quntile(K, 1 - alpha)\n",
    "S_n = np.sqrt(\n",
    "    len(sample_lapl_100000)) * D_n + 1 / (6 * np.sqrt(len(sample_lapl_100000)))\n",
    "print(\n",
    "    f\"{'n = '+ str(len(sample_lapl_100000))},Значение статистики D_n: {np.around(np.sqrt(len(sample_lapl_100000))*D_n,3)},{' Значение статистики S_n = ' + str(np.around(S_n,3))},Оцениваемый параметр = {np.around(omp_lapl(sample_lapl_100000),4)} \"\n",
    ")"
   ]
  },
  {
   "cell_type": "markdown",
   "metadata": {},
   "source": [
    "### Smirnov criteria"
   ]
  },
  {
   "cell_type": "code",
   "execution_count": 444,
   "metadata": {
    "ExecuteTime": {
     "end_time": "2019-12-18T01:44:53.290665Z",
     "start_time": "2019-12-18T01:43:35.899254Z"
    },
    "scrolled": false
   },
   "outputs": [
    {
     "name": "stdout",
     "output_type": "stream",
     "text": [
      "Для  выборок: 5-5 D_n_m = 0.6, критическая = 0.7716, квантиль = 1.22, H0 принимается\n",
      "Для  выборок: 5-10 D_n_m = 0.6, критическая = 0.6682, квантиль = 1.22, H0 принимается\n",
      "Для  выборок: 5-100 D_n_m = 0.65, критическая = 0.5591, квантиль = 1.22, H0 отклоняется\n",
      "Для  выборок: 5-1000 D_n_m = 0.596, критическая = 0.547, квантиль = 1.22, H0 отклоняется\n",
      "Для  выборок: 5-10000 D_n_m = 0.6033, критическая = 0.5457, квантиль = 1.22, H0 отклоняется\n",
      "Для  выборок: 5-100000 D_n_m = 0.605, критическая = 0.5456, квантиль = 1.22, H0 отклоняется\n",
      "Для  выборок: 10-5 D_n_m = 0.3, критическая = 0.6682, квантиль = 1.22, H0 принимается\n",
      "Для  выборок: 10-10 D_n_m = 0.3, критическая = 0.5456, квантиль = 1.22, H0 принимается\n",
      "Для  выборок: 10-100 D_n_m = 0.18, критическая = 0.4046, квантиль = 1.22, H0 принимается\n",
      "Для  выборок: 10-1000 D_n_m = 0.18, критическая = 0.3877, квантиль = 1.22, H0 принимается\n",
      "Для  выборок: 10-10000 D_n_m = 0.1714, критическая = 0.386, квантиль = 1.22, H0 принимается\n",
      "Для  выборок: 10-100000 D_n_m = 0.1703, критическая = 0.3858, квантиль = 1.22, H0 принимается\n",
      "Для  выборок: 100-5 D_n_m = 0.52, критическая = 0.5591, квантиль = 1.22, H0 принимается\n",
      "Для  выборок: 100-10 D_n_m = 0.46, критическая = 0.4046, квантиль = 1.22, H0 отклоняется\n",
      "Для  выборок: 100-100 D_n_m = 0.07, критическая = 0.1725, квантиль = 1.22, H0 принимается\n",
      "Для  выборок: 100-1000 D_n_m = 0.113, критическая = 0.128, квантиль = 1.22, H0 принимается\n",
      "Для  выборок: 100-10000 D_n_m = 0.107, критическая = 0.1226, квантиль = 1.22, H0 принимается\n",
      "Для  выборок: 100-100000 D_n_m = 0.1029, критическая = 0.1221, квантиль = 1.22, H0 принимается\n",
      "Для  выборок: 1000-5 D_n_m = 0.404, критическая = 0.547, квантиль = 1.22, H0 принимается\n",
      "Для  выборок: 1000-10 D_n_m = 0.217, критическая = 0.3877, квантиль = 1.22, H0 принимается\n",
      "Для  выборок: 1000-100 D_n_m = 0.062, критическая = 0.128, квантиль = 1.22, H0 принимается\n",
      "Для  выборок: 1000-1000 D_n_m = 0.054, критическая = 0.0546, квантиль = 1.22, H0 принимается\n",
      "Для  выборок: 1000-10000 D_n_m = 0.0211, критическая = 0.0405, квантиль = 1.22, H0 принимается\n",
      "Для  выборок: 1000-100000 D_n_m = 0.0223, критическая = 0.0388, квантиль = 1.22, H0 принимается\n",
      "Для  выборок: 10000-5 D_n_m = 0.3076, критическая = 0.5457, квантиль = 1.22, H0 принимается\n",
      "Для  выборок: 10000-10 D_n_m = 0.149, критическая = 0.386, квантиль = 1.22, H0 принимается\n",
      "Для  выборок: 10000-100 D_n_m = 0.0815, критическая = 0.1226, квантиль = 1.22, H0 принимается\n",
      "Для  выборок: 10000-1000 D_n_m = 0.0319, критическая = 0.0405, квантиль = 1.22, H0 принимается\n",
      "Для  выборок: 10000-10000 D_n_m = 0.0085, критическая = 0.0173, квантиль = 1.22, H0 принимается\n",
      "Для  выборок: 10000-100000 D_n_m = 0.0058, критическая = 0.0128, квантиль = 1.22, H0 принимается\n",
      "Для  выборок: 100000-5 D_n_m = 0.3281, критическая = 0.5456, квантиль = 1.22, H0 принимается\n",
      "Для  выборок: 100000-10 D_n_m = 0.3942, критическая = 0.3858, квантиль = 1.22, H0 отклоняется\n",
      "Для  выборок: 100000-100 D_n_m = 0.0682, критическая = 0.1221, квантиль = 1.22, H0 принимается\n",
      "Для  выборок: 100000-1000 D_n_m = 0.0224, критическая = 0.0388, квантиль = 1.22, H0 принимается\n",
      "Для  выборок: 100000-10000 D_n_m = 0.009, критическая = 0.0128, квантиль = 1.22, H0 принимается\n",
      "Для  выборок: 100000-100000 D_n_m = 0.0057, критическая = 0.0055, квантиль = 1.22, H0 отклоняется\n"
     ]
    }
   ],
   "source": [
    "#quant = 0.1\n",
    "qua = 1.22\n",
    "ps = [5, 10, 100, 1000, 10000, 100000]\n",
    "for n in range(0, 6):\n",
    "    lsp = laplace.rvs(scale=lpl_lam, loc=lpl_mu, size=ps[n])\n",
    "    for m in range(0, 6):\n",
    "        lsps = laplace.rvs(scale=lpl_lam, loc=lpl_mu, size=ps[m])\n",
    "        xx = np.arange(-1, 11, 0.001)\n",
    "        DnM = max(list(map(lambda x: abs(ecdf(x, lsp) - ecdf(x, lsps)), xx)))\n",
    "        Quant = qua * np.sqrt(1 / len(lsp) + 1 / len(lsps))\n",
    "        if DnM > Quant:\n",
    "            strs = ' H0 отклоняется'\n",
    "        else:\n",
    "            strs = ' H0 принимается'\n",
    "        print(\n",
    "            f\"Для  выборок: {len(lsp)}-{len(lsps)} D_n_m = {np.around(DnM,4)}, критическая = {np.around(Quant,4)}, квантиль = {qua},{strs}\"\n",
    "        )"
   ]
  },
  {
   "cell_type": "code",
   "execution_count": 445,
   "metadata": {
    "ExecuteTime": {
     "end_time": "2019-12-18T01:47:25.403337Z",
     "start_time": "2019-12-18T01:46:07.707958Z"
    }
   },
   "outputs": [
    {
     "name": "stdout",
     "output_type": "stream",
     "text": [
      "Для  выборок: 5-5 D_n_m = 0.4, критическая = 0.8601, квантиль = 1.36, H0 принимается\n",
      "Для  выборок: 5-10 D_n_m = 0.3, критическая = 0.7449, квантиль = 1.36, H0 принимается\n",
      "Для  выборок: 5-100 D_n_m = 0.34, критическая = 0.6232, квантиль = 1.36, H0 принимается\n",
      "Для  выборок: 5-1000 D_n_m = 0.381, критическая = 0.6097, квантиль = 1.36, H0 принимается\n",
      "Для  выборок: 5-10000 D_n_m = 0.3949, критическая = 0.6084, квантиль = 1.36, H0 принимается\n",
      "Для  выборок: 5-100000 D_n_m = 0.3866, критическая = 0.6082, квантиль = 1.36, H0 принимается\n",
      "Для  выборок: 10-5 D_n_m = 0.3, критическая = 0.7449, квантиль = 1.36, H0 принимается\n",
      "Для  выборок: 10-10 D_n_m = 0.2, критическая = 0.6082, квантиль = 1.36, H0 принимается\n",
      "Для  выборок: 10-100 D_n_m = 0.16, критическая = 0.4511, квантиль = 1.36, H0 принимается\n",
      "Для  выборок: 10-1000 D_n_m = 0.229, критическая = 0.4322, квантиль = 1.36, H0 принимается\n",
      "Для  выборок: 10-10000 D_n_m = 0.2135, критическая = 0.4303, квантиль = 1.36, H0 принимается\n",
      "Для  выборок: 10-100000 D_n_m = 0.2095, критическая = 0.4301, квантиль = 1.36, H0 принимается\n",
      "Для  выборок: 100-5 D_n_m = 0.27, критическая = 0.6232, квантиль = 1.36, H0 принимается\n",
      "Для  выборок: 100-10 D_n_m = 0.19, критическая = 0.4511, квантиль = 1.36, H0 принимается\n",
      "Для  выборок: 100-100 D_n_m = 0.13, критическая = 0.1923, квантиль = 1.36, H0 принимается\n",
      "Для  выборок: 100-1000 D_n_m = 0.089, критическая = 0.1426, квантиль = 1.36, H0 принимается\n",
      "Для  выборок: 100-10000 D_n_m = 0.0633, критическая = 0.1367, квантиль = 1.36, H0 принимается\n",
      "Для  выборок: 100-100000 D_n_m = 0.0668, критическая = 0.1361, квантиль = 1.36, H0 принимается\n",
      "Для  выборок: 1000-5 D_n_m = 0.273, критическая = 0.6097, квантиль = 1.36, H0 принимается\n",
      "Для  выборок: 1000-10 D_n_m = 0.136, критическая = 0.4322, квантиль = 1.36, H0 принимается\n",
      "Для  выборок: 1000-100 D_n_m = 0.086, критическая = 0.1426, квантиль = 1.36, H0 принимается\n",
      "Для  выборок: 1000-1000 D_n_m = 0.047, критическая = 0.0608, квантиль = 1.36, H0 принимается\n",
      "Для  выборок: 1000-10000 D_n_m = 0.0401, критическая = 0.0451, квантиль = 1.36, H0 принимается\n",
      "Для  выборок: 1000-100000 D_n_m = 0.0386, критическая = 0.0432, квантиль = 1.36, H0 принимается\n",
      "Для  выборок: 10000-5 D_n_m = 0.2244, критическая = 0.6084, квантиль = 1.36, H0 принимается\n",
      "Для  выборок: 10000-10 D_n_m = 0.2976, критическая = 0.4303, квантиль = 1.36, H0 принимается\n",
      "Для  выборок: 10000-100 D_n_m = 0.0928, критическая = 0.1367, квантиль = 1.36, H0 принимается\n",
      "Для  выборок: 10000-1000 D_n_m = 0.0247, критическая = 0.0451, квантиль = 1.36, H0 принимается\n",
      "Для  выборок: 10000-10000 D_n_m = 0.0123, критическая = 0.0192, квантиль = 1.36, H0 принимается\n",
      "Для  выборок: 10000-100000 D_n_m = 0.0066, критическая = 0.0143, квантиль = 1.36, H0 принимается\n",
      "Для  выборок: 100000-5 D_n_m = 0.4409, критическая = 0.6082, квантиль = 1.36, H0 принимается\n",
      "Для  выборок: 100000-10 D_n_m = 0.4083, критическая = 0.4301, квантиль = 1.36, H0 принимается\n",
      "Для  выборок: 100000-100 D_n_m = 0.0914, критическая = 0.1361, квантиль = 1.36, H0 принимается\n",
      "Для  выборок: 100000-1000 D_n_m = 0.0256, критическая = 0.0432, квантиль = 1.36, H0 принимается\n",
      "Для  выборок: 100000-10000 D_n_m = 0.0065, критическая = 0.0143, квантиль = 1.36, H0 принимается\n",
      "Для  выборок: 100000-100000 D_n_m = 0.0059, критическая = 0.0061, квантиль = 1.36, H0 принимается\n"
     ]
    }
   ],
   "source": [
    "#quant = 0.05\n",
    "qua = 1.36\n",
    "ps = [5, 10, 100, 1000, 10000, 100000]\n",
    "for n in range(0, 6):\n",
    "    lsp = laplace.rvs(scale=lpl_lam, loc=lpl_mu, size=ps[n])\n",
    "    for m in range(0, 6):\n",
    "        lsps = laplace.rvs(scale=lpl_lam, loc=lpl_mu, size=ps[m])\n",
    "        xx = np.arange(-1, 11, 0.001)\n",
    "        DnM = max(list(map(lambda x: abs(ecdf(x, lsp) - ecdf(x, lsps)), xx)))\n",
    "        Quant = qua * np.sqrt(1 / len(lsp) + 1 / len(lsps))\n",
    "        if DnM > Quant:\n",
    "            strs = ' H0 отклоняется'\n",
    "        else:\n",
    "            strs = ' H0 принимается'\n",
    "        print(\n",
    "            f\"Для  выборок: {len(lsp)}-{len(lsps)} D_n_m = {np.around(DnM,4)}, критическая = {np.around(Quant,4)}, квантиль = {qua},{strs}\"\n",
    "        )"
   ]
  },
  {
   "cell_type": "markdown",
   "metadata": {},
   "source": [
    "## Parametric hypothesis\n"
   ]
  },
  {
   "cell_type": "code",
   "execution_count": 502,
   "metadata": {
    "ExecuteTime": {
     "end_time": "2019-12-18T19:50:55.950129Z",
     "start_time": "2019-12-18T19:50:55.889217Z"
    }
   },
   "outputs": [],
   "source": [
    "quant_normal = [0.81594, 0.828944]\n",
    "p_lambda = 5\n",
    "sample5, sample10, sample100, sample1000, sample10000, sample100000 = [], [], [], [], [],[]\n",
    "for i in range(5):\n",
    "    sample5.append(poisson.rvs(p_lambda, size=5))\n",
    "    sample10.append(poisson.rvs(p_lambda, size=10))\n",
    "    sample100.append(poisson.rvs(p_lambda, size=100))\n",
    "    sample1000.append(poisson.rvs(p_lambda, size=1000))\n",
    "    sample10000.append(poisson.rvs(p_lambda, size=10000))\n",
    "    sample100000.append(poisson.rvs(p_lambda, size=100000))"
   ]
  },
  {
   "cell_type": "code",
   "execution_count": 454,
   "metadata": {
    "ExecuteTime": {
     "end_time": "2019-12-18T17:44:49.323891Z",
     "start_time": "2019-12-18T17:44:49.319922Z"
    }
   },
   "outputs": [],
   "source": [
    "def critical(sample, lambdas):\n",
    "    return (sum(sample) - lambdas * len(sample)) / np.sqrt(\n",
    "        lambdas * len(sample))"
   ]
  },
  {
   "cell_type": "code",
   "execution_count": 503,
   "metadata": {
    "ExecuteTime": {
     "end_time": "2019-12-18T19:50:57.732779Z",
     "start_time": "2019-12-18T19:50:57.173830Z"
    },
    "scrolled": false
   },
   "outputs": [
    {
     "name": "stdout",
     "output_type": "stream",
     "text": [
      "----------------------------------alpha = 0.1-----------------------------------\n",
      "                                     n = 5                                      \n",
      " Значение = -0.4, Квантиль = 0.81594, Гипотеза H0 принимается \n",
      " Значение = -0.2, Квантиль = 0.81594, Гипотеза H0 принимается \n",
      " Значение = 0.2, Квантиль = 0.81594, Гипотеза H0 принимается \n",
      " Значение = 0.4, Квантиль = 0.81594, Гипотеза H0 принимается \n",
      " Значение = 0.6, Квантиль = 0.81594, Гипотеза H0 принимается \n",
      "                                     n = 10                                     \n",
      " Значение = 0.0, Квантиль = 0.81594, Гипотеза H0 принимается \n",
      " Значение = 1.2728, Квантиль = 0.81594, Гипотеза H0 отвергается \n",
      " Значение = 0.8485, Квантиль = 0.81594, Гипотеза H0 отвергается \n",
      " Значение = 0.8485, Квантиль = 0.81594, Гипотеза H0 отвергается \n",
      " Значение = -1.5556, Квантиль = 0.81594, Гипотеза H0 принимается \n",
      "                                    n = 100                                     \n",
      " Значение = -0.4472, Квантиль = 0.81594, Гипотеза H0 принимается \n",
      " Значение = 0.6261, Квантиль = 0.81594, Гипотеза H0 принимается \n",
      " Значение = -1.5652, Квантиль = 0.81594, Гипотеза H0 принимается \n",
      " Значение = 0.8944, Квантиль = 0.81594, Гипотеза H0 отвергается \n",
      " Значение = -0.5367, Квантиль = 0.81594, Гипотеза H0 принимается \n",
      "                                    n = 1000                                    \n",
      " Значение = -0.3111, Квантиль = 0.81594, Гипотеза H0 принимается \n",
      " Значение = -2.291, Квантиль = 0.81594, Гипотеза H0 принимается \n",
      " Значение = -0.0141, Квантиль = 0.81594, Гипотеза H0 принимается \n",
      " Значение = -0.6647, Квантиль = 0.81594, Гипотеза H0 принимается \n",
      " Значение = -2.0789, Квантиль = 0.81594, Гипотеза H0 принимается \n",
      "                                   n = 10000                                    \n",
      " Значение = -1.6413, Квантиль = 0.81594, Гипотеза H0 принимается \n",
      " Значение = 0.7245, Квантиль = 0.81594, Гипотеза H0 принимается \n",
      " Значение = 1.0823, Квантиль = 0.81594, Гипотеза H0 отвергается \n",
      " Значение = 0.6977, Квантиль = 0.81594, Гипотеза H0 принимается \n",
      " Значение = 1.0107, Квантиль = 0.81594, Гипотеза H0 отвергается \n",
      "                                   n = 100000                                   \n",
      " Значение = -0.5388, Квантиль = 0.81594, Гипотеза H0 принимается \n",
      " Значение = -0.8273, Квантиль = 0.81594, Гипотеза H0 принимается \n",
      " Значение = 0.2758, Квантиль = 0.81594, Гипотеза H0 принимается \n",
      " Значение = -0.6746, Квантиль = 0.81594, Гипотеза H0 принимается \n",
      " Значение = 0.1909, Квантиль = 0.81594, Гипотеза H0 принимается \n",
      "----------------------------------alpha = 0.05----------------------------------\n",
      "                                     n = 5                                      \n",
      " Значение = -0.4, Квантиль = 0.828944, Гипотеза H0 принимается \n",
      " Значение = -0.2, Квантиль = 0.828944, Гипотеза H0 принимается \n",
      " Значение = 0.2, Квантиль = 0.828944, Гипотеза H0 принимается \n",
      " Значение = 0.4, Квантиль = 0.828944, Гипотеза H0 принимается \n",
      " Значение = 0.6, Квантиль = 0.828944, Гипотеза H0 принимается \n",
      "                                     n = 10                                     \n",
      " Значение = 0.0, Квантиль = 0.828944, Гипотеза H0 принимается \n",
      " Значение = 1.2728, Квантиль = 0.828944, Гипотеза H0 отвергается \n",
      " Значение = 0.8485, Квантиль = 0.828944, Гипотеза H0 отвергается \n",
      " Значение = 0.8485, Квантиль = 0.828944, Гипотеза H0 отвергается \n",
      " Значение = -1.5556, Квантиль = 0.828944, Гипотеза H0 принимается \n",
      "                                    n = 100                                     \n",
      " Значение = -0.4472, Квантиль = 0.828944, Гипотеза H0 принимается \n",
      " Значение = 0.6261, Квантиль = 0.828944, Гипотеза H0 принимается \n",
      " Значение = -1.5652, Квантиль = 0.828944, Гипотеза H0 принимается \n",
      " Значение = 0.8944, Квантиль = 0.828944, Гипотеза H0 отвергается \n",
      " Значение = -0.5367, Квантиль = 0.828944, Гипотеза H0 принимается \n",
      "                                    n = 1000                                    \n",
      " Значение = -0.3111, Квантиль = 0.828944, Гипотеза H0 принимается \n",
      " Значение = -2.291, Квантиль = 0.828944, Гипотеза H0 принимается \n",
      " Значение = -0.0141, Квантиль = 0.828944, Гипотеза H0 принимается \n",
      " Значение = -0.6647, Квантиль = 0.828944, Гипотеза H0 принимается \n",
      " Значение = -2.0789, Квантиль = 0.828944, Гипотеза H0 принимается \n",
      "                                   n = 10000                                    \n",
      " Значение = -1.6413, Квантиль = 0.828944, Гипотеза H0 принимается \n",
      " Значение = 0.7245, Квантиль = 0.828944, Гипотеза H0 принимается \n",
      " Значение = 1.0823, Квантиль = 0.828944, Гипотеза H0 отвергается \n",
      " Значение = 0.6977, Квантиль = 0.828944, Гипотеза H0 принимается \n",
      " Значение = 1.0107, Квантиль = 0.828944, Гипотеза H0 отвергается \n",
      "                                   n = 100000                                   \n",
      " Значение = -0.5388, Квантиль = 0.828944, Гипотеза H0 принимается \n",
      " Значение = -0.8273, Квантиль = 0.828944, Гипотеза H0 принимается \n",
      " Значение = 0.2758, Квантиль = 0.828944, Гипотеза H0 принимается \n",
      " Значение = -0.6746, Квантиль = 0.828944, Гипотеза H0 принимается \n",
      " Значение = 0.1909, Квантиль = 0.828944, Гипотеза H0 принимается \n"
     ]
    }
   ],
   "source": [
    "#lambda_0 = 5\n",
    "#lambda_1 = 8\n",
    "p_lambda = 5\n",
    "for j in range(len(quant_normal)):\n",
    "    print(f'alpha = {0.1 if j == 0 else 0.05}'.center(80, '-'))\n",
    "    for i in [\n",
    "            sample5, sample10, sample100, sample1000, sample10000, sample100000\n",
    "    ]:\n",
    "        print(f'n = {len(i[0])}'.center(80))\n",
    "        for k in i:\n",
    "            if critical(k, p_lambda) > quant_normal[j]:\n",
    "                print(\n",
    "                    f' Значение = {np.round(critical(k,p_lambda),4)}, Квантиль = {quant_normal[j]}, Гипотеза H0 отвергается '\n",
    "                )\n",
    "            else:\n",
    "                print(\n",
    "                    f' Значение = {np.round(critical(k,p_lambda),4)}, Квантиль = {quant_normal[j]}, Гипотеза H0 принимается '\n",
    "                )"
   ]
  },
  {
   "cell_type": "code",
   "execution_count": 510,
   "metadata": {
    "ExecuteTime": {
     "end_time": "2019-12-18T20:14:23.649031Z",
     "start_time": "2019-12-18T20:14:23.571434Z"
    }
   },
   "outputs": [],
   "source": [
    "#lambda_0 = 8\n",
    "#lambda_1 = 2\n",
    "p_lambda = 8\n",
    "sample5, sample10, sample100, sample1000, sample10000, sample100000 = [], [], [], [], [],[]\n",
    "for i in range(5):\n",
    "    sample5.append(poisson.rvs(p_lambda, size=5))\n",
    "    sample10.append(poisson.rvs(p_lambda, size=10))\n",
    "    sample100.append(poisson.rvs(p_lambda, size=100))\n",
    "    sample1000.append(poisson.rvs(p_lambda, size=1000))\n",
    "    sample10000.append(poisson.rvs(p_lambda, size=10000))\n",
    "    sample100000.append(poisson.rvs(p_lambda, size=100000))"
   ]
  },
  {
   "cell_type": "code",
   "execution_count": 511,
   "metadata": {
    "ExecuteTime": {
     "end_time": "2019-12-18T20:14:25.857457Z",
     "start_time": "2019-12-18T20:14:25.219589Z"
    },
    "scrolled": false
   },
   "outputs": [
    {
     "name": "stdout",
     "output_type": "stream",
     "text": [
      "----------------------------------alpha = 0.1-----------------------------------\n",
      "                                     n = 5                                      \n",
      " Значение = 0.1581, Квантиль = 0.81594, Гипотеза H0 принимается \n",
      " Значение = 0.3162, Квантиль = 0.81594, Гипотеза H0 принимается \n",
      " Значение = 0.6325, Квантиль = 0.81594, Гипотеза H0 принимается \n",
      " Значение = 1.5811, Квантиль = 0.81594, Гипотеза H0 отвергается \n",
      " Значение = 1.2649, Квантиль = 0.81594, Гипотеза H0 отвергается \n",
      "                                     n = 10                                     \n",
      " Значение = 0.0, Квантиль = 0.81594, Гипотеза H0 принимается \n",
      " Значение = 1.0062, Квантиль = 0.81594, Гипотеза H0 отвергается \n",
      " Значение = -0.8944, Квантиль = 0.81594, Гипотеза H0 принимается \n",
      " Значение = 0.3354, Квантиль = 0.81594, Гипотеза H0 принимается \n",
      " Значение = -0.3354, Квантиль = 0.81594, Гипотеза H0 принимается \n",
      "                                    n = 100                                     \n",
      " Значение = 1.1314, Квантиль = 0.81594, Гипотеза H0 отвергается \n",
      " Значение = -0.5657, Квантиль = 0.81594, Гипотеза H0 принимается \n",
      " Значение = -1.3081, Квантиль = 0.81594, Гипотеза H0 принимается \n",
      " Значение = -0.7071, Квантиль = 0.81594, Гипотеза H0 принимается \n",
      " Значение = 1.3789, Квантиль = 0.81594, Гипотеза H0 отвергается \n",
      "                                    n = 1000                                    \n",
      " Значение = -0.2124, Квантиль = 0.81594, Гипотеза H0 принимается \n",
      " Значение = -0.3913, Квантиль = 0.81594, Гипотеза H0 принимается \n",
      " Значение = 2.3143, Квантиль = 0.81594, Гипотеза H0 отвергается \n",
      " Значение = -0.7044, Квантиль = 0.81594, Гипотеза H0 принимается \n",
      " Значение = -1.0621, Квантиль = 0.81594, Гипотеза H0 принимается \n",
      "                                   n = 10000                                    \n",
      " Значение = -0.4207, Квантиль = 0.81594, Гипотеза H0 принимается \n",
      " Значение = 1.7819, Квантиль = 0.81594, Гипотеза H0 отвергается \n",
      " Значение = -0.5303, Квантиль = 0.81594, Гипотеза H0 принимается \n",
      " Значение = 0.1874, Квантиль = 0.81594, Гипотеза H0 принимается \n",
      " Значение = -0.2015, Квантиль = 0.81594, Гипотеза H0 принимается \n",
      "                                   n = 100000                                   \n",
      " Значение = -0.9369, Квантиль = 0.81594, Гипотеза H0 принимается \n",
      " Значение = 0.6149, Квантиль = 0.81594, Гипотеза H0 принимается \n",
      " Значение = 0.1945, Квантиль = 0.81594, Гипотеза H0 принимается \n",
      " Значение = 0.3667, Квантиль = 0.81594, Гипотеза H0 принимается \n",
      " Значение = -0.4293, Квантиль = 0.81594, Гипотеза H0 принимается \n",
      "----------------------------------alpha = 0.05----------------------------------\n",
      "                                     n = 5                                      \n",
      " Значение = 0.1581, Квантиль = 0.828944, Гипотеза H0 принимается \n",
      " Значение = 0.3162, Квантиль = 0.828944, Гипотеза H0 принимается \n",
      " Значение = 0.6325, Квантиль = 0.828944, Гипотеза H0 принимается \n",
      " Значение = 1.5811, Квантиль = 0.828944, Гипотеза H0 отвергается \n",
      " Значение = 1.2649, Квантиль = 0.828944, Гипотеза H0 отвергается \n",
      "                                     n = 10                                     \n",
      " Значение = 0.0, Квантиль = 0.828944, Гипотеза H0 принимается \n",
      " Значение = 1.0062, Квантиль = 0.828944, Гипотеза H0 отвергается \n",
      " Значение = -0.8944, Квантиль = 0.828944, Гипотеза H0 принимается \n",
      " Значение = 0.3354, Квантиль = 0.828944, Гипотеза H0 принимается \n",
      " Значение = -0.3354, Квантиль = 0.828944, Гипотеза H0 принимается \n",
      "                                    n = 100                                     \n",
      " Значение = 1.1314, Квантиль = 0.828944, Гипотеза H0 отвергается \n",
      " Значение = -0.5657, Квантиль = 0.828944, Гипотеза H0 принимается \n",
      " Значение = -1.3081, Квантиль = 0.828944, Гипотеза H0 принимается \n",
      " Значение = -0.7071, Квантиль = 0.828944, Гипотеза H0 принимается \n",
      " Значение = 1.3789, Квантиль = 0.828944, Гипотеза H0 отвергается \n",
      "                                    n = 1000                                    \n",
      " Значение = -0.2124, Квантиль = 0.828944, Гипотеза H0 принимается \n",
      " Значение = -0.3913, Квантиль = 0.828944, Гипотеза H0 принимается \n",
      " Значение = 2.3143, Квантиль = 0.828944, Гипотеза H0 отвергается \n",
      " Значение = -0.7044, Квантиль = 0.828944, Гипотеза H0 принимается \n",
      " Значение = -1.0621, Квантиль = 0.828944, Гипотеза H0 принимается \n",
      "                                   n = 10000                                    \n",
      " Значение = -0.4207, Квантиль = 0.828944, Гипотеза H0 принимается \n",
      " Значение = 1.7819, Квантиль = 0.828944, Гипотеза H0 отвергается \n",
      " Значение = -0.5303, Квантиль = 0.828944, Гипотеза H0 принимается \n",
      " Значение = 0.1874, Квантиль = 0.828944, Гипотеза H0 принимается \n",
      " Значение = -0.2015, Квантиль = 0.828944, Гипотеза H0 принимается \n",
      "                                   n = 100000                                   \n",
      " Значение = -0.9369, Квантиль = 0.828944, Гипотеза H0 принимается \n",
      " Значение = 0.6149, Квантиль = 0.828944, Гипотеза H0 принимается \n",
      " Значение = 0.1945, Квантиль = 0.828944, Гипотеза H0 принимается \n",
      " Значение = 0.3667, Квантиль = 0.828944, Гипотеза H0 принимается \n",
      " Значение = -0.4293, Квантиль = 0.828944, Гипотеза H0 принимается \n"
     ]
    }
   ],
   "source": [
    "#lambda_0 = 8\n",
    "#lambda_1 = 2\n",
    "p_lambda = 8\n",
    "for j in range(len(quant_normal)):\n",
    "    print(f'alpha = {0.1 if j == 0 else 0.05}'.center(80, '-'))\n",
    "    for i in [\n",
    "            sample5, sample10, sample100, sample1000, sample10000, sample100000\n",
    "    ]:\n",
    "        print(f'n = {len(i[0])}'.center(80))\n",
    "        for k in i:\n",
    "            if critical(k, p_lambda) > quant_normal[j]:\n",
    "                print(\n",
    "                    f' Значение = {np.round(critical(k,p_lambda),4)}, Квантиль = {quant_normal[j]}, Гипотеза H0 отвергается '\n",
    "                )\n",
    "            else:\n",
    "                print(\n",
    "                    f' Значение = {np.round(critical(k,p_lambda),4)}, Квантиль = {quant_normal[j]}, Гипотеза H0 принимается '\n",
    "                )"
   ]
  },
  {
   "cell_type": "markdown",
   "metadata": {},
   "source": [
    "False check\n"
   ]
  },
  {
   "cell_type": "code",
   "execution_count": 512,
   "metadata": {
    "ExecuteTime": {
     "end_time": "2019-12-18T20:15:24.599787Z",
     "start_time": "2019-12-18T20:15:24.524300Z"
    }
   },
   "outputs": [],
   "source": [
    "#lambda_0 = 8\n",
    "#lambda_1 = 2\n",
    "p_lambda = 8\n",
    "sample5, sample10, sample100, sample1000, sample10000, sample100000 = [], [], [], [], [],[]\n",
    "for i in range(5):\n",
    "    sample5.append(poisson.rvs(p_lambda, size=5))\n",
    "    sample10.append(poisson.rvs(p_lambda, size=10))\n",
    "    sample100.append(poisson.rvs(p_lambda, size=100))\n",
    "    sample1000.append(poisson.rvs(p_lambda, size=1000))\n",
    "    sample10000.append(poisson.rvs(p_lambda, size=10000))\n",
    "    sample100000.append(poisson.rvs(p_lambda, size=100000))"
   ]
  },
  {
   "cell_type": "code",
   "execution_count": 513,
   "metadata": {
    "ExecuteTime": {
     "end_time": "2019-12-18T20:15:27.031968Z",
     "start_time": "2019-12-18T20:15:26.449782Z"
    }
   },
   "outputs": [
    {
     "name": "stdout",
     "output_type": "stream",
     "text": [
      "----------------------------------alpha = 0.1-----------------------------------\n",
      "                                     n = 5                                      \n",
      " Значение = 0.2387, Квантиль = 0.81594, Гипотеза H0 принимается \n",
      " Значение = 3.1027, Квантиль = 0.81594, Гипотеза H0 отвергается \n",
      " Значение = 0.716, Квантиль = 0.81594, Гипотеза H0 принимается \n",
      " Значение = -0.3978, Квантиль = 0.81594, Гипотеза H0 принимается \n",
      " Значение = -0.3978, Квантиль = 0.81594, Гипотеза H0 принимается \n",
      "                                     n = 10                                     \n",
      " Значение = -1.3501, Квантиль = 0.81594, Гипотеза H0 принимается \n",
      " Значение = 0.6751, Квантиль = 0.81594, Гипотеза H0 принимается \n",
      " Значение = 1.2376, Квантиль = 0.81594, Гипотеза H0 отвергается \n",
      " Значение = 0.225, Квантиль = 0.81594, Гипотеза H0 принимается \n",
      " Значение = 0.5625, Квантиль = 0.81594, Гипотеза H0 принимается \n",
      "                                    n = 100                                     \n",
      " Значение = -0.249, Квантиль = 0.81594, Гипотеза H0 принимается \n",
      " Значение = 0.9606, Квантиль = 0.81594, Гипотеза H0 отвергается \n",
      " Значение = -0.3558, Квантиль = 0.81594, Гипотеза H0 принимается \n",
      " Значение = 1.6366, Квантиль = 0.81594, Гипотеза H0 отвергается \n",
      " Значение = 0.3202, Квантиль = 0.81594, Гипотеза H0 принимается \n",
      "                                    n = 1000                                    \n",
      " Значение = 1.2151, Квантиль = 0.81594, Гипотеза H0 отвергается \n",
      " Значение = -0.8551, Квантиль = 0.81594, Гипотеза H0 принимается \n",
      " Значение = 0.7651, Квантиль = 0.81594, Гипотеза H0 принимается \n",
      " Значение = -0.2138, Квантиль = 0.81594, Гипотеза H0 принимается \n",
      " Значение = 0.4838, Квантиль = 0.81594, Гипотеза H0 принимается \n",
      "                                   n = 10000                                    \n",
      " Значение = 4.0915, Квантиль = 0.81594, Гипотеза H0 отвергается \n",
      " Значение = 3.0704, Квантиль = 0.81594, Гипотеза H0 отвергается \n",
      " Значение = 3.9955, Квантиль = 0.81594, Гипотеза H0 отвергается \n",
      " Значение = 4.0453, Квантиль = 0.81594, Гипотеза H0 отвергается \n",
      " Значение = 3.2021, Квантиль = 0.81594, Гипотеза H0 отвергается \n",
      "                                   n = 100000                                   \n",
      " Значение = 12.9059, Квантиль = 0.81594, Гипотеза H0 отвергается \n",
      " Значение = 11.6773, Квантиль = 0.81594, Гипотеза H0 отвергается \n",
      " Значение = 11.0022, Квантиль = 0.81594, Гипотеза H0 отвергается \n",
      " Значение = 11.0157, Квантиль = 0.81594, Гипотеза H0 отвергается \n",
      " Значение = 10.595, Квантиль = 0.81594, Гипотеза H0 отвергается \n",
      "----------------------------------alpha = 0.05----------------------------------\n",
      "                                     n = 5                                      \n",
      " Значение = 0.2387, Квантиль = 0.828944, Гипотеза H0 принимается \n",
      " Значение = 3.1027, Квантиль = 0.828944, Гипотеза H0 отвергается \n",
      " Значение = 0.716, Квантиль = 0.828944, Гипотеза H0 принимается \n",
      " Значение = -0.3978, Квантиль = 0.828944, Гипотеза H0 принимается \n",
      " Значение = -0.3978, Квантиль = 0.828944, Гипотеза H0 принимается \n",
      "                                     n = 10                                     \n",
      " Значение = -1.3501, Квантиль = 0.828944, Гипотеза H0 принимается \n",
      " Значение = 0.6751, Квантиль = 0.828944, Гипотеза H0 принимается \n",
      " Значение = 1.2376, Квантиль = 0.828944, Гипотеза H0 отвергается \n",
      " Значение = 0.225, Квантиль = 0.828944, Гипотеза H0 принимается \n",
      " Значение = 0.5625, Квантиль = 0.828944, Гипотеза H0 принимается \n",
      "                                    n = 100                                     \n",
      " Значение = -0.249, Квантиль = 0.828944, Гипотеза H0 принимается \n",
      " Значение = 0.9606, Квантиль = 0.828944, Гипотеза H0 отвергается \n",
      " Значение = -0.3558, Квантиль = 0.828944, Гипотеза H0 принимается \n",
      " Значение = 1.6366, Квантиль = 0.828944, Гипотеза H0 отвергается \n",
      " Значение = 0.3202, Квантиль = 0.828944, Гипотеза H0 принимается \n",
      "                                    n = 1000                                    \n",
      " Значение = 1.2151, Квантиль = 0.828944, Гипотеза H0 отвергается \n",
      " Значение = -0.8551, Квантиль = 0.828944, Гипотеза H0 принимается \n",
      " Значение = 0.7651, Квантиль = 0.828944, Гипотеза H0 принимается \n",
      " Значение = -0.2138, Квантиль = 0.828944, Гипотеза H0 принимается \n",
      " Значение = 0.4838, Квантиль = 0.828944, Гипотеза H0 принимается \n",
      "                                   n = 10000                                    \n",
      " Значение = 4.0915, Квантиль = 0.828944, Гипотеза H0 отвергается \n",
      " Значение = 3.0704, Квантиль = 0.828944, Гипотеза H0 отвергается \n",
      " Значение = 3.9955, Квантиль = 0.828944, Гипотеза H0 отвергается \n",
      " Значение = 4.0453, Квантиль = 0.828944, Гипотеза H0 отвергается \n",
      " Значение = 3.2021, Квантиль = 0.828944, Гипотеза H0 отвергается \n",
      "                                   n = 100000                                   \n",
      " Значение = 12.9059, Квантиль = 0.828944, Гипотеза H0 отвергается \n",
      " Значение = 11.6773, Квантиль = 0.828944, Гипотеза H0 отвергается \n",
      " Значение = 11.0022, Квантиль = 0.828944, Гипотеза H0 отвергается \n",
      " Значение = 11.0157, Квантиль = 0.828944, Гипотеза H0 отвергается \n",
      " Значение = 10.595, Квантиль = 0.828944, Гипотеза H0 отвергается \n"
     ]
    }
   ],
   "source": [
    "#lambda_0 = 8\n",
    "#lambda_1 = 2\n",
    "p_lambda = 7.9\n",
    "for j in range(len(quant_normal)):\n",
    "    print(f'alpha = {0.1 if j == 0 else 0.05}'.center(80, '-'))\n",
    "    for i in [\n",
    "            sample5, sample10, sample100, sample1000, sample10000, sample100000\n",
    "    ]:\n",
    "        print(f'n = {len(i[0])}'.center(80))\n",
    "        for k in i:\n",
    "            if critical(k, p_lambda) > quant_normal[j]:\n",
    "                print(\n",
    "                    f' Значение = {np.round(critical(k,p_lambda),4)}, Квантиль = {quant_normal[j]}, Гипотеза H0 отвергается '\n",
    "                )\n",
    "            else:\n",
    "                print(\n",
    "                    f' Значение = {np.round(critical(k,p_lambda),4)}, Квантиль = {quant_normal[j]}, Гипотеза H0 принимается '\n",
    "                )"
   ]
  },
  {
   "cell_type": "code",
   "execution_count": null,
   "metadata": {},
   "outputs": [],
   "source": []
  }
 ],
 "metadata": {
  "kernelspec": {
   "display_name": "Python 3",
   "language": "python",
   "name": "python3"
  },
  "language_info": {
   "codemirror_mode": {
    "name": "ipython",
    "version": 3
   },
   "file_extension": ".py",
   "mimetype": "text/x-python",
   "name": "python",
   "nbconvert_exporter": "python",
   "pygments_lexer": "ipython3",
   "version": "3.7.3"
  }
 },
 "nbformat": 4,
 "nbformat_minor": 2
}
